{
 "cells": [
  {
   "cell_type": "code",
   "execution_count": null,
   "metadata": {
    "collapsed": true
   },
   "outputs": [],
   "source": [
    "#Collection of article search data\n",
    "import requests\n",
    "import time\n",
    "import datetime\n",
    "import os\n",
    "import json\n",
    "q='hillary'\n",
    "#s='20150101'\n",
    "#end = '20160101'\n",
    "\n",
    "if not os.path.exists('Midterm/Data/ArticalSearch1/'+str(q)):\n",
    "    os.makedirs('Midterm/Data/ArticalSearch1/'+str(q))\n",
    "else:\n",
    "    for i in range(0,25):\n",
    "        dat=requests.get('https://api.nytimes.com/svc/search/v2/articlesearch.json?q='+str(q)+'&begin_date=20160101&end_date=20160331&page='+str(i)+'&api-key=d7b1c6f47fb64eb8bd4538013285baa4').json()\n",
    "        with open('Midterm/Data/ArticalSearch1/'+str(q)+'/'+str(i)+'.json','w')  as outfile:\n",
    "            json.dump(dat,outfile)\n",
    "            time.sleep(0.75)\n",
    "    for k in range(0,25):\n",
    "        dat=requests.get('https://api.nytimes.com/svc/search/v2/articlesearch.json?q='+str(q)+'&begin_date=20160401'+'&end_date=20160630&page='+str(k)+'&api-key=d7b1c6f47fb64eb8bd4538013285baa4').json()\n",
    "        with open('Midterm/Data/ArticalSearch1/'+str(q)+'/'+str(i+1)+'.json','w')  as outfile:\n",
    "            json.dump(dat,outfile)\n",
    "            i=i+1\n",
    "            time.sleep(0.75)\n",
    "    for k in range(0,25):\n",
    "        dat=requests.get('https://api.nytimes.com/svc/search/v2/articlesearch.json?q='+str(q)+'&begin_date=20160701'+'&end_date=20160930&page='+str(k)+'&api-key=d7b1c6f47fb64eb8bd4538013285baa4').json()\n",
    "        with open('Midterm/Data/ArticalSearch1/'+str(q)+'/'+str(i+1)+'.json','w')  as outfile:\n",
    "            json.dump(dat,outfile)\n",
    "            i=i+1\n",
    "            time.sleep(0.75)\n",
    "    for k in range(0,25):\n",
    "        dat=requests.get('https://api.nytimes.com/svc/search/v2/articlesearch.json?q='+str(q)+'&begin_date=20161001'+'&end_date=201601231&page='+str(k)+'&api-key=d7b1c6f47fb64eb8bd4538013285baa4').json()\n",
    "        with open('Midterm/Data/ArticalSearch1/'+str(q)+'/'+str(i+1)+'.json','w')  as outfile:\n",
    "            json.dump(dat,outfile)\n",
    "            i=i+1\n",
    "            time.sleep(0.75)\n",
    "\n"
   ]
  },
  {
   "cell_type": "code",
   "execution_count": null,
   "metadata": {
    "collapsed": true
   },
   "outputs": [],
   "source": [
    "#appending into a list\n",
    "import json, os\n",
    "src_loc='/Midterm/Data/ArticalSearch1/hillary/'\n",
    "tgt_loc='/Midterm/Data/ArticalSearch1/hillary_json_split'\n",
    "if not os.path.exists(tgt_loc):\n",
    "    os.makedirs(tgt_loc)\n",
    "d=[]\n",
    "for filename in os.listdir(src_loc):\n",
    "    if filename.endswith(\".json\"):\n",
    "        with open(src_loc+filename) as out:\n",
    "            d.append(json.load(out))"
   ]
  },
  {
   "cell_type": "code",
   "execution_count": null,
   "metadata": {
    "collapsed": true
   },
   "outputs": [],
   "source": [
    "#splitting into separate json files\n",
    "for j in range(0,len(d)):\n",
    "    if('response' in d[j].keys()):\n",
    "        for i in range(0,len(d[j]['response']['docs'])):\n",
    "            pubdate=d[j]['response']['docs'][i]['pub_date'][:10]\n",
    "            with open(tgt_loc+'/'+str(d[j]['response']['docs'][i]['_id'])+'-'+str(pubdate)+'.json','w') as outfile:\n",
    "                json.dump(d[j]['response']['docs'][i],outfile)"
   ]
  },
  {
   "cell_type": "code",
   "execution_count": null,
   "metadata": {
    "collapsed": true
   },
   "outputs": [],
   "source": [
    "import requests\n",
    "import time\n",
    "import datetime\n",
    "import os\n",
    "import json\n",
    "q='hillary'\n",
    "\n",
    "if not os.path.exists('Midterm/Data/ArticalSearch1/'+str(q)):\n",
    "    os.makedirs('Midterm/Data/ArticalSearch1/'+str(q))\n",
    "else:\n",
    "    for i in range(0,25):\n",
    "        dat=requests.get('https://api.nytimes.com/svc/search/v2/articlesearch.json?q='+str(q)+'&begin_date=20160101&end_date=20160331&page='+str(i)+'&api-key=d7b1c6f47fb64eb8bd4538013285baa4').json()\n",
    "        with open('Midterm/Data/ArticalSearch1/'+str(q)+'/'+str(i)+'.json','w')  as outfile:\n",
    "            json.dump(dat,outfile)\n",
    "            time.sleep(0.75)\n",
    "    for k in range(0,25):\n",
    "        dat=requests.get('https://api.nytimes.com/svc/search/v2/articlesearch.json?q='+str(q)+'&begin_date=20160401'+'&end_date=20160630&page='+str(k)+'&api-key=d7b1c6f47fb64eb8bd4538013285baa4').json()\n",
    "        with open('Midterm/Data/ArticalSearch1/'+str(q)+'/'+str(i+1)+'.json','w')  as outfile:\n",
    "            json.dump(dat,outfile)\n",
    "            i=i+1\n",
    "            time.sleep(0.75)\n",
    "    for k in range(0,25):\n",
    "        dat=requests.get('https://api.nytimes.com/svc/search/v2/articlesearch.json?q='+str(q)+'&begin_date=20160701'+'&end_date=20160930&page='+str(k)+'&api-key=d7b1c6f47fb64eb8bd4538013285baa4').json()\n",
    "        with open('Midterm/Data/ArticalSearch1/'+str(q)+'/'+str(i+1)+'.json','w')  as outfile:\n",
    "            json.dump(dat,outfile)\n",
    "            i=i+1\n",
    "            time.sleep(0.75)\n",
    "    for k in range(0,25):\n",
    "        dat=requests.get('https://api.nytimes.com/svc/search/v2/articlesearch.json?q='+str(q)+'&begin_date=20161001'+'&end_date=201601231&page='+str(k)+'&api-key=d7b1c6f47fb64eb8bd4538013285baa4').json()\n",
    "        with open('Midterm/Data/ArticalSearch1/'+str(q)+'/'+str(i+1)+'.json','w')  as outfile:\n",
    "            json.dump(dat,outfile)\n",
    "            i=i+1\n",
    "            time.sleep(0.75)\n"
   ]
  },
  {
   "cell_type": "code",
   "execution_count": null,
   "metadata": {
    "collapsed": true
   },
   "outputs": [],
   "source": [
    "import json, os\n",
    "src_loc='C:/Users/vs/Documents/Python Scripts/MidTerm/Midterm/Data/ArticalSearch1/hillary/'\n",
    "tgt_loc='C:/Users/vs/Documents/Python Scripts/MidTerm/Midterm/Data/ArticalSearch1/hillary_json_split'\n",
    "if not os.path.exists(tgt_loc):\n",
    "    os.makedirs(tgt_loc)\n",
    "d=[]\n",
    "for filename in os.listdir(src_loc):\n",
    "    #print(filename)\n",
    "    if filename.endswith(\".json\"):\n",
    "        with open(src_loc+filename) as out:\n",
    "            d.append(json.load(out))"
   ]
  },
  {
   "cell_type": "code",
   "execution_count": null,
   "metadata": {
    "collapsed": true
   },
   "outputs": [],
   "source": [
    "for j in range(0,len(d)):\n",
    "    #print(len(d[j].get('response').get('docs')))\n",
    "    if('response' in d[j].keys()):\n",
    "        for i in range(0,len(d[j]['response']['docs'])):\n",
    "            pubdate=d[j]['response']['docs'][i]['pub_date'][:10]\n",
    "            with open(tgt_loc+'/'+str(d[j]['response']['docs'][i]['_id'])+'-'+str(pubdate)+'.json','w') as outfile:\n",
    "                json.dump(d[j]['response']['docs'][i],outfile)"
   ]
  },
  {
   "cell_type": "code",
   "execution_count": null,
   "metadata": {
    "collapsed": true
   },
   "outputs": [],
   "source": [
    "#for k,v in new_dict.items():\n",
    "#for k1,v1 in v.items():\n",
    "newww={}\n",
    "for k,v in new_dict.items():\n",
    "    newww[k]={}\n",
    "    for k1,v1 in v.items():\n",
    "        if(v[k1]!=1):\n",
    "            newww[k][k1]=v[k1]"
   ]
  },
  {
   "cell_type": "code",
   "execution_count": null,
   "metadata": {
    "collapsed": true
   },
   "outputs": [],
   "source": [
    "for k,v in newww.items():\n",
    "    sorted(occurences, key=occurences.get, reverse=True)[:50]"
   ]
  },
  {
   "cell_type": "code",
   "execution_count": null,
   "metadata": {
    "collapsed": true
   },
   "outputs": [],
   "source": [
    "hand = {k: v for k, v in hand.iteritems() if v != 0}"
   ]
  },
  {
   "cell_type": "code",
   "execution_count": 77,
   "metadata": {
    "collapsed": true
   },
   "outputs": [],
   "source": [
    "#loading data into dictionary\n",
    "import json\n",
    "import os\n",
    "\n",
    "new_dict={}\n",
    "path='Midterm/Data/ArticalSearch1/hillary_json_split/'\n",
    "for filename in os.listdir(path):\n",
    "    if(filename.endswith('.json')):\n",
    "        with open(path+filename,'r') as out:\n",
    "            data=json.load(out)\n",
    "            for i in range(len(data[\"keywords\"])):\n",
    "                valuee=data['keywords'][i]['value']\n",
    "                monthdate=data['pub_date'][:7]\n",
    "                if(monthdate not in new_dict.keys()):\n",
    "                    new_dict[monthdate]=1\n",
    "                else:\n",
    "                    new_dict[monthdate]+=1"
   ]
  },
  {
   "cell_type": "code",
   "execution_count": 39,
   "metadata": {
    "collapsed": false
   },
   "outputs": [],
   "source": [
    "#Filtering 2016 year only !!!\n",
    "n=[key for key, value in new_dict.items() if '2016' in key.lower()]"
   ]
  },
  {
   "cell_type": "code",
   "execution_count": 45,
   "metadata": {
    "collapsed": false
   },
   "outputs": [],
   "source": [
    "hillary_2016={}\n",
    "for i in range(len(n)):\n",
    "    if(n[i] in new_dict.keys()):\n",
    "        #print(n[i])\n",
    "        hillary_2016[n[i]]=new_dict[n[i]]\n",
    "        "
   ]
  },
  {
   "cell_type": "code",
   "execution_count": 64,
   "metadata": {
    "collapsed": false
   },
   "outputs": [],
   "source": [
    "quarter_hillary={}\n",
    "for k,v in hillary_2016.items():\n",
    "    if(k[-2:] in ['01','02','03']):\n",
    "        if('Quarter 1' in quarter_hillary.keys()):\n",
    "            quarter_hillary['Quarter 1']+=hillary_2016[k]\n",
    "        else:\n",
    "            quarter_hillary['Quarter 1']=hillary_2016[k]\n",
    "    if(k[-2:] in ['04','05','06']):\n",
    "        if('Quarter 2' in quarter_hillary.keys()):\n",
    "            quarter_hillary['Quarter 2']+=hillary_2016[k]\n",
    "        else:\n",
    "            quarter_hillary['Quarter 2']=hillary_2016[k]\n",
    "    if(k[-2:] in ['07','08','09']):\n",
    "        if('Quarter 3' in quarter_hillary.keys()):\n",
    "            quarter_hillary['Quarter 3']+=hillary_2016[k]\n",
    "        else:\n",
    "            quarter_hillary['Quarter 3']=hillary_2016[k]\n",
    "    if(k[-2:] in ['10','11','12']):\n",
    "        if('Quarter 4' in quarter_hillary.keys()):\n",
    "            quarter_hillary['Quarter 4']+=hillary_2016[k]\n",
    "        else:\n",
    "            quarter_hillary['Quarter 4']=hillary_2016[k]"
   ]
  },
  {
   "cell_type": "code",
   "execution_count": 66,
   "metadata": {
    "collapsed": false
   },
   "outputs": [],
   "source": [
    "new_list=[]\n",
    "for k,v in quarter_hillary.items():\n",
    "    new_list.append(v)"
   ]
  },
  {
   "cell_type": "code",
   "execution_count": 71,
   "metadata": {
    "collapsed": false
   },
   "outputs": [],
   "source": [
    "percent_hill={}\n",
    "for i in range(len(new_list)):\n",
    "    if(i==0):\n",
    "        percent_hill['Quarter'+str(i+1)]={}\n",
    "        percent_hill['Quarter'+str(i+1)]['count']=new_list[i]\n",
    "        percent_hill['Quarter'+str(i+1)]['Percent Change']='NA'\n",
    "    else:\n",
    "        percent_hill['Quarter'+str(i+1)]={}\n",
    "        percent_hill['Quarter'+str(i+1)]['count']=new_list[i]\n",
    "        percent_hill['Quarter'+str(i+1)]['Percent Change']=round(((new_list[i]-new_list[i-1])/(new_list[i-1]))*100,2)\n",
    "        \n",
    "    \n",
    "        "
   ]
  },
  {
   "cell_type": "code",
   "execution_count": 72,
   "metadata": {
    "collapsed": false
   },
   "outputs": [
    {
     "data": {
      "text/plain": [
       "{'Quarter1': {'Percent Change': 'NA', 'count': 1387},\n",
       " 'Quarter2': {'Percent Change': -13.41, 'count': 1201},\n",
       " 'Quarter3': {'Percent Change': -11.32, 'count': 1065},\n",
       " 'Quarter4': {'Percent Change': -38.78, 'count': 652}}"
      ]
     },
     "execution_count": 72,
     "metadata": {},
     "output_type": "execute_result"
    }
   ],
   "source": [
    "percent_hill"
   ]
  },
  {
   "cell_type": "code",
   "execution_count": 79,
   "metadata": {
    "collapsed": false
   },
   "outputs": [],
   "source": [
    "import json\n",
    "import os\n",
    "\n",
    "new_dict1={}\n",
    "path='Midterm/Data/ArticalSearch1/trump_json_split/'\n",
    "for filename in os.listdir(path):\n",
    "    if(filename.endswith('.json')):\n",
    "        with open(path+filename,'r') as out:\n",
    "            data=json.load(out)\n",
    "            for i in range(len(data[\"keywords\"])):\n",
    "                valuee=data['keywords'][i]['value']\n",
    "                monthdate=data['pub_date'][:7]\n",
    "                if(monthdate not in new_dict1.keys()):\n",
    "                    new_dict1[monthdate]=1\n",
    "                else:\n",
    "                    new_dict1[monthdate]+=1"
   ]
  },
  {
   "cell_type": "code",
   "execution_count": 94,
   "metadata": {
    "collapsed": true
   },
   "outputs": [],
   "source": [
    "trump_2016={}\n",
    "for i in range(len(n)):\n",
    "    if(n[i] in new_dict1.keys()):\n",
    "        #print(n[i])\n",
    "        trump_2016[n[i]]=new_dict1[n[i]]\n",
    "        "
   ]
  },
  {
   "cell_type": "code",
   "execution_count": 95,
   "metadata": {
    "collapsed": false
   },
   "outputs": [
    {
     "data": {
      "text/plain": [
       "{'2016-01': 217,\n",
       " '2016-02': 347,\n",
       " '2016-03': 441,\n",
       " '2016-04': 259,\n",
       " '2016-05': 325,\n",
       " '2016-06': 347,\n",
       " '2016-07': 449,\n",
       " '2016-08': 324,\n",
       " '2016-09': 270,\n",
       " '2016-12': 88}"
      ]
     },
     "execution_count": 95,
     "metadata": {},
     "output_type": "execute_result"
    }
   ],
   "source": [
    "trump_2016"
   ]
  },
  {
   "cell_type": "code",
   "execution_count": 97,
   "metadata": {
    "collapsed": false
   },
   "outputs": [],
   "source": [
    "quarter_trump={}\n",
    "for k,v in trump_2016.items():\n",
    "    if(k[-2:] in ['01','02','03']):\n",
    "        if('Quarter 1' in quarter_trump.keys()):\n",
    "            quarter_trump['Quarter 1']+=trump_2016[k]\n",
    "        else:\n",
    "            quarter_trump['Quarter 1']=trump_2016[k]\n",
    "    if(k[-2:] in ['04','05','06']):\n",
    "        if('Quarter 2' in quarter_trump.keys()):\n",
    "            quarter_trump['Quarter 2']+=trump_2016[k]\n",
    "        else:\n",
    "            quarter_trump['Quarter 2']=trump_2016[k]\n",
    "    if(k[-2:] in ['07','08','09']):\n",
    "        if('Quarter 3' in quarter_trump.keys()):\n",
    "            quarter_trump['Quarter 3']+=trump_2016[k]\n",
    "        else:\n",
    "            quarter_trump['Quarter 3']=trump_2016[k]\n",
    "    if(k[-2:] in ['10','11','12']):\n",
    "        if('Quarter 4' in quarter_trump.keys()):\n",
    "            quarter_trump['Quarter 4']+=trump_2016[k]\n",
    "        else:\n",
    "            quarter_trump['Quarter 4']=trump_2016[k]"
   ]
  },
  {
   "cell_type": "code",
   "execution_count": 98,
   "metadata": {
    "collapsed": false
   },
   "outputs": [
    {
     "data": {
      "text/plain": [
       "{'Quarter 1': 1005, 'Quarter 2': 931, 'Quarter 3': 1043, 'Quarter 4': 88}"
      ]
     },
     "execution_count": 98,
     "metadata": {},
     "output_type": "execute_result"
    }
   ],
   "source": [
    "quarter_trump\n"
   ]
  },
  {
   "cell_type": "code",
   "execution_count": 115,
   "metadata": {
    "collapsed": false
   },
   "outputs": [],
   "source": [
    "#Writing to a CSV\n",
    "row=[]\n",
    "row.append('Name,Time Period,Number of articles\\n')\n",
    "for k,v in quarter_hillary.items():\n",
    "    row.append('Hillary'+','+str(k)+','+str(v)+'\\n')\n",
    "    \n",
    "for k,v in quarter_trump.items():\n",
    "    row.append('Trump'+','+str(k)+','+str(v)+'\\n')\n",
    "    \n",
    "with open(r'Output/Analysis 1/Number of articles per quarter.csv','w') as csv_file:\n",
    "    for i in row:\n",
    "        csv_file.write(i)\n",
    "\n",
    "csv_file.close()"
   ]
  },
  {
   "cell_type": "code",
   "execution_count": 99,
   "metadata": {
    "collapsed": true
   },
   "outputs": [],
   "source": [
    "new_list1=[]\n",
    "for k,v in quarter_trump.items():\n",
    "    new_list1.append(v)"
   ]
  },
  {
   "cell_type": "code",
   "execution_count": 100,
   "metadata": {
    "collapsed": true
   },
   "outputs": [],
   "source": [
    "percent_trump={}\n",
    "for i in range(len(new_list1)):\n",
    "    if(i==0):\n",
    "        percent_trump['Quarter'+str(i+1)]={}\n",
    "        percent_trump['Quarter'+str(i+1)]['count']=new_list1[i]\n",
    "        percent_trump['Quarter'+str(i+1)]['Percent Change']='NA'\n",
    "    else:\n",
    "        percent_trump['Quarter'+str(i+1)]={}\n",
    "        percent_trump['Quarter'+str(i+1)]['count']=new_list1[i]\n",
    "        percent_trump['Quarter'+str(i+1)]['Percent Change']=round(((new_list1[i]-new_list1[i-1])/(new_list1[i-1]))*100,2)"
   ]
  },
  {
   "cell_type": "code",
   "execution_count": 117,
   "metadata": {
    "collapsed": false
   },
   "outputs": [],
   "source": [
    "row2=[]\n",
    "row2.append('Name,Count,Percentage Change\\n')\n",
    "for k,v in percent_hill.items():\n",
    "    keyy=k\n",
    "    val=v\n",
    "    ls=v['count']\n",
    "    ls2=v['Percent Change']\n",
    "    row2.append('Hillary'+','+str(ls)+','+str(ls2)+'\\n')\n",
    "\n",
    "for k,v in percent_trump.items():\n",
    "    keyy=k\n",
    "    val=v\n",
    "    ls=v['count']\n",
    "    ls2=v['Percent Change']\n",
    "    row2.append('Trump'+','+str(ls)+','+str(ls2)+'\\n')\n",
    "        \n",
    "with open('Output/Analysis 1/Percentage Change.csv','w') as csv_file:\n",
    "    for i in row2:\n",
    "        csv_file.write(i)\n"
   ]
  },
  {
   "cell_type": "code",
   "execution_count": 110,
   "metadata": {
    "collapsed": false
   },
   "outputs": [
    {
     "data": {
      "text/plain": [
       "{'Quarter1': {'Percent Change': 'NA', 'count': 1387},\n",
       " 'Quarter2': {'Percent Change': -13.41, 'count': 1201},\n",
       " 'Quarter3': {'Percent Change': -11.32, 'count': 1065},\n",
       " 'Quarter4': {'Percent Change': -38.78, 'count': 652}}"
      ]
     },
     "execution_count": 110,
     "metadata": {},
     "output_type": "execute_result"
    }
   ],
   "source": [
    "percent_hill"
   ]
  }
 ],
 "metadata": {
  "anaconda-cloud": {},
  "kernelspec": {
   "display_name": "Python [conda root]",
   "language": "python",
   "name": "conda-root-py"
  },
  "language_info": {
   "codemirror_mode": {
    "name": "ipython",
    "version": 3
   },
   "file_extension": ".py",
   "mimetype": "text/x-python",
   "name": "python",
   "nbconvert_exporter": "python",
   "pygments_lexer": "ipython3",
   "version": "3.5.2"
  }
 },
 "nbformat": 4,
 "nbformat_minor": 1
}
