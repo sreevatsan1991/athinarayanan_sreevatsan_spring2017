{
 "cells": [
  {
   "cell_type": "code",
   "execution_count": 5,
   "metadata": {
    "collapsed": false
   },
   "outputs": [],
   "source": [
    "import glob\n",
    "path_mail = glob.glob(\"C:/Users/vs/Documents/Python Scripts/enron/maildir/**/sent_items/**\")\n",
    "\n"
   ]
  },
  {
   "cell_type": "code",
   "execution_count": 16,
   "metadata": {
    "collapsed": false
   },
   "outputs": [],
   "source": [
    "#fetching all the sent mail data to list\n",
    "from email.parser import Parser\n",
    "email=[]\n",
    "for each in path_mail:\n",
    "    with open(each, 'r') as email_content:\n",
    "        data=email_content.read()\n",
    "    email.append(Parser().parsestr(data))\n",
    "        "
   ]
  },
  {
   "cell_type": "code",
   "execution_count": 79,
   "metadata": {
    "collapsed": false
   },
   "outputs": [
    {
     "name": "stdout",
     "output_type": "stream",
     "text": [
      "37920\n"
     ]
    }
   ],
   "source": [
    "month_list=[]\n",
    "mt_num=[]\n",
    "month_list = ['Jan','Feb','Mar','Apr','May','Jun','Jul','Aug','Sep','Oct','Nov','Dec']\n",
    "mt=[]\n",
    "for j in range(0,len(email)):\n",
    "    for i in range(0,len(month_list)):\n",
    "        if month_list[i] in str(email[j]['Date']):\n",
    "            mt.append(str(email[j]['Date'][str(email[j]['Date']).find(month_list[i]):str(email[j]['Date']).find(month_list[i])+8]))\n",
    "            mt_num.append(str(email[j]['Date']).find(month_list[i]))"
   ]
  },
  {
   "cell_type": "code",
   "execution_count": 140,
   "metadata": {
    "collapsed": false
   },
   "outputs": [],
   "source": [
    "#Analysing subject of sent mails\n",
    "subject={}\n",
    "month_list=[]\n",
    "mt_num=[]\n",
    "month_list = ['Sep','Oct','Nov','Dec']\n",
    "mt=[]\n",
    "tm=[]\n",
    "for j in range(0,len(email)):\n",
    "    for i in range(0,len(month_list)):\n",
    "        if month_list[i] in str(email[j]['Date']):\n",
    "            subject[str(email[j]['Date'][str(email[j]['Date']).find(month_list[i]):str(email[j]['Date']).find(month_list[i])+8])] = str(email[j]['Subject'])\n",
    "            tm.append(str(email[j]['Date'][str(email[j]['Date']).find(month_list[i])+9:str(email[j]['Date']).find(month_list[i])+11]))\n",
    "\n",
    "    "
   ]
  },
  {
   "cell_type": "code",
   "execution_count": null,
   "metadata": {
    "collapsed": true
   },
   "outputs": [],
   "source": [
    "subject={}\n",
    "month_list=[]\n",
    "mt_num=[]\n",
    "month_list = ['Sep','Oct','Nov','Dec']\n",
    "\n",
    "mt=[]\n",
    "for j in range(0,len(email)):\n",
    "    for i in range(0,len(month_list)):\n",
    "        if month_list[i] in str(email[j]['Date']):\n",
    "            subject[str(email[j]['Date'][str(email[j]['Date']).find(month_list[i]):str(email[j]['Date']).find(month_list[i])+8])] = str(email[j]['Subject'])\n",
    "\n",
    "    "
   ]
  },
  {
   "cell_type": "code",
   "execution_count": 162,
   "metadata": {
    "collapsed": false
   },
   "outputs": [],
   "source": [
    "#analysis of business and non-business hour mails\n",
    "business={}\n",
    "month_list=[]\n",
    "mt_num=[]\n",
    "month_list = ['Sep','Oct','Nov','Dec']\n",
    "for j in range(0,len(email)):\n",
    "    for i in range(0,len(month_list)):\n",
    "        if month_list[i] in str(email[j]['Date']):\n",
    "            hour=email[j]['Date'][str(email[j]['Date']).find(month_list[i])+9:str(email[j]['Date']).find(month_list[i])+11]\n",
    "            if(month_list[i] in business.keys()):\n",
    "                if(int(hour)>7 and int(hour)<19):\n",
    "                    if('Business Hour Mails' in business[month_list[i]].keys()):\n",
    "                        business[month_list[i]]['Business Hour Mails']+=1\n",
    "                    else:\n",
    "                        business[month_list[i]]['Business Hour Mails']=1\n",
    "                    \n",
    "                else:\n",
    "                    if('Non Business Hour Mails' in business[month_list[i]].keys()):\n",
    "                        business[month_list[i]]['Non Business Hour Mails']+=1\n",
    "                    else:\n",
    "                        business[month_list[i]]['Non Business Hour Mails']=1\n",
    "            else:\n",
    "                business[month_list[i]]={}\n",
    "                if(int(hour)>7 and int(hour)<19):\n",
    "                    if('Business Hour Mails' in business[month_list[i]].keys()):\n",
    "                        business[month_list[i]]['Business Hour Mails']+=1\n",
    "                    else:\n",
    "                        business[month_list[i]]['Business Hour Mails']=1\n",
    "                    \n",
    "                else:\n",
    "                    if('Non Business Hour Mails' in business[month_list[i]].keys()):\n",
    "                        business[month_list[i]]['Non Business Hour Mails']+=1\n",
    "                    else:\n",
    "                        business[month_list[i]]['Non Business Hour Mails']=1\n",
    "                \n",
    "                    \n",
    "                \n",
    "                "
   ]
  },
  {
   "cell_type": "code",
   "execution_count": 193,
   "metadata": {
    "collapsed": false
   },
   "outputs": [],
   "source": [
    "#analysis of enron and non-enron emails\n",
    "enron={}\n",
    "month_list=[]\n",
    "mt_num=[]\n",
    "month_list = ['Sep','Oct','Nov','Dec']\n",
    "for j in range(0,len(email)):\n",
    "    for i in range(0,len(month_list)):\n",
    "        if month_list[i] in str(email[j]['Date']):\n",
    "            hour=email[j]['Date'][str(email[j]['Date']).find(month_list[i])+9:str(email[j]['Date']).find(month_list[i])+11]\n",
    "            if(email[j]['to']):\n",
    "                if(month_list[i] in enron.keys()):\n",
    "                    if(email[j]['to'][-9:]=='enron.com'):\n",
    "                        if('Enron mails' in enron[month_list[i]].keys()):\n",
    "                            enron[month_list[i]]['Enron mails']+=1\n",
    "                        else:\n",
    "                            enron[month_list[i]]['Enron mails']=1\n",
    "\n",
    "                    else:\n",
    "                        if('Non Enron mails' in enron[month_list[i]].keys()):\n",
    "                            enron[month_list[i]]['Non Enron mails']+=1\n",
    "                        else:\n",
    "                            enron[month_list[i]]['Non Enron mails']=1\n",
    "                else:\n",
    "                    enron[month_list[i]]={}\n",
    "                    #print(enron)\n",
    "                    if(email[j]['to'][-9:]=='enron.com'):\n",
    "                        if('Enron mails' in enron[month_list[i]].keys()):\n",
    "                            enron[month_list[i]]['Enron mails']+=1\n",
    "                        else:\n",
    "                            enron[month_list[i]]['Enron mails']=1\n",
    "\n",
    "                    else:\n",
    "                        if('Non Enron mails' in enron[month_list[i]].keys()):\n",
    "                            enron[month_list[i]]['Non Enron mails']+=1\n",
    "                        else:\n",
    "                            enron[month_list[i]]['Non Enron mails']=1\n",
    "\n",
    "\n",
    "\n",
    "                \n",
    "                "
   ]
  },
  {
   "cell_type": "code",
   "execution_count": 184,
   "metadata": {
    "collapsed": false
   },
   "outputs": [
    {
     "name": "stdout",
     "output_type": "stream",
     "text": [
      "insiede to \n",
      "{'Nov': {}}\n",
      "nonenron dictionary:{'Nov': {'Non Enron': {}}}\n",
      "Non business hour\n",
      "{'Nov': {'Non Enron': {}}}\n",
      "nonnnnn\n",
      "{'Nov': {'Non Enron': {'Non Business Hour Mails': 1}}}\n",
      "insiede to \n",
      "{'Dec': {}, 'Nov': {'Non Enron': {'Non Business Hour Mails': 1}}}\n",
      "nonenron dictionary:{'Dec': {'Non Enron': {}}, 'Nov': {'Non Enron': {'Non Business Hour Mails': 1}}}\n",
      "Busoiness hour\n",
      "insiede to \n",
      "noinenron dictionary:{}\n",
      "Business hour\n",
      "insiede to \n",
      "noinenron dictionary:{}\n",
      "Business hour\n",
      "insiede to \n",
      "noinenron dictionary:{}\n",
      "insiede to \n",
      "enron mail\n",
      "enron dictionary:{}\n",
      "Business hour\n",
      "insiede to \n",
      "enron mail\n",
      "enron dictionary:{}\n",
      "Business hour\n",
      "insiede to \n",
      "enron mail\n",
      "enron dictionary:{}\n",
      "insiede to \n",
      "enron mail\n",
      "enron dictionary:{}\n",
      "insiede to \n",
      "enron mail\n",
      "enron dictionary:{}\n",
      "insiede to \n",
      "enron mail\n",
      "enron dictionary:{}\n",
      "Business hour\n"
     ]
    }
   ],
   "source": [
    "#analysis of business and non-business hour emails coupled with enron and non-enron emails\n",
    "business={}\n",
    "month_list=[]\n",
    "mt_num=[]\n",
    "month_list = ['Sep','Oct','Nov','Dec']\n",
    "for j in range(0,100):\n",
    "    for i in range(0,len(month_list)):\n",
    "        if month_list[i] in str(email[j]['Date']):\n",
    "            hour=email[j]['Date'][str(email[j]['Date']).find(month_list[i])+9:str(email[j]['Date']).find(month_list[i])+11]\n",
    "            if(email[j]['to']):\n",
    "                print('insiede to ')\n",
    "                if(month_list[i] in business.keys()):\n",
    "                    if(email[j]['to'][-9:]=='enron.com'):\n",
    "                        print('enron mail')\n",
    "                        business[month_list[i]]['Enron']={}\n",
    "                        print('enron dictionary:'+str(business[month_list[i]]['Enron']))\n",
    "                        if(int(hour)>7 and int(hour)<19):\n",
    "                            print('Business hour')\n",
    "                            if('Business Hour Mails' not in business[month_list[i]]['Enron'].keys()):\n",
    "                                business[month_list[i]]['Enron']['Business Hour Mails']=1\n",
    "                            else:\n",
    "                                business[month_list[i]]['Enron']['Business Hour Mails']+=1\n",
    "                        else:\n",
    "                            if('Non Business Hour Mails' not in business[month_list[i]]['Enron'].keys()):\n",
    "                                business[month_list[i]]['Enron']['Non Business Hour Mails']=1\n",
    "                            else:\n",
    "                                business[month_list[i]]['Enron']['Non Business Hour Mails']+=1\n",
    "\n",
    "                    else:\n",
    "                        #print(email[j]['to'])\n",
    "                        business[month_list[i]]['Non Enron']={}\n",
    "                        print('noinenron dictionary:'+str(business[month_list[i]]['Non Enron']))\n",
    "                        if(int(hour)>7 and int(hour)<19):\n",
    "                            print('Business hour')\n",
    "                            if('Business Hour Mails' not in business[month_list[i]]['Non Enron'].keys()):\n",
    "                                business[month_list[i]]['Non Enron']['Business Hour Mails']=1\n",
    "                            else:\n",
    "                                business[month_list[i]]['Non Enron']['Business Hour Mails']+=1\n",
    "                        else:\n",
    "                            if('Non Business Hour Mails' not in business[month_list[i]]['Non Enron'].keys()):\n",
    "                                business[month_list[i]]['Non Enron']['Non Business Hour Mails']=1\n",
    "                            else:\n",
    "                                business[month_list[i]]['Non Enron']['Non Business Hour Mails']+=1\n",
    "                else:\n",
    "                    business[month_list[i]]={}\n",
    "                    print(str(business))\n",
    "                    if(email[j]['to'][-9:]=='enron.com'):\n",
    "                            business[month_list[i]]['Enron']={}\n",
    "                            print('enron dictionary:'+str(business))\n",
    "                            if(int(hour)>7 and int(hour)<19):\n",
    "                                if('Business Hour Mails' not in business[month_list[i]]['Enron'].keys()):\n",
    "                                    business[month_list[i]]['Enron']['Business Hour Mails']=1\n",
    "                                else:\n",
    "                                    business[month_list[i]]['Enron']['Business Hour Mails']+=1\n",
    "                            else:\n",
    "                                if('Non Business Hour Mails' not in business[month_list[i]]['Enron'].keys()):\n",
    "                                    business[month_list[i]]['Enron']['Non Business Hour Mails']=1\n",
    "                                else:\n",
    "                                    business[month_list[i]]['Enron']['Non Business Hour Mails']+=1\n",
    "\n",
    "                    else:\n",
    "                        business[month_list[i]]['Non Enron']={}\n",
    "                        print('nonenron dictionary:'+str(business))\n",
    "                        if(int(hour)>7 and int(hour)<19):\n",
    "                            print('Busoiness hour')\n",
    "                            if('Business Hour Mails' not in business[month_list[i]]['Non Enron'].keys()):\n",
    "                                business[month_list[i]]['Non Enron']['Business Hour Mails']=1\n",
    "                            else:\n",
    "                                business[month_list[i]]['Non Enron']['Business Hour Mails']+=1\n",
    "                        else:\n",
    "                            print('Non business hour')\n",
    "                            print(str(business))\n",
    "                            if('Non Business Hour Mails' not in business[month_list[i]]['Non Enron'].keys()):\n",
    "                                print('nonnnnn')\n",
    "                                business[month_list[i]]['Non Enron']['Non Business Hour Mails']=1\n",
    "                                print(business)\n",
    "                            else:\n",
    "                                business[month_list[i]]['Non Enron']['Non Business Hour Mails']+=1               "
   ]
  },
  {
   "cell_type": "code",
   "execution_count": 192,
   "metadata": {
    "collapsed": false
   },
   "outputs": [],
   "source": [
    "business={}\n",
    "month_list=[]\n",
    "mt_num=[]\n",
    "month_list = ['Sep','Oct','Nov','Dec']\n",
    "for j in range(0,len(email)):\n",
    "    for i in range(0,len(month_list)):\n",
    "        if month_list[i] in str(email[j]['Date']):\n",
    "            hour=email[j]['Date'][str(email[j]['Date']).find(month_list[i])+9:str(email[j]['Date']).find(month_list[i])+11]\n",
    "            if(int(hour)>7 and int(hour)<19):\n",
    "                if('Business Hour Mails' in business.keys()):\n",
    "                    business['Business Hour Mails']+=1\n",
    "                else:\n",
    "                    business['Business Hour Mails']=1\n",
    "                    \n",
    "            else:\n",
    "                if('Non Business Hour Mails' in business.keys()):\n",
    "                    business['Non Business Hour Mails']+=1\n",
    "                else:\n",
    "                    business['Non Business Hour Mails']=1"
   ]
  },
  {
   "cell_type": "code",
   "execution_count": 112,
   "metadata": {
    "collapsed": false
   },
   "outputs": [],
   "source": [
    "#analysis of count of emails with the months of the year\n",
    "dict_months = {}\n",
    "for i in range(len(mt)):\n",
    "    if mt[i] not in dict_months.keys():\n",
    "          dict_months[mt[i]]=1     \n",
    "    else:\n",
    "        dict_months[mt[i]]+=1\n",
    "    "
   ]
  },
  {
   "cell_type": "code",
   "execution_count": 117,
   "metadata": {
    "collapsed": false
   },
   "outputs": [],
   "source": [
    "import csv\n",
    "row=[]\n",
    "row.append('Month and Year,Email_count\\n')\n",
    "for k,v in dict_months.items():\n",
    "    var1=k\n",
    "    var2=v\n",
    "    row.append(str(var1)+','+str(var2)+'\\n')\n",
    "\n",
    "with open('EmailCountAnalysis.csv','w') as csv_file:\n",
    "    for i in row:\n",
    "        csv_file.write(i)"
   ]
  }
 ],
 "metadata": {
  "anaconda-cloud": {},
  "kernelspec": {
   "display_name": "Python [conda root]",
   "language": "python",
   "name": "conda-root-py"
  },
  "language_info": {
   "codemirror_mode": {
    "name": "ipython",
    "version": 3
   },
   "file_extension": ".py",
   "mimetype": "text/x-python",
   "name": "python",
   "nbconvert_exporter": "python",
   "pygments_lexer": "ipython3",
   "version": "3.5.2"
  }
 },
 "nbformat": 4,
 "nbformat_minor": 1
}
