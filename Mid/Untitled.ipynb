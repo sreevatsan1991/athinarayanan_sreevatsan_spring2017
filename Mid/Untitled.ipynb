{
 "cells": [
  {
   "cell_type": "code",
   "execution_count": 31,
   "metadata": {
    "collapsed": true
   },
   "outputs": [],
   "source": [
    "docs = []\n",
    "from os import listdir, chdir\n",
    "import re"
   ]
  },
  {
   "cell_type": "code",
   "execution_count": 3,
   "metadata": {
    "collapsed": false
   },
   "outputs": [],
   "source": [
    "email_pat = re.compile(\".+@.+\")\n",
    "to_pat = re.compile(\"To:.+\\n\")\n",
    "cc_pat = re.compile(\"cc:.+\\n\")\n",
    "subject_pat = re.compile(\"Subject:.+\\n\")\n",
    "from_pat = re.compile(\"From:.+\\n\")\n",
    "sent_pat = re.compile(\"Sent:.+\\n\")\n",
    "received_pat = re.compile(\"Received:.+\\n\")\n",
    "ctype_pat = re.compile(\"Content-Type:.+\\n\")\n",
    "reply_pat = re.compile(\"Reply- Organization:.+\\n\")\n",
    "date_pat = re.compile(\"Date:.+\\n\")\n",
    "xmail_pat = re.compile(\"X-Mailer:.+\\n\")\n",
    "mimver_pat = re.compile(\"MIME-Version:.+\\n\")\n",
    "dash_pat = re.compile(\"--+.+--+\", re.DOTALL)\n",
    "star_pat = re.compile('\\*\\*+.+\\*\\*+', re.DOTALL)\n",
    "uscore_pat = re.compile(\" __+.+__+\", re.DOTALL)\n",
    "equals_pat = re.compile(\"==+.+==+\", re.DOTALL)"
   ]
  },
  {
   "cell_type": "code",
   "execution_count": 32,
   "metadata": {
    "collapsed": false
   },
   "outputs": [],
   "source": [
    "chdir(\"C:/Users/vs/Documents/Python Scripts/MidTerm/Data/enron/maildir\")\n",
    "names = [d for d in listdir(\".\") if \".\" not in d]\n",
    "for name in names:\n",
    "    chdir(\"C:/Users/vs/Documents/Python Scripts/MidTerm/Data/enron/maildir/%s\" % name)\n",
    "    subfolders = listdir('.')\n",
    "    sent_dirs = [n for n, sf in enumerate(subfolders) if \"sent\" in sf]\n",
    "    sent_dirs_words = [subfolders[i] for i in sent_dirs]\n",
    "    for d in sent_dirs_words:\n",
    "        chdir('C:/Users/vs/Documents/Python Scripts/MidTerm/Data/enron/maildir/%s/%s' % (name,d))\n",
    "        file_list = listdir('.')\n",
    "        docs.append([\" \".join(open(f, 'r').read()) for f in file_list if \".\" in f])"
   ]
  },
  {
   "cell_type": "code",
   "execution_count": 35,
   "metadata": {
    "collapsed": false
   },
   "outputs": [
    {
     "ename": "OSError",
     "evalue": "[WinError 6] The handle is invalid",
     "output_type": "error",
     "traceback": [
      "\u001b[0;31m---------------------------------------------------------------------------\u001b[0m",
      "\u001b[0;31mOSError\u001b[0m                                   Traceback (most recent call last)",
      "\u001b[0;32m<ipython-input-35-dc950c6f1180>\u001b[0m in \u001b[0;36m<module>\u001b[0;34m()\u001b[0m\n\u001b[0;32m----> 1\u001b[0;31m \u001b[0ms\u001b[0m \u001b[1;33m=\u001b[0m \u001b[0mopen\u001b[0m\u001b[1;33m(\u001b[0m\u001b[1;36m1\u001b[0m\u001b[1;33m,\u001b[0m\u001b[1;34m'r'\u001b[0m\u001b[1;33m)\u001b[0m\u001b[1;33m\u001b[0m\u001b[0m\n\u001b[0m",
      "\u001b[0;31mOSError\u001b[0m: [WinError 6] The handle is invalid"
     ]
    }
   ],
   "source": []
  },
  {
   "cell_type": "code",
   "execution_count": 17,
   "metadata": {
    "collapsed": true
   },
   "outputs": [],
   "source": [
    "docs_final = []\n",
    "for subfolder in docs:\n",
    "    for email in subfolder:\n",
    "        if \".nsf\" in email:\n",
    "            etype = \".nsf\"\n",
    "        elif \".pst\" in email:\n",
    "            etype = \".pst\"\n",
    "        email_new = email[email.find(etype)+4:]\n",
    "        email_new = to_pat.sub('', email_new)\n",
    "        email_new = cc_pat.sub('', email_new)\n",
    "        email_new = subject_pat.sub('', email_new)\n",
    "        email_new = from_pat.sub('', email_new)\n",
    "        email_new = sent_pat.sub('', email_new)\n",
    "        email_new = received_pat.sub('', email_new)\n",
    "        email_new = email_pat.sub('', email_new)\n",
    "        email_new = ctype_pat.sub('', email_new)\n",
    "        email_new = reply_pat.sub('', email_new)\n",
    "        email_new = date_pat.sub('', email_new)\n",
    "        email_new = xmail_pat.sub('', email_new)\n",
    "        email_new = mimver_pat.sub('', email_new)\n",
    "        email_new = dash_pat.sub('', email_new)\n",
    "        email_new = star_pat.sub('', email_new)\n",
    "        email_new = uscore_pat.sub('', email_new)\n",
    "        email_new = equals_pat.sub('', email_new)\n",
    "        docs_final.append(email_new)"
   ]
  },
  {
   "cell_type": "code",
   "execution_count": 18,
   "metadata": {
    "collapsed": false
   },
   "outputs": [
    {
     "data": {
      "text/plain": [
       "0"
      ]
     },
     "execution_count": 18,
     "metadata": {},
     "output_type": "execute_result"
    }
   ],
   "source": [
    "len(docs_final)"
   ]
  }
 ],
 "metadata": {
  "kernelspec": {
   "display_name": "Python [conda root]",
   "language": "python",
   "name": "conda-root-py"
  },
  "language_info": {
   "codemirror_mode": {
    "name": "ipython",
    "version": 3
   },
   "file_extension": ".py",
   "mimetype": "text/x-python",
   "name": "python",
   "nbconvert_exporter": "python",
   "pygments_lexer": "ipython3",
   "version": "3.5.2"
  }
 },
 "nbformat": 4,
 "nbformat_minor": 1
}
