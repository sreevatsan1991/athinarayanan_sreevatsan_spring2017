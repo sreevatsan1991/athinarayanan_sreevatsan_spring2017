{
 "cells": [
  {
   "cell_type": "code",
   "execution_count": 68,
   "metadata": {
    "collapsed": false
   },
   "outputs": [],
   "source": [
    "#Analysis of archives data\n",
    "import json\n",
    "src_loc='Midterm/Data/Archives/sports/'\n",
    "tgt_loc='Midterm/Data/Archives/sports_json_split'\n",
    "if not os.path.exists(tgt_loc):\n",
    "    os.makedirs(tgt_loc)\n",
    "d=[]\n",
    "for filename in os.listdir(src_loc):\n",
    "    #print(filename)\n",
    "    if filename.endswith(\".json\"):\n",
    "        with open(src_loc+filename) as out:\n",
    "            d.append(json.load(out))"
   ]
  },
  {
   "cell_type": "code",
   "execution_count": 78,
   "metadata": {
    "collapsed": false
   },
   "outputs": [],
   "source": [
    "for j in range(0,len(d)):\n",
    "    for i in range(0,len(d[j].get('response').get('docs'))):\n",
    "        pubdate=d[j]['response']['docs'][i]['pub_date'][:10]\n",
    "        with open(tgt_loc+'/'+str(d[j].get('response').get('docs')[i]['_id'])+'-'+str(pubdate)+'.json','w') as outfile:\n",
    "            json.dump(d[j].get('response').get('docs')[i],outfile)\n",
    "\n",
    "    "
   ]
  },
  {
   "cell_type": "code",
   "execution_count": 65,
   "metadata": {
    "collapsed": false
   },
   "outputs": [],
   "source": [
    "import requests\n",
    "import time\n",
    "import datetime\n",
    "import os\n",
    "import json\n",
    "import argparse\n",
    "nykey=os.getenv('nyc_key')\n",
    "q='sports'\n",
    "if not os.path.exists('Midterm/Data/Archives'):\n",
    "    os.makedirs('Midterm/Data/Archives/'+str(q))\n",
    "else:\n",
    "    for i in range(60,61):\n",
    "        data=requests.get('https://api.nytimes.com/svc/archive/v1/2011/10.json?q='+str(q)+'page='+str(i)+'&api-key='+nykey).json()\n",
    "        with open('Midterm/Data/Archives/'+str(q)+'/'+str(i)+'.json','w')  as outfile:\n",
    "            json.dump(data,outfile)\n",
    "            time.sleep(0.75)"
   ]
  },
  {
   "cell_type": "code",
   "execution_count": null,
   "metadata": {
    "collapsed": true
   },
   "outputs": [],
   "source": [
    "import json\n",
    "import os\n",
    "\n",
    "new_dict={}\n",
    "path='Midterm/Data/Archives/sports_json_split/'\n",
    "for filename in os.listdir(path):\n",
    "    if(filename.endswith('.json')):\n",
    "        with open(path+filename,'r') as out:\n",
    "            data=json.load(out)\n",
    "            for i in range(len(data[\"keywords\"])):\n",
    "                valuee=data['keywords'][i]['value']\n",
    "                monthdate=data['pub_date'][:7]\n",
    "                if(monthdate not in new_dict.keys()):\n",
    "                    new_dict[monthdate]={}\n",
    "                    if(valuee not in new_dict[monthdate].keys()):\n",
    "                        new_dict[monthdate][valuee]=1\n",
    "                    else:\n",
    "                        new_dict[monthdate][valuee]+=1\n",
    "                else:\n",
    "                    if(valuee not in new_dict[monthdate].keys()):\n",
    "                        new_dict[monthdate][valuee]=1\n",
    "                    else:\n",
    "                        new_dict[monthdate][valuee]+=1"
   ]
  },
  {
   "cell_type": "code",
   "execution_count": null,
   "metadata": {
    "collapsed": false
   },
   "outputs": [],
   "source": []
  },
  {
   "cell_type": "code",
   "execution_count": null,
   "metadata": {
    "collapsed": true
   },
   "outputs": [],
   "source": []
  }
 ],
 "metadata": {
  "anaconda-cloud": {},
  "kernelspec": {
   "display_name": "Python [conda root]",
   "language": "python",
   "name": "conda-root-py"
  },
  "language_info": {
   "codemirror_mode": {
    "name": "ipython",
    "version": 3
   },
   "file_extension": ".py",
   "mimetype": "text/x-python",
   "name": "python",
   "nbconvert_exporter": "python",
   "pygments_lexer": "ipython3",
   "version": "3.5.2"
  }
 },
 "nbformat": 4,
 "nbformat_minor": 1
}
