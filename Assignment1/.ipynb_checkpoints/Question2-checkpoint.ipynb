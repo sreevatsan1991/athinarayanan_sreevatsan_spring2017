{
 "cells": [
  {
   "cell_type": "code",
   "execution_count": 1,
   "metadata": {
    "collapsed": true
   },
   "outputs": [],
   "source": [
    "import nltk"
   ]
  },
  {
   "cell_type": "code",
   "execution_count": 2,
   "metadata": {
    "collapsed": true
   },
   "outputs": [],
   "source": [
    "from nltk.corpus import gutenberg"
   ]
  },
  {
   "cell_type": "code",
   "execution_count": 3,
   "metadata": {
    "collapsed": false
   },
   "outputs": [
    {
     "data": {
      "text/plain": [
       "['[', 'Moby', 'Dick', 'by', 'Herman', 'Melville', ...]"
      ]
     },
     "execution_count": 3,
     "metadata": {},
     "output_type": "execute_result"
    }
   ],
   "source": [
    "#Under package Gutenberg get content from file 'melville-moby_dick.txt.' \n",
    "word_txt = nltk.corpus.gutenberg.words('melville-moby_dick.txt')\n",
    "word_txt"
   ]
  },
  {
   "cell_type": "code",
   "execution_count": 4,
   "metadata": {
    "collapsed": false
   },
   "outputs": [],
   "source": [
    "tempnew = []\n",
    "tempnewlo=[]\n",
    "tempnewal=[]\n",
    "for i in word_txt:\n",
    "    temp=list(i)\n",
    "    for j in range(len(temp)):\n",
    "        tempnew.append(temp[j])\n",
    "        \n",
    "for i in range(len(tempnew)):\n",
    "    #Turn uppercase into lowercase and count as one character\n",
    "    lo=tempnew[i].lower()\n",
    "    tempnewlo.append(lo)\n",
    "    \n",
    "\n",
    "for i in range(len(tempnewlo)):\n",
    "    if(tempnewlo[i].isalpha()):\n",
    "        tempnewal.append(tempnewlo[i])\n",
    "    \n",
    "occurences={}\n",
    "for i in tempnewal:\n",
    "    if i not in occurences.keys():\n",
    "        occurences[i]=1\n",
    "    else:\n",
    "        occurences[i]+=1\n",
    "\n"
   ]
  },
  {
   "cell_type": "code",
   "execution_count": 6,
   "metadata": {
    "collapsed": false
   },
   "outputs": [
    {
     "name": "stdout",
     "output_type": "stream",
     "text": [
      "26 alphabets sorted according to their frequency!!\n",
      "e 117092\n",
      "t 87996\n",
      "a 77916\n",
      "o 69326\n",
      "n 65617\n",
      "i 65434\n",
      "s 64231\n",
      "h 62896\n",
      "r 52134\n",
      "l 42793\n",
      "d 38219\n",
      "u 26697\n",
      "m 23277\n",
      "c 22507\n",
      "w 22222\n",
      "f 20833\n",
      "g 20820\n",
      "p 17255\n",
      "b 16877\n",
      "y 16872\n",
      "v 8598\n",
      "k 8059\n",
      "q 1556\n",
      "j 1082\n",
      "x 1030\n",
      "z 632\n"
     ]
    }
   ],
   "source": [
    "s = [(k, occurences[k]) for k in sorted(occurences, key=occurences.get, reverse=True)]\n",
    "print(\"26 alphabets sorted according to their frequency!!\")\n",
    "for k, v in s:\n",
    "    print(k, v)\n",
    "    #List all 26 characters in order base on their frequency"
   ]
  }
 ],
 "metadata": {
  "anaconda-cloud": {},
  "kernelspec": {
   "display_name": "Python [conda root]",
   "language": "python",
   "name": "conda-root-py"
  },
  "language_info": {
   "codemirror_mode": {
    "name": "ipython",
    "version": 3
   },
   "file_extension": ".py",
   "mimetype": "text/x-python",
   "name": "python",
   "nbconvert_exporter": "python",
   "pygments_lexer": "ipython3",
   "version": "3.5.2"
  }
 },
 "nbformat": 4,
 "nbformat_minor": 1
}
