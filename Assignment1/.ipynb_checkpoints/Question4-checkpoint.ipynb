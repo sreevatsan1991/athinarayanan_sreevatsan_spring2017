{
 "cells": [
  {
   "cell_type": "markdown",
   "metadata": {},
   "source": [
    "# Question 4"
   ]
  },
  {
   "cell_type": "code",
   "execution_count": 1,
   "metadata": {
    "collapsed": false
   },
   "outputs": [
    {
     "name": "stdout",
     "output_type": "stream",
     "text": [
      "The No. of posts the user121 had posted is  132\n"
     ]
    }
   ],
   "source": [
    "\n",
    "import nltk\n",
    "#Under package nps_chat, see what files are in it.\n",
    "filesid=nltk.corpus.nps_chat.fileids()\n",
    "countervalue=0\n",
    "list_word=[]\n",
    "from xml.etree import cElementTree as e_tree\n",
    "for i in filesid:\n",
    "    chatslist = nltk.corpus.nps_chat.raw(i)\n",
    "    xmldata = e_tree.fromstring(chatslist)\n",
    "    for children in xmldata.iter('Post'):\n",
    "        list_word.append(children.get('user'))\n",
    "for u in list_word:\n",
    "    if 'User121'in u:\n",
    "        countervalue+=1\n",
    "print(\"The No. of posts the user121 had posted is \",countervalue)\n",
    "#Number of users having id as User121"
   ]
  },
  {
   "cell_type": "code",
   "execution_count": 3,
   "metadata": {
    "collapsed": false
   },
   "outputs": [
    {
     "name": "stdout",
     "output_type": "stream",
     "text": [
      "No. of unique users are  {'40s': 80, '20s': 162, '30s': 44}\n"
     ]
    }
   ],
   "source": [
    "import nltk\n",
    "filesid=nltk.corpus.nps_chat.fileids()\n",
    "ageslist=['20s','30s','40s']\n",
    "filedata={}\n",
    "for a in ageslist:\n",
    "    for i in filesid:\n",
    "        if a in i:\n",
    "            if a not in filedata.keys():\n",
    "                filedata.setdefault(a, [])\n",
    "                filedata[a].append(i)\n",
    "            else:\n",
    "                filedata[a].append(i)\n",
    "                \n",
    "dict_of_ages={}\n",
    "\n",
    "for k, v in filedata.items():\n",
    "    users=set()\n",
    "    for file_list in v:\n",
    "        chatslist = nltk.corpus.nps_chat.raw(file_list)\n",
    "        xmldata = e_tree.fromstring(chatslist)\n",
    "        for children in xmldata.iter('Post'):\n",
    "            users.add(children.get('user')[9:])\n",
    "    dict_of_ages[k]=users\n",
    "\n",
    "countt={}\n",
    "for k,v in dict_of_ages.items():\n",
    "    countt[k]=len(v)\n",
    "print(\"No. of unique users are \",countt)\n",
    "#Find out how many unique user in each age range group"
   ]
  },
  {
   "cell_type": "code",
   "execution_count": 11,
   "metadata": {
    "collapsed": true
   },
   "outputs": [],
   "source": []
  },
  {
   "cell_type": "code",
   "execution_count": null,
   "metadata": {
    "collapsed": false
   },
   "outputs": [],
   "source": []
  }
 ],
 "metadata": {
  "anaconda-cloud": {},
  "kernelspec": {
   "display_name": "Python [conda root]",
   "language": "python",
   "name": "conda-root-py"
  },
  "language_info": {
   "codemirror_mode": {
    "name": "ipython",
    "version": 3
   },
   "file_extension": ".py",
   "mimetype": "text/x-python",
   "name": "python",
   "nbconvert_exporter": "python",
   "pygments_lexer": "ipython3",
   "version": "3.5.2"
  }
 },
 "nbformat": 4,
 "nbformat_minor": 1
}
