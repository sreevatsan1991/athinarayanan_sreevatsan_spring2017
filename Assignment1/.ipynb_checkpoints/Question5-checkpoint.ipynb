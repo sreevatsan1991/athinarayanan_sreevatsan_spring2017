{
 "cells": [
  {
   "cell_type": "code",
   "execution_count": 1,
   "metadata": {
    "collapsed": true
   },
   "outputs": [],
   "source": [
    "import nltk\n"
   ]
  },
  {
   "cell_type": "code",
   "execution_count": 2,
   "metadata": {
    "collapsed": true
   },
   "outputs": [],
   "source": [
    "from nltk.corpus import gutenberg\n"
   ]
  },
  {
   "cell_type": "code",
   "execution_count": null,
   "metadata": {
    "collapsed": false
   },
   "outputs": [],
   "source": []
  },
  {
   "cell_type": "code",
   "execution_count": 3,
   "metadata": {
    "collapsed": false
   },
   "outputs": [],
   "source": [
    "gutenberg.fileids()\n",
    "text_1 = []\n",
    "for i in range(len(gutenberg.fileids())) :\n",
    "    if gutenberg.fileids()[i].startswith('shakespeare'):\n",
    "        text = nltk.corpus.gutenberg.words(gutenberg.fileids()[i])\n",
    "        for j in range(len(text)) :\n",
    "            text_1.append(text[j])"
   ]
  },
  {
   "cell_type": "code",
   "execution_count": 4,
   "metadata": {
    "collapsed": false
   },
   "outputs": [
    {
     "data": {
      "text/plain": [
       "69340"
      ]
     },
     "execution_count": 4,
     "metadata": {},
     "output_type": "execute_result"
    }
   ],
   "source": [
    "tempnewlo = []\n",
    "for i in range(len(text_1)):\n",
    "    lo=text_1[i].lower()\n",
    "    tempnewlo.append(lo)\n",
    "    \n",
    "tempnewal = []\n",
    "for i in range(len(tempnewlo)):\n",
    "    if(tempnewlo[i].isalpha()):\n",
    "        tempnewal.append(tempnewlo[i])\n",
    "len(tempnewal)\n",
    "#total no. of words in shakespeare after removing symbols and special characters"
   ]
  },
  {
   "cell_type": "code",
   "execution_count": null,
   "metadata": {
    "collapsed": true
   },
   "outputs": [],
   "source": []
  },
  {
   "cell_type": "code",
   "execution_count": 5,
   "metadata": {
    "collapsed": false
   },
   "outputs": [
    {
     "data": {
      "text/plain": [
       "37032"
      ]
     },
     "execution_count": 5,
     "metadata": {},
     "output_type": "execute_result"
    }
   ],
   "source": [
    "from nltk.corpus import stopwords\n",
    "filtered_words = [word for word in tempnewal if word not in stopwords.words('english')]\n",
    "len(filtered_words)\n",
    "#total no. of words in shakespeare after removing stop words"
   ]
  },
  {
   "cell_type": "code",
   "execution_count": 6,
   "metadata": {
    "collapsed": false
   },
   "outputs": [],
   "source": [
    "occurences={}\n",
    "for i in filtered_words:\n",
    "    if i not in occurences.keys():\n",
    "        occurences[i]=1\n",
    "    else:\n",
    "        occurences[i]+=1"
   ]
  },
  {
   "cell_type": "code",
   "execution_count": 7,
   "metadata": {
    "collapsed": false
   },
   "outputs": [
    {
     "name": "stdout",
     "output_type": "stream",
     "text": [
      "Top 50 words in Shakespeare\n",
      "haue 448\n",
      "ham 337\n",
      "thou 312\n",
      "shall 300\n",
      "lord 293\n",
      "come 232\n",
      "king 231\n",
      "enter 230\n",
      "good 218\n",
      "let 217\n",
      "thy 202\n",
      "caesar 193\n",
      "vs 184\n",
      "know 176\n",
      "thee 174\n",
      "would 170\n",
      "vpon 162\n",
      "like 162\n",
      "brutus 162\n",
      "bru 153\n",
      "well 152\n",
      "hath 144\n",
      "selfe 143\n",
      "man 139\n",
      "may 138\n",
      "macb 137\n",
      "yet 136\n",
      "heere 135\n",
      "must 130\n",
      "say 130\n",
      "tis 129\n",
      "th 125\n",
      "speake 119\n",
      "loue 119\n",
      "make 119\n",
      "giue 118\n",
      "see 116\n",
      "time 115\n",
      "sir 114\n",
      "night 114\n",
      "one 112\n",
      "st 110\n",
      "cassi 107\n",
      "ile 106\n",
      "doe 103\n",
      "hamlet 100\n",
      "go 100\n",
      "men 96\n",
      "hor 95\n",
      "vp 94\n"
     ]
    }
   ],
   "source": [
    "s = [(k, occurences[k]) for k in sorted(occurences, key=occurences.get, reverse=True)[:50]]\n",
    "print(\"Top 50 words in Shakespeare\")\n",
    "for k, v in s:\n",
    "    print(k, v)\n",
    "#Take top 50 words from Shakespeare "
   ]
  },
  {
   "cell_type": "code",
   "execution_count": 47,
   "metadata": {
    "collapsed": false
   },
   "outputs": [
    {
     "data": {
      "text/plain": [
       "50"
      ]
     },
     "execution_count": 47,
     "metadata": {},
     "output_type": "execute_result"
    }
   ],
   "source": [
    "len(s)"
   ]
  },
  {
   "cell_type": "code",
   "execution_count": 8,
   "metadata": {
    "collapsed": false
   },
   "outputs": [
    {
     "data": {
      "text/plain": [
       "['firefox.txt',\n",
       " 'grail.txt',\n",
       " 'overheard.txt',\n",
       " 'pirates.txt',\n",
       " 'singles.txt',\n",
       " 'wine.txt']"
      ]
     },
     "execution_count": 8,
     "metadata": {},
     "output_type": "execute_result"
    }
   ],
   "source": [
    "from nltk.corpus import webtext\n",
    "webtext.fileids()"
   ]
  },
  {
   "cell_type": "code",
   "execution_count": 9,
   "metadata": {
    "collapsed": false
   },
   "outputs": [],
   "source": [
    "import nltk\n",
    "from nltk.corpus import webtext\n",
    "text_2 = []\n",
    "for i in range(len(webtext.fileids())) :\n",
    "    if webtext.fileids()[i]:\n",
    "        text_web = nltk.corpus.webtext.words(webtext.fileids()[i])\n",
    "        for j in range(len(text_web)) :\n",
    "            text_2.append(text_web[j])"
   ]
  },
  {
   "cell_type": "code",
   "execution_count": 10,
   "metadata": {
    "collapsed": false
   },
   "outputs": [
    {
     "data": {
      "text/plain": [
       "306055"
      ]
     },
     "execution_count": 10,
     "metadata": {},
     "output_type": "execute_result"
    }
   ],
   "source": [
    "tempnewlo1 = []\n",
    "for i in range(len(text_2)):\n",
    "    lo=text_2[i].lower()\n",
    "    tempnewlo1.append(lo)\n",
    "    \n",
    "tempnewal1 = []\n",
    "for i in range(len(tempnewlo1)):\n",
    "    if(tempnewlo1[i].isalpha()):\n",
    "        tempnewal1.append(tempnewlo1[i])\n",
    "len(tempnewal1)\n",
    "#total no. of words in webtext after removing symbols and special characters"
   ]
  },
  {
   "cell_type": "code",
   "execution_count": 11,
   "metadata": {
    "collapsed": false
   },
   "outputs": [
    {
     "data": {
      "text/plain": [
       "175812"
      ]
     },
     "execution_count": 11,
     "metadata": {},
     "output_type": "execute_result"
    }
   ],
   "source": [
    "from nltk.corpus import stopwords\n",
    "filtered_words1 = [word for word in tempnewal1 if word not in stopwords.words('english')]\n",
    "len(filtered_words1)\n",
    "#total no. of words in webtext after removing stopwords"
   ]
  },
  {
   "cell_type": "code",
   "execution_count": 12,
   "metadata": {
    "collapsed": true
   },
   "outputs": [],
   "source": [
    "occurences1={}\n",
    "for i in filtered_words1:\n",
    "    if i not in occurences1.keys():\n",
    "        occurences1[i]=1\n",
    "    else:\n",
    "        occurences1[i]+=1"
   ]
  },
  {
   "cell_type": "code",
   "execution_count": 13,
   "metadata": {
    "collapsed": false
   },
   "outputs": [],
   "source": [
    "s1 = [(k1, occurences1[k1]) for k1 in sorted(occurences1, key=occurences1.get, reverse=True)[:50]]\n",
    "#Top 50 words from webtext "
   ]
  },
  {
   "cell_type": "code",
   "execution_count": null,
   "metadata": {
    "collapsed": false
   },
   "outputs": [],
   "source": []
  },
  {
   "cell_type": "code",
   "execution_count": 14,
   "metadata": {
    "collapsed": false
   },
   "outputs": [
    {
     "name": "stdout",
     "output_type": "stream",
     "text": [
      "('haue', 448)\n",
      "('ham', 337)\n",
      "('thou', 312)\n",
      "('shall', 300)\n",
      "('lord', 293)\n",
      "('come', 232)\n",
      "('king', 231)\n",
      "('enter', 230)\n",
      "('good', 218)\n",
      "('let', 217)\n",
      "('thy', 202)\n",
      "('caesar', 193)\n",
      "('vs', 184)\n",
      "('know', 176)\n",
      "('thee', 174)\n",
      "('would', 170)\n",
      "('vpon', 162)\n",
      "('like', 162)\n",
      "('brutus', 162)\n",
      "('bru', 153)\n",
      "('well', 152)\n",
      "('hath', 144)\n",
      "('selfe', 143)\n",
      "('man', 139)\n",
      "('may', 138)\n",
      "('macb', 137)\n",
      "('yet', 136)\n",
      "('heere', 135)\n",
      "('must', 130)\n",
      "('say', 130)\n",
      "('tis', 129)\n",
      "('th', 125)\n",
      "('speake', 119)\n",
      "('loue', 119)\n",
      "('make', 119)\n",
      "('giue', 118)\n",
      "('see', 116)\n",
      "('time', 115)\n",
      "('sir', 114)\n",
      "('night', 114)\n",
      "('one', 112)\n",
      "('st', 110)\n",
      "('cassi', 107)\n",
      "('ile', 106)\n",
      "('doe', 103)\n",
      "('hamlet', 100)\n",
      "('go', 100)\n",
      "('men', 96)\n",
      "('hor', 95)\n",
      "('vp', 94)\n"
     ]
    }
   ],
   "source": [
    "oldwords=[]\n",
    "for i in range(len(s)):\n",
    "    if(s[i] not in s1):\n",
    "        print(s[i])\n",
    "    #Remove the words we still use today    "
   ]
  },
  {
   "cell_type": "code",
   "execution_count": 65,
   "metadata": {
    "collapsed": false
   },
   "outputs": [
    {
     "data": {
      "text/plain": [
       "('haue', 448)"
      ]
     },
     "execution_count": 65,
     "metadata": {},
     "output_type": "execute_result"
    }
   ],
   "source": [
    "s[0]"
   ]
  },
  {
   "cell_type": "code",
   "execution_count": 72,
   "metadata": {
    "collapsed": false
   },
   "outputs": [],
   "source": [
    "for i in range(len(s)):\n",
    "    if(s[i] in s1):\n",
    "        print(s[i])"
   ]
  },
  {
   "cell_type": "code",
   "execution_count": 83,
   "metadata": {
    "collapsed": false
   },
   "outputs": [],
   "source": [
    "s_dict=dict(s)\n",
    "s1_dict=dict(s1)"
   ]
  },
  {
   "cell_type": "code",
   "execution_count": 96,
   "metadata": {
    "collapsed": false
   },
   "outputs": [],
   "source": [
    "newdict={}\n",
    "for key in s_dict.keys():\n",
    "    if(key not in s1_dict.keys()):\n",
    "        newdict[key]=s_dict[key]\n",
    "        "
   ]
  },
  {
   "cell_type": "code",
   "execution_count": 97,
   "metadata": {
    "collapsed": false
   },
   "outputs": [
    {
     "data": {
      "text/plain": [
       "{'bru': 153,\n",
       " 'brutus': 162,\n",
       " 'caesar': 193,\n",
       " 'cassi': 107,\n",
       " 'giue': 118,\n",
       " 'go': 100,\n",
       " 'ham': 337,\n",
       " 'hamlet': 100,\n",
       " 'hor': 95,\n",
       " 'loue': 119,\n",
       " 'men': 96}"
      ]
     },
     "execution_count": 97,
     "metadata": {},
     "output_type": "execute_result"
    }
   ],
   "source": [
    "newdict"
   ]
  },
  {
   "cell_type": "code",
   "execution_count": 100,
   "metadata": {
    "collapsed": false
   },
   "outputs": [
    {
     "data": {
      "text/plain": [
       "[('ham', 337), ('caesar', 193), ('brutus', 162), ('bru', 153), ('loue', 119)]"
      ]
     },
     "execution_count": 100,
     "metadata": {},
     "output_type": "execute_result"
    }
   ],
   "source": [
    "topfive = [(k1, newdict[k1]) for k1 in sorted(newdict, key=newdict.get, reverse=True)[:5]]\n",
    "        \n",
    "topfive\n",
    "#Show the top 5 elements. "
   ]
  }
 ],
 "metadata": {
  "anaconda-cloud": {},
  "kernelspec": {
   "display_name": "Python [conda root]",
   "language": "python",
   "name": "conda-root-py"
  },
  "language_info": {
   "codemirror_mode": {
    "name": "ipython",
    "version": 3
   },
   "file_extension": ".py",
   "mimetype": "text/x-python",
   "name": "python",
   "nbconvert_exporter": "python",
   "pygments_lexer": "ipython3",
   "version": "3.5.2"
  }
 },
 "nbformat": 4,
 "nbformat_minor": 1
}
