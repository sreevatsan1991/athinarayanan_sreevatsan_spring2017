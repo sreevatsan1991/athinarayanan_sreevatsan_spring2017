{
 "cells": [
  {
   "cell_type": "code",
   "execution_count": 105,
   "metadata": {
    "collapsed": true
   },
   "outputs": [],
   "source": [
    "import nltk\n"
   ]
  },
  {
   "cell_type": "code",
   "execution_count": 106,
   "metadata": {
    "collapsed": false
   },
   "outputs": [],
   "source": [
    "from nltk.corpus import names"
   ]
  },
  {
   "cell_type": "code",
   "execution_count": 108,
   "metadata": {
    "collapsed": false
   },
   "outputs": [
    {
     "data": {
      "text/plain": [
       "'female.txt'"
      ]
     },
     "execution_count": 108,
     "metadata": {},
     "output_type": "execute_result"
    }
   ],
   "source": [
    "fileid=nltk.corpus.names.fileids()\n",
    "fileid[0]"
   ]
  },
  {
   "cell_type": "code",
   "execution_count": 109,
   "metadata": {
    "collapsed": false
   },
   "outputs": [],
   "source": [
    "female_names = nltk.corpus.names.words(fileid[0])\n",
    "male_names = nltk.corpus.names.words(fileid[1])"
   ]
  },
  {
   "cell_type": "code",
   "execution_count": 110,
   "metadata": {
    "collapsed": false
   },
   "outputs": [],
   "source": [
    "totalnames=[]\n",
    "totalnames=male_names+female_names"
   ]
  },
  {
   "cell_type": "code",
   "execution_count": 111,
   "metadata": {
    "collapsed": false
   },
   "outputs": [],
   "source": [
    "female_names_occ={}\n",
    "for i in range(len(female_names)):\n",
    "    if(female_names[i][-1:] not in female_names_occ.keys()):\n",
    "        female_names_occ[female_names[i][-1:]]=1\n",
    "    else:\n",
    "        female_names_occ[female_names[i][-1:]]+=1"
   ]
  },
  {
   "cell_type": "code",
   "execution_count": 112,
   "metadata": {
    "collapsed": false
   },
   "outputs": [],
   "source": [
    "male_names_occ={}\n",
    "for i in range(len(male_names)):\n",
    "    if(male_names[i][-1:] not in male_names_occ.keys()):\n",
    "        male_names_occ[male_names[i][-1:]]=1\n",
    "    else:\n",
    "        male_names_occ[male_names[i][-1:]]+=1"
   ]
  },
  {
   "cell_type": "code",
   "execution_count": 113,
   "metadata": {
    "collapsed": false
   },
   "outputs": [],
   "source": [
    "total_names_occ={}\n",
    "for i in range(len(totalnames)):\n",
    "    if(totalnames[i][-1:] not in total_names_occ.keys()):\n",
    "        total_names_occ[totalnames[i][-1:]]=1\n",
    "    else:\n",
    "        total_names_occ[totalnames[i][-1:]]+=1"
   ]
  },
  {
   "cell_type": "code",
   "execution_count": 114,
   "metadata": {
    "collapsed": false
   },
   "outputs": [],
   "source": [
    "#probability of a name being male\n",
    "probability_letter={}\n",
    "for k,v in total_names_occ.items():\n",
    "#Male probability\n",
    "    if(k in male_names_occ.keys()):\n",
    "        prob_male=100*(male_names_occ[k])/(total_names_occ[k])\n",
    "    if(k in female_names_occ.keys()):\n",
    "        prob_female=100*(female_names_occ[k])/(total_names_occ[k])\n",
    "    \n",
    "    probability_letter[k]={}\n",
    "    probability_letter[k]['male']=round(prob_male,2)\n",
    "    probability_letter[k]['female']=round(prob_female,2)\n",
    "          "
   ]
  },
  {
   "cell_type": "code",
   "execution_count": 118,
   "metadata": {
    "collapsed": false
   },
   "outputs": [
    {
     "name": "stdout",
     "output_type": "stream",
     "text": [
      "Hi Sreevatsan!! There is a 55.32% chance that you are a male\n",
      "You know what?? There is a 44.68% chance that you are a female\n"
     ]
    }
   ],
   "source": [
    "nameinput='Sreevatsan'\n",
    "lastcharacter=nameinput[-1:]\n",
    "#Rounded to two digits\n",
    "if(lastcharacter in probability_letter.keys()):\n",
    "    print(\"Hi \"+nameinput+\"!! There is a \"+str(probability_letter[lastcharacter]['male'])+\"% chance that you are a male\")\n",
    "    print(\"You know what?? There is a \"+str(probability_letter[lastcharacter]['female'])+\"% chance that you are a female\")"
   ]
  },
  {
   "cell_type": "code",
   "execution_count": 117,
   "metadata": {
    "collapsed": false
   },
   "outputs": [
    {
     "data": {
      "text/plain": [
       "{' ': {'female': 100.0, 'male': 88.89},\n",
       " 'a': {'female': 98.39, 'male': 1.61},\n",
       " 'b': {'female': 30.0, 'male': 70.0},\n",
       " 'c': {'female': 4.17, 'male': 100.0},\n",
       " 'd': {'female': 14.61, 'male': 85.39},\n",
       " 'e': {'female': 75.37, 'male': 24.63},\n",
       " 'f': {'female': 7.41, 'male': 92.59},\n",
       " 'g': {'female': 23.81, 'male': 76.19},\n",
       " 'h': {'female': 53.03, 'male': 46.97},\n",
       " 'i': {'female': 86.38, 'male': 13.62},\n",
       " 'j': {'female': 25.0, 'male': 75.0},\n",
       " 'k': {'female': 4.17, 'male': 95.83},\n",
       " 'l': {'female': 48.91, 'male': 51.09},\n",
       " 'm': {'female': 15.66, 'male': 84.34},\n",
       " 'n': {'female': 44.68, 'male': 55.32},\n",
       " 'o': {'female': 16.67, 'male': 83.33},\n",
       " 'p': {'female': 10.0, 'male': 90.0},\n",
       " 'r': {'female': 19.83, 'male': 80.17},\n",
       " 's': {'female': 28.79, 'male': 71.21},\n",
       " 't': {'female': 29.31, 'male': 70.69},\n",
       " 'u': {'female': 33.33, 'male': 66.67},\n",
       " 'v': {'female': 11.11, 'male': 88.89},\n",
       " 'w': {'female': 22.73, 'male': 77.27},\n",
       " 'x': {'female': 50.0, 'male': 50.0},\n",
       " 'y': {'female': 58.13, 'male': 41.87},\n",
       " 'z': {'female': 26.67, 'male': 73.33}}"
      ]
     },
     "execution_count": 117,
     "metadata": {},
     "output_type": "execute_result"
    }
   ],
   "source": [
    "print(\"Probability of each letter being a male or a female\")\n",
    "print(probability_letter)\n"
   ]
  },
  {
   "cell_type": "markdown",
   "metadata": {},
   "source": []
  },
  {
   "cell_type": "code",
   "execution_count": 115,
   "metadata": {
    "collapsed": true
   },
   "outputs": [],
   "source": [
    "from nltk.corpus import nps_chat\n",
    "fileid=nltk.corpus.nps_chat.fileids()"
   ]
  },
  {
   "cell_type": "code",
   "execution_count": 116,
   "metadata": {
    "collapsed": false
   },
   "outputs": [
    {
     "data": {
      "text/plain": [
       "['now', 'im', 'left', 'with', 'this', 'gay', 'name', ...]"
      ]
     },
     "execution_count": 116,
     "metadata": {},
     "output_type": "execute_result"
    }
   ],
   "source": [
    "nltk.corpus.nps_chat.words('10-19-20s_706posts.xml')"
   ]
  }
 ],
 "metadata": {
  "anaconda-cloud": {},
  "kernelspec": {
   "display_name": "Python [default]",
   "language": "python",
   "name": "python3"
  },
  "language_info": {
   "codemirror_mode": {
    "name": "ipython",
    "version": 3
   },
   "file_extension": ".py",
   "mimetype": "text/x-python",
   "name": "python",
   "nbconvert_exporter": "python",
   "pygments_lexer": "ipython3",
   "version": "3.5.2"
  }
 },
 "nbformat": 4,
 "nbformat_minor": 2
}
