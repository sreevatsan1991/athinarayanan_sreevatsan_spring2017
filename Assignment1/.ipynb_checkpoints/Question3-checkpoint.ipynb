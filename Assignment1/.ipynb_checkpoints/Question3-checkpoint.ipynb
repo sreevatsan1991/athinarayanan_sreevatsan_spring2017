{
 "cells": [
  {
   "cell_type": "code",
   "execution_count": 1,
   "metadata": {
    "collapsed": false
   },
   "outputs": [],
   "source": [
    "import nltk\n",
    "from nltk.corpus import webtext\n",
    "#Under package Webtext, see what files are in it\n",
    "webtext.fileids()\n",
    "\n",
    "#Get content in file 'pirates.txt'.\n",
    "sent_txt = nltk.corpus.webtext.raw('pirates.txt').replace('[','')\n",
    "#print(sent_txt)\n",
    "j_list=[]\n",
    "s =sent_txt.split('\\n')\n",
    "for e in range(len(s)):\n",
    "    if(s[e].startswith('JACK SPARROW')):\n",
    "        j_list.append(s[e])\n",
    "jacklength=len(j_list)\n",
    "#No. of lines jack sparrow had "
   ]
  },
  {
   "cell_type": "code",
   "execution_count": 2,
   "metadata": {
    "collapsed": false
   },
   "outputs": [
    {
     "data": {
      "text/plain": [
       "193"
      ]
     },
     "execution_count": 2,
     "metadata": {},
     "output_type": "execute_result"
    }
   ],
   "source": [
    "jacklength"
   ]
  },
  {
   "cell_type": "code",
   "execution_count": 3,
   "metadata": {
    "collapsed": false
   },
   "outputs": [],
   "source": [
    "w_list = []\n",
    "for i in range(len(s)):\n",
    "    if(s[i].startswith('WILL TURNER')):\n",
    "        w_list.append(s[i])\n",
    "willlength=len(w_list)\n",
    "#No.of lines will turner had "
   ]
  },
  {
   "cell_type": "code",
   "execution_count": 4,
   "metadata": {
    "collapsed": false
   },
   "outputs": [
    {
     "data": {
      "text/plain": [
       "133"
      ]
     },
     "execution_count": 4,
     "metadata": {},
     "output_type": "execute_result"
    }
   ],
   "source": [
    "willlength"
   ]
  },
  {
   "cell_type": "code",
   "execution_count": 3,
   "metadata": {
    "collapsed": false
   },
   "outputs": [
    {
     "name": "stdout",
     "output_type": "stream",
     "text": [
      "Based on the length of number of lines spoken, the winner is Jack Sparrow!!\n"
     ]
    }
   ],
   "source": [
    "print(\"Based on the length of number of lines spoken, the winner is Jack Sparrow!!\")"
   ]
  }
 ],
 "metadata": {
  "anaconda-cloud": {},
  "kernelspec": {
   "display_name": "Python [conda root]",
   "language": "python",
   "name": "conda-root-py"
  },
  "language_info": {
   "codemirror_mode": {
    "name": "ipython",
    "version": 3
   },
   "file_extension": ".py",
   "mimetype": "text/x-python",
   "name": "python",
   "nbconvert_exporter": "python",
   "pygments_lexer": "ipython3",
   "version": "3.5.2"
  }
 },
 "nbformat": 4,
 "nbformat_minor": 1
}
