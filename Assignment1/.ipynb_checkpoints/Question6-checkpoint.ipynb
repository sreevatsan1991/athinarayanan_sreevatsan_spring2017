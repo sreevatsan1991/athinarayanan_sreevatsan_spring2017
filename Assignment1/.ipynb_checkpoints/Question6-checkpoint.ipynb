{
 "cells": [
  {
   "cell_type": "code",
   "execution_count": 18,
   "metadata": {
    "collapsed": false
   },
   "outputs": [],
   "source": [
    "import nltk\n",
    "names=[]\n",
    "from nltk.corpus import inaugural\n",
    "for i in range(0,len(inaugural.fileids())):\n",
    "    name=inaugural.fileids()[i][5:-4]\n",
    "    #nltk.corpus.inaugural.words(inaugural.fileids()[i])\n",
    "    names.append(name)"
   ]
  },
  {
   "cell_type": "code",
   "execution_count": 30,
   "metadata": {
    "collapsed": false
   },
   "outputs": [],
   "source": [
    "namesuniqu=set(names)\n",
    "namesuniques=list(namesuniqu)\n",
    "#extracting the president names"
   ]
  },
  {
   "cell_type": "code",
   "execution_count": 59,
   "metadata": {
    "collapsed": false
   },
   "outputs": [],
   "source": [
    "filenames=inaugural.fileids()\n",
    "wordsdict={}\n",
    "for i in range(len(namesuniques)):\n",
    "    for j in range(len(filenames)):\n",
    "        if(namesuniques[i]==filenames[j][5:-4]):\n",
    "            txt = nltk.corpus.inaugural.words(filenames[j])\n",
    "            namee=namesuniques[i]\n",
    "            if(namesuniques[i] in wordsdict.keys()):\n",
    "                for k in range(len(txt)):\n",
    "                    wordsdict[namee].append(txt[k])\n",
    "            else:\n",
    "                wordsdict[namesuniques[i]]=[]\n",
    "                for k in range(len(txt)):\n",
    "                    wordsdict[namee].append(txt[k])\n",
    "                \n",
    "            \n",
    "            \n"
   ]
  },
  {
   "cell_type": "code",
   "execution_count": 70,
   "metadata": {
    "collapsed": false
   },
   "outputs": [],
   "source": [
    "uniquee=[]\n",
    "presidentdict={}\n",
    "for k,v in wordsdict.items():\n",
    "    uniquee=v\n",
    "    uniquelist=set(uniquee)\n",
    "    uniquelistt=list(uniquelist)\n",
    "    countt=len(uniquelistt)\n",
    "    presidentdict[k]=countt\n",
    "    #filtering unique words"
   ]
  },
  {
   "cell_type": "code",
   "execution_count": 76,
   "metadata": {
    "collapsed": false
   },
   "outputs": [
    {
     "data": {
      "text/plain": [
       "{'Adams': 1503,\n",
       " 'Buchanan': 948,\n",
       " 'Bush': 1578,\n",
       " 'Carter': 529,\n",
       " 'Cleveland': 1219,\n",
       " 'Clinton': 1138,\n",
       " 'Coolidge': 1221,\n",
       " 'Eisenhower': 1250,\n",
       " 'Garfield': 1022,\n",
       " 'Grant': 855,\n",
       " 'Harding': 1170,\n",
       " 'Harrison': 2662,\n",
       " 'Hayes': 832,\n",
       " 'Hoover': 1087,\n",
       " 'Jackson': 846,\n",
       " 'Jefferson': 1261,\n",
       " 'Johnson': 571,\n",
       " 'Kennedy': 570,\n",
       " 'Lincoln': 1261,\n",
       " 'Madison': 899,\n",
       " 'McKinley': 1682,\n",
       " 'Monroe': 1781,\n",
       " 'Nixon': 1037,\n",
       " 'Obama': 938,\n",
       " 'Pierce': 1168,\n",
       " 'Polk': 1333,\n",
       " 'Reagan': 1453,\n",
       " 'Roosevelt': 1704,\n",
       " 'Taft': 1439,\n",
       " 'Taylor': 499,\n",
       " 'Truman': 781,\n",
       " 'VanBuren': 1318,\n",
       " 'Washington': 663,\n",
       " 'Wilson': 996}"
      ]
     },
     "execution_count": 76,
     "metadata": {},
     "output_type": "execute_result"
    }
   ],
   "source": [
    "presidentdict\n",
    "#For every president, find out how many unique words they used in speech. "
   ]
  },
  {
   "cell_type": "code",
   "execution_count": 75,
   "metadata": {
    "collapsed": false
   },
   "outputs": [
    {
     "data": {
      "text/plain": [
       "499"
      ]
     },
     "execution_count": 75,
     "metadata": {},
     "output_type": "execute_result"
    }
   ],
   "source": [
    "b=nltk.corpus.inaugural.words('1849-Taylor.txt')\n",
    "c=set(b)\n",
    "d=list(c)\n",
    "len(d)"
   ]
  }
 ],
 "metadata": {
  "kernelspec": {
   "display_name": "Python [conda root]",
   "language": "python",
   "name": "conda-root-py"
  },
  "language_info": {
   "codemirror_mode": {
    "name": "ipython",
    "version": 3
   },
   "file_extension": ".py",
   "mimetype": "text/x-python",
   "name": "python",
   "nbconvert_exporter": "python",
   "pygments_lexer": "ipython3",
   "version": "3.5.2"
  }
 },
 "nbformat": 4,
 "nbformat_minor": 1
}
