{
 "cells": [
  {
   "cell_type": "code",
   "execution_count": 6,
   "metadata": {
    "collapsed": true
   },
   "outputs": [],
   "source": [
    "import nltk\n"
   ]
  },
  {
   "cell_type": "code",
   "execution_count": 7,
   "metadata": {
    "collapsed": true
   },
   "outputs": [],
   "source": [
    "from nltk.corpus import gutenberg\n"
   ]
  },
  {
   "cell_type": "code",
   "execution_count": null,
   "metadata": {
    "collapsed": false
   },
   "outputs": [],
   "source": []
  },
  {
   "cell_type": "code",
   "execution_count": 8,
   "metadata": {
    "collapsed": false
   },
   "outputs": [],
   "source": [
    "gutenberg.fileids()\n",
    "text_1 = []\n",
    "for i in range(len(gutenberg.fileids())) :\n",
    "    if gutenberg.fileids()[i].startswith('shakespeare'):\n",
    "        text = nltk.corpus.gutenberg.words(gutenberg.fileids()[i])\n",
    "        for j in range(len(text)) :\n",
    "            text_1.append(text[j])"
   ]
  },
  {
   "cell_type": "code",
   "execution_count": 9,
   "metadata": {
    "collapsed": false
   },
   "outputs": [
    {
     "data": {
      "text/plain": [
       "69340"
      ]
     },
     "execution_count": 9,
     "metadata": {},
     "output_type": "execute_result"
    }
   ],
   "source": [
    "tempnewlo = []\n",
    "for i in range(len(text_1)):\n",
    "    lo=text_1[i].lower()\n",
    "    tempnewlo.append(lo)\n",
    "    \n",
    "tempnewal = []\n",
    "for i in range(len(tempnewlo)):\n",
    "    if(tempnewlo[i].isalpha()):\n",
    "        tempnewal.append(tempnewlo[i])\n",
    "len(tempnewal)"
   ]
  },
  {
   "cell_type": "code",
   "execution_count": null,
   "metadata": {
    "collapsed": true
   },
   "outputs": [],
   "source": []
  },
  {
   "cell_type": "code",
   "execution_count": 10,
   "metadata": {
    "collapsed": false
   },
   "outputs": [
    {
     "data": {
      "text/plain": [
       "37032"
      ]
     },
     "execution_count": 10,
     "metadata": {},
     "output_type": "execute_result"
    }
   ],
   "source": [
    "from nltk.corpus import stopwords\n",
    "filtered_words = [word for word in tempnewal if word not in stopwords.words('english')]\n",
    "len(filtered_words)"
   ]
  },
  {
   "cell_type": "code",
   "execution_count": 41,
   "metadata": {
    "collapsed": false
   },
   "outputs": [],
   "source": [
    "occurences={}\n",
    "for i in filtered_words:\n",
    "    if i not in occurences.keys():\n",
    "        occurences[i]=1\n",
    "    else:\n",
    "        occurences[i]+=1"
   ]
  },
  {
   "cell_type": "code",
   "execution_count": 1,
   "metadata": {
    "collapsed": false
   },
   "outputs": [
    {
     "ename": "NameError",
     "evalue": "name 'occurences' is not defined",
     "output_type": "error",
     "traceback": [
      "\u001b[0;31m---------------------------------------------------------------------------\u001b[0m",
      "\u001b[0;31mNameError\u001b[0m                                 Traceback (most recent call last)",
      "\u001b[0;32m<ipython-input-1-662ef49a4ea3>\u001b[0m in \u001b[0;36m<module>\u001b[0;34m()\u001b[0m\n\u001b[0;32m----> 1\u001b[0;31m \u001b[0ms\u001b[0m \u001b[1;33m=\u001b[0m \u001b[1;33m[\u001b[0m\u001b[1;33m(\u001b[0m\u001b[0mk\u001b[0m\u001b[1;33m,\u001b[0m \u001b[0moccurences\u001b[0m\u001b[1;33m[\u001b[0m\u001b[0mk\u001b[0m\u001b[1;33m]\u001b[0m\u001b[1;33m)\u001b[0m \u001b[1;32mfor\u001b[0m \u001b[0mk\u001b[0m \u001b[1;32min\u001b[0m \u001b[0msorted\u001b[0m\u001b[1;33m(\u001b[0m\u001b[0moccurences\u001b[0m\u001b[1;33m,\u001b[0m \u001b[0mkey\u001b[0m\u001b[1;33m=\u001b[0m\u001b[0moccurences\u001b[0m\u001b[1;33m.\u001b[0m\u001b[0mget\u001b[0m\u001b[1;33m,\u001b[0m \u001b[0mreverse\u001b[0m\u001b[1;33m=\u001b[0m\u001b[1;32mTrue\u001b[0m\u001b[1;33m)\u001b[0m\u001b[1;33m[\u001b[0m\u001b[1;33m:\u001b[0m\u001b[1;36m50\u001b[0m\u001b[1;33m]\u001b[0m\u001b[1;33m]\u001b[0m\u001b[1;33m\u001b[0m\u001b[0m\n\u001b[0m\u001b[1;32m      2\u001b[0m \u001b[1;32mfor\u001b[0m \u001b[0mk\u001b[0m\u001b[1;33m,\u001b[0m \u001b[0mv\u001b[0m \u001b[1;32min\u001b[0m \u001b[0ms\u001b[0m\u001b[1;33m:\u001b[0m\u001b[1;33m\u001b[0m\u001b[0m\n\u001b[1;32m      3\u001b[0m     \u001b[0mprint\u001b[0m\u001b[1;33m(\u001b[0m\u001b[0mk\u001b[0m\u001b[1;33m,\u001b[0m \u001b[0mv\u001b[0m\u001b[1;33m)\u001b[0m\u001b[1;33m\u001b[0m\u001b[0m\n",
      "\u001b[0;31mNameError\u001b[0m: name 'occurences' is not defined"
     ]
    }
   ],
   "source": [
    "s = [(k, occurences[k]) for k in sorted(occurences, key=occurences.get, reverse=True)[:50]]\n",
    "print(\"Top 50 words in Shakespeare\")\n",
    "for k, v in s:\n",
    "    print(k, v)\n"
   ]
  },
  {
   "cell_type": "code",
   "execution_count": 47,
   "metadata": {
    "collapsed": false
   },
   "outputs": [
    {
     "data": {
      "text/plain": [
       "50"
      ]
     },
     "execution_count": 47,
     "metadata": {},
     "output_type": "execute_result"
    }
   ],
   "source": [
    "len(s)"
   ]
  },
  {
   "cell_type": "code",
   "execution_count": 44,
   "metadata": {
    "collapsed": false
   },
   "outputs": [
    {
     "data": {
      "text/plain": [
       "['firefox.txt',\n",
       " 'grail.txt',\n",
       " 'overheard.txt',\n",
       " 'pirates.txt',\n",
       " 'singles.txt',\n",
       " 'wine.txt']"
      ]
     },
     "execution_count": 44,
     "metadata": {},
     "output_type": "execute_result"
    }
   ],
   "source": [
    "from nltk.corpus import webtext\n",
    "webtext.fileids()"
   ]
  },
  {
   "cell_type": "code",
   "execution_count": 4,
   "metadata": {
    "collapsed": false
   },
   "outputs": [],
   "source": [
    "import nltk\n",
    "from nltk.corpus import webtext\n",
    "text_2 = []\n",
    "for i in range(len(webtext.fileids())) :\n",
    "    if webtext.fileids()[i]:\n",
    "        text_web = nltk.corpus.webtext.words(webtext.fileids()[i])\n",
    "        for j in range(len(text_web)) :\n",
    "            text_2.append(text_web[j])"
   ]
  },
  {
   "cell_type": "code",
   "execution_count": 51,
   "metadata": {
    "collapsed": false
   },
   "outputs": [
    {
     "data": {
      "text/plain": [
       "109632"
      ]
     },
     "execution_count": 51,
     "metadata": {},
     "output_type": "execute_result"
    }
   ],
   "source": [
    "tempnewlo1 = []\n",
    "for i in range(len(text_2)):\n",
    "    lo=text_2[i].lower()\n",
    "    tempnewlo1.append(lo)\n",
    "    \n",
    "tempnewal1 = []\n",
    "for i in range(len(tempnewlo1)):\n",
    "    if(tempnewlo1[i].isalpha()):\n",
    "        tempnewal1.append(tempnewlo1[i])\n",
    "len(tempnewal1)"
   ]
  },
  {
   "cell_type": "code",
   "execution_count": 52,
   "metadata": {
    "collapsed": false
   },
   "outputs": [
    {
     "data": {
      "text/plain": [
       "60468"
      ]
     },
     "execution_count": 52,
     "metadata": {},
     "output_type": "execute_result"
    }
   ],
   "source": [
    "from nltk.corpus import stopwords\n",
    "filtered_words1 = [word for word in tempnewal1 if word not in stopwords.words('english')]\n",
    "len(filtered_words1)"
   ]
  },
  {
   "cell_type": "code",
   "execution_count": 53,
   "metadata": {
    "collapsed": true
   },
   "outputs": [],
   "source": [
    "occurences1={}\n",
    "for i in filtered_words1:\n",
    "    if i not in occurences1.keys():\n",
    "        occurences1[i]=1\n",
    "    else:\n",
    "        occurences1[i]+=1"
   ]
  },
  {
   "cell_type": "code",
   "execution_count": 56,
   "metadata": {
    "collapsed": false
   },
   "outputs": [],
   "source": [
    "s1 = [(k1, occurences1[k1]) for k1 in sorted(occurences1, key=occurences1.get, reverse=True)[:50]]\n"
   ]
  },
  {
   "cell_type": "code",
   "execution_count": null,
   "metadata": {
    "collapsed": false
   },
   "outputs": [],
   "source": []
  },
  {
   "cell_type": "code",
   "execution_count": 64,
   "metadata": {
    "collapsed": false
   },
   "outputs": [
    {
     "name": "stdout",
     "output_type": "stream",
     "text": [
      "('haue', 448)\n",
      "('ham', 337)\n",
      "('thou', 312)\n",
      "('shall', 300)\n",
      "('lord', 293)\n",
      "('come', 232)\n",
      "('king', 231)\n",
      "('enter', 230)\n",
      "('good', 218)\n",
      "('let', 217)\n",
      "('thy', 202)\n",
      "('caesar', 193)\n",
      "('vs', 184)\n",
      "('know', 176)\n",
      "('thee', 174)\n",
      "('would', 170)\n",
      "('like', 162)\n",
      "('vpon', 162)\n",
      "('brutus', 162)\n",
      "('bru', 153)\n",
      "('well', 152)\n",
      "('hath', 144)\n",
      "('selfe', 143)\n",
      "('man', 139)\n",
      "('may', 138)\n",
      "('macb', 137)\n",
      "('yet', 136)\n",
      "('heere', 135)\n",
      "('say', 130)\n",
      "('must', 130)\n",
      "('tis', 129)\n",
      "('th', 125)\n",
      "('loue', 119)\n",
      "('make', 119)\n",
      "('speake', 119)\n",
      "('giue', 118)\n",
      "('see', 116)\n",
      "('time', 115)\n",
      "('night', 114)\n",
      "('sir', 114)\n",
      "('one', 112)\n",
      "('st', 110)\n",
      "('cassi', 107)\n",
      "('ile', 106)\n",
      "('doe', 103)\n",
      "('go', 100)\n",
      "('hamlet', 100)\n",
      "('men', 96)\n",
      "('hor', 95)\n",
      "('vp', 94)\n"
     ]
    }
   ],
   "source": [
    "oldwords=[]\n",
    "for i in range(len(s)):\n",
    "    if(s[i] not in s1):\n",
    "        print(s[i])\n",
    "        "
   ]
  },
  {
   "cell_type": "code",
   "execution_count": 65,
   "metadata": {
    "collapsed": false
   },
   "outputs": [
    {
     "data": {
      "text/plain": [
       "('haue', 448)"
      ]
     },
     "execution_count": 65,
     "metadata": {},
     "output_type": "execute_result"
    }
   ],
   "source": [
    "s[0]"
   ]
  },
  {
   "cell_type": "code",
   "execution_count": 72,
   "metadata": {
    "collapsed": false
   },
   "outputs": [],
   "source": [
    "for i in range(len(s)):\n",
    "    if(s[i] in s1):\n",
    "        print(s[i])"
   ]
  },
  {
   "cell_type": "code",
   "execution_count": 83,
   "metadata": {
    "collapsed": false
   },
   "outputs": [],
   "source": [
    "s_dict=dict(s)\n",
    "s1_dict=dict(s1)"
   ]
  },
  {
   "cell_type": "code",
   "execution_count": 96,
   "metadata": {
    "collapsed": false
   },
   "outputs": [],
   "source": [
    "newdict={}\n",
    "for key in s_dict.keys():\n",
    "    if(key not in s1_dict.keys()):\n",
    "        newdict[key]=s_dict[key]\n",
    "        "
   ]
  },
  {
   "cell_type": "code",
   "execution_count": 97,
   "metadata": {
    "collapsed": false
   },
   "outputs": [
    {
     "data": {
      "text/plain": [
       "{'bru': 153,\n",
       " 'brutus': 162,\n",
       " 'caesar': 193,\n",
       " 'cassi': 107,\n",
       " 'giue': 118,\n",
       " 'go': 100,\n",
       " 'ham': 337,\n",
       " 'hamlet': 100,\n",
       " 'hor': 95,\n",
       " 'loue': 119,\n",
       " 'men': 96}"
      ]
     },
     "execution_count": 97,
     "metadata": {},
     "output_type": "execute_result"
    }
   ],
   "source": [
    "newdict"
   ]
  },
  {
   "cell_type": "code",
   "execution_count": 100,
   "metadata": {
    "collapsed": false
   },
   "outputs": [
    {
     "data": {
      "text/plain": [
       "[('ham', 337), ('caesar', 193), ('brutus', 162), ('bru', 153), ('loue', 119)]"
      ]
     },
     "execution_count": 100,
     "metadata": {},
     "output_type": "execute_result"
    }
   ],
   "source": [
    "topfive = [(k1, newdict[k1]) for k1 in sorted(newdict, key=newdict.get, reverse=True)[:5]]\n",
    "        \n",
    "topfive"
   ]
  },
  {
   "cell_type": "code",
   "execution_count": 91,
   "metadata": {
    "collapsed": false
   },
   "outputs": [
    {
     "data": {
      "text/plain": [
       "[('macb', 822),\n",
       " ('haue', 732),\n",
       " ('thou', 540),\n",
       " ('enter', 486),\n",
       " ('shall', 408),\n",
       " ('macbeth', 372),\n",
       " ('vpon', 372),\n",
       " ('thee', 366),\n",
       " ('macd', 348),\n",
       " ('vs', 342),\n",
       " ('th', 342),\n",
       " ('yet', 342),\n",
       " ('thy', 336),\n",
       " ('king', 330),\n",
       " ('come', 324),\n",
       " ('would', 318),\n",
       " ('hath', 312),\n",
       " ('rosse', 294),\n",
       " ('good', 294),\n",
       " ('lady', 288),\n",
       " ('time', 276),\n",
       " ('like', 258),\n",
       " ('let', 252),\n",
       " ('st', 252),\n",
       " ('say', 246),\n",
       " ('banquo', 234),\n",
       " ('make', 234),\n",
       " ('lord', 228),\n",
       " ('doe', 228),\n",
       " ('tis', 222),\n",
       " ('must', 216),\n",
       " ('selfe', 210),\n",
       " ('feare', 210),\n",
       " ('know', 210),\n",
       " ('ile', 210),\n",
       " ('done', 210),\n",
       " ('may', 210),\n",
       " ('wife', 204),\n",
       " ('man', 204),\n",
       " ('night', 204),\n",
       " ('well', 198),\n",
       " ('one', 192),\n",
       " ('great', 186),\n",
       " ('see', 186),\n",
       " ('exeunt', 180),\n",
       " ('sir', 174),\n",
       " ('speake', 174),\n",
       " ('lenox', 168),\n",
       " ('vp', 156),\n",
       " ('heere', 156)]"
      ]
     },
     "execution_count": 91,
     "metadata": {},
     "output_type": "execute_result"
    }
   ],
   "source": [
    "s1"
   ]
  }
 ],
 "metadata": {
  "anaconda-cloud": {},
  "kernelspec": {
   "display_name": "Python [conda root]",
   "language": "python",
   "name": "conda-root-py"
  },
  "language_info": {
   "codemirror_mode": {
    "name": "ipython",
    "version": 3
   },
   "file_extension": ".py",
   "mimetype": "text/x-python",
   "name": "python",
   "nbconvert_exporter": "python",
   "pygments_lexer": "ipython3",
   "version": "3.5.2"
  }
 },
 "nbformat": 4,
 "nbformat_minor": 1
}
