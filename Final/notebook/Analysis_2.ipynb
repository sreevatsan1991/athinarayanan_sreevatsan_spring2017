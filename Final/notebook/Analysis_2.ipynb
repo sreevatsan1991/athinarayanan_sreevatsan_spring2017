{
 "cells": [
  {
   "cell_type": "markdown",
   "metadata": {},
   "source": [
    "## ANALYSIS 2 "
   ]
  },
  {
   "cell_type": "code",
   "execution_count": 1,
   "metadata": {
    "collapsed": false
   },
   "outputs": [],
   "source": [
    "import pandas as pd\n",
    "datafr=pd.read_csv(r\"Other Files\\YelpData.csv\",encoding='utf-8')\n",
    "countryliving='US'\n",
    "datafr= datafr.ix[:,'id':]\n",
    "cuisine=pd.read_csv(r\"Other Files\\RestaurantCategory.csv\",encoding='utf-8')\n",
    "datafr2_country=datafr[(datafr['country']==countryliving)]\n",
    "unid=list(datafr2_country['id'].unique())\n",
    "df_category=pd.DataFrame()\n",
    "for i in range(len(unid)):\n",
    "    t=cuisine[(cuisine['id']==unid[i])]\n",
    "    df_category=df_category.append(t,ignore_index=True)\n",
    "\n",
    "groupcategory=df_category.groupby(['title']).count().sort_values(['id'],ascending=False)\n",
    "topgroups=groupcategory[0:5]\n",
    "topcateg=list(topgroups.index.values)\n",
    "groupcategory2=groupcategory.reset_index(drop=False).head(10)"
   ]
  },
  {
   "cell_type": "code",
   "execution_count": null,
   "metadata": {
    "collapsed": false
   },
   "outputs": [],
   "source": []
  },
  {
   "cell_type": "code",
   "execution_count": 2,
   "metadata": {
    "collapsed": false
   },
   "outputs": [
    {
     "data": {
      "text/html": [
       "<div>\n",
       "<table border=\"1\" class=\"dataframe\">\n",
       "  <thead>\n",
       "    <tr style=\"text-align: right;\">\n",
       "      <th></th>\n",
       "      <th>id</th>\n",
       "      <th>city</th>\n",
       "      <th>title</th>\n",
       "      <th>alias</th>\n",
       "    </tr>\n",
       "  </thead>\n",
       "  <tbody>\n",
       "    <tr>\n",
       "      <th>0</th>\n",
       "      <td>80-proof-sydney</td>\n",
       "      <td>Sydney</td>\n",
       "      <td>Bars</td>\n",
       "      <td>bars</td>\n",
       "    </tr>\n",
       "    <tr>\n",
       "      <th>1</th>\n",
       "      <td>80-proof-sydney</td>\n",
       "      <td>Sydney</td>\n",
       "      <td>Australian</td>\n",
       "      <td>australian</td>\n",
       "    </tr>\n",
       "    <tr>\n",
       "      <th>2</th>\n",
       "      <td>alpha-restaurant-sydney</td>\n",
       "      <td>Sydney</td>\n",
       "      <td>Greek</td>\n",
       "      <td>greek</td>\n",
       "    </tr>\n",
       "    <tr>\n",
       "      <th>3</th>\n",
       "      <td>ambar-sydney</td>\n",
       "      <td>Sydney</td>\n",
       "      <td>Australian</td>\n",
       "      <td>australian</td>\n",
       "    </tr>\n",
       "    <tr>\n",
       "      <th>4</th>\n",
       "      <td>ambar-sydney</td>\n",
       "      <td>Sydney</td>\n",
       "      <td>Bars</td>\n",
       "      <td>bars</td>\n",
       "    </tr>\n",
       "  </tbody>\n",
       "</table>\n",
       "</div>"
      ],
      "text/plain": [
       "                        id    city       title       alias\n",
       "0          80-proof-sydney  Sydney        Bars        bars\n",
       "1          80-proof-sydney  Sydney  Australian  australian\n",
       "2  alpha-restaurant-sydney  Sydney       Greek       greek\n",
       "3             ambar-sydney  Sydney  Australian  australian\n",
       "4             ambar-sydney  Sydney        Bars        bars"
      ]
     },
     "execution_count": 2,
     "metadata": {},
     "output_type": "execute_result"
    }
   ],
   "source": [
    "cuisine=pd.read_csv(r\"Other Files\\RestaurantCategory.csv\",encoding='utf-8')\n",
    "cuisine.head()"
   ]
  },
  {
   "cell_type": "code",
   "execution_count": 3,
   "metadata": {
    "collapsed": true
   },
   "outputs": [],
   "source": [
    "cuisine2 = cuisine[['city','title']]"
   ]
  },
  {
   "cell_type": "code",
   "execution_count": null,
   "metadata": {
    "collapsed": false
   },
   "outputs": [],
   "source": []
  },
  {
   "cell_type": "code",
   "execution_count": 4,
   "metadata": {
    "collapsed": false
   },
   "outputs": [],
   "source": [
    "cuisine3=pd.DataFrame({'count' : cuisine2.groupby(['city','title'])['title'].count().groupby(level=0, group_keys=False).nlargest(5)}).reset_index()"
   ]
  },
  {
   "cell_type": "code",
   "execution_count": 7,
   "metadata": {
    "collapsed": false
   },
   "outputs": [],
   "source": [
    "cuisine3.to_csv(\"Output CSV/Analysis 2/topcuisine.csv\")"
   ]
  },
  {
   "cell_type": "code",
   "execution_count": 136,
   "metadata": {
    "collapsed": false
   },
   "outputs": [],
   "source": [
    "h=cuisine3.groupby('city').count().reset_index()['city'].to_frame()"
   ]
  },
  {
   "cell_type": "code",
   "execution_count": 137,
   "metadata": {
    "collapsed": false
   },
   "outputs": [
    {
     "name": "stdout",
     "output_type": "stream",
     "text": [
      "Do you live in any of these cities? I have data only for these!Boston\n"
     ]
    }
   ],
   "source": [
    "userinput=input(\"Do you live in any of these cities? I have data only for these!\")"
   ]
  },
  {
   "cell_type": "code",
   "execution_count": 138,
   "metadata": {
    "collapsed": false
   },
   "outputs": [],
   "source": [
    "cuisine4=cuisine3[cuisine3['city']==userinput]"
   ]
  },
  {
   "cell_type": "code",
   "execution_count": 139,
   "metadata": {
    "collapsed": false
   },
   "outputs": [
    {
     "name": "stdout",
     "output_type": "stream",
     "text": [
      "      city                   title  count\n",
      "16  Boston          American (New)     24\n",
      "17  Boston                 Italian     18\n",
      "18  Boston                 Seafood     18\n",
      "19  Boston      Breakfast & Brunch     10\n",
      "20  Boston  American (Traditional)      9\n"
     ]
    },
    {
     "data": {
      "image/png": "[encoded data removed]",
      "text/plain": [
       "<matplotlib.figure.Figure at 0x22f3bbc8828>"
      ]
     },
     "metadata": {},
     "output_type": "display_data"
    }
   ],
   "source": [
    "import matplotlib\n",
    "import matplotlib.pyplot as plt\n",
    "print(cuisine4)\n",
    "%matplotlib inline\n",
    "import seaborn as sns\n",
    "#ax=sns.factorplot(\"title\", \"count\",\n",
    "#                               data=cuisine4, kind=\"bar\",orient=\"h\",\n",
    "#                               size=10, palette=\"muted\", legend=False)\n",
    "#plt.savefig(r'Output Files\\Analysis 1\\Plot\\Restaurant-Per-Capita.jpg')\n",
    "ax = sns.barplot(x=\"count\", y=\"title\", orient= \"h\", data=cuisine4)\n",
    "#print('CSV Files and Plots saved successfully')\n",
    "ax.set(xlabel='Cuisine Type', ylabel='Number of restaurants in city')\n",
    "plt.title(\"Restaurant Cuisine distribution for \"+str(userinput),fontsize=15)\n",
    "#for index, row in cuisine4.iterrows():\n",
    " #   ax.text(row.count,row.count, row.count, color='black', ha=\"center\")\n",
    "plt.show()"
   ]
  },
  {
   "cell_type": "code",
   "execution_count": 140,
   "metadata": {
    "collapsed": false
   },
   "outputs": [
    {
     "name": "stdout",
     "output_type": "stream",
     "text": [
      "What is your favourite cuisine? The above graph shows the top cuisines in BostonBreakfast & Brunch\n"
     ]
    }
   ],
   "source": [
    "cuisineinput=input(\"What is your favourite cuisine? The above graph shows the top cuisines in \"+str(userinput))"
   ]
  },
  {
   "cell_type": "code",
   "execution_count": 141,
   "metadata": {
    "collapsed": false
   },
   "outputs": [],
   "source": [
    "cuisinetorestaurant=cuisine[(cuisine['title']==cuisineinput)&(cuisine['city']==userinput)]"
   ]
  },
  {
   "cell_type": "code",
   "execution_count": null,
   "metadata": {
    "collapsed": false
   },
   "outputs": [],
   "source": []
  },
  {
   "cell_type": "code",
   "execution_count": null,
   "metadata": {
    "collapsed": false
   },
   "outputs": [],
   "source": []
  },
  {
   "cell_type": "code",
   "execution_count": 143,
   "metadata": {
    "collapsed": false
   },
   "outputs": [],
   "source": [
    "restids=list(cuisinetorestaurant['id'])\n",
    "\n",
    "\n",
    "\n"
   ]
  },
  {
   "cell_type": "code",
   "execution_count": 144,
   "metadata": {
    "collapsed": false
   },
   "outputs": [],
   "source": [
    "resss = pd.DataFrame({'id':restids})"
   ]
  },
  {
   "cell_type": "code",
   "execution_count": 145,
   "metadata": {
    "collapsed": true
   },
   "outputs": [],
   "source": [
    "restfinal=pd.merge(resss,datafr,how='left', left_on=['id'],right_on=['id'])"
   ]
  },
  {
   "cell_type": "code",
   "execution_count": null,
   "metadata": {
    "collapsed": false
   },
   "outputs": [],
   "source": []
  },
  {
   "cell_type": "code",
   "execution_count": 146,
   "metadata": {
    "collapsed": false
   },
   "outputs": [],
   "source": [
    "#Cheapest restaurant\n",
    "restfinal['Price Rating Yelp']=restfinal['price'].str.len()"
   ]
  },
  {
   "cell_type": "code",
   "execution_count": 147,
   "metadata": {
    "collapsed": false
   },
   "outputs": [
    {
     "name": "stderr",
     "output_type": "stream",
     "text": [
      "C:\\Users\\Nimi\\Anaconda3\\lib\\site-packages\\ipykernel\\__main__.py:2: FutureWarning: sort(columns=....) is deprecated, use sort_values(by=.....)\n",
      "  from ipykernel import kernelapp as app\n"
     ]
    }
   ],
   "source": [
    "#Cheapest restaurant with highest rating\n",
    "restfinalsort=restfinal.sort(['Price Rating Yelp','rating'], ascending=[True,False])"
   ]
  },
  {
   "cell_type": "code",
   "execution_count": null,
   "metadata": {
    "collapsed": false
   },
   "outputs": [],
   "source": []
  },
  {
   "cell_type": "code",
   "execution_count": 149,
   "metadata": {
    "collapsed": false
   },
   "outputs": [],
   "source": [
    "import pandas as pd\n",
    "openhours=pd.read_csv(\"Other Files\\\\Restaurant_Open_Hours.csv\")"
   ]
  },
  {
   "cell_type": "code",
   "execution_count": 150,
   "metadata": {
    "collapsed": true
   },
   "outputs": [],
   "source": [
    "timing=openhours[openhours['id']==restfinalsort.iloc[0]['id']]"
   ]
  },
  {
   "cell_type": "code",
   "execution_count": 151,
   "metadata": {
    "collapsed": false
   },
   "outputs": [
    {
     "name": "stderr",
     "output_type": "stream",
     "text": [
      "C:\\Users\\Nimi\\Anaconda3\\lib\\site-packages\\ipykernel\\__main__.py:1: SettingWithCopyWarning: \n",
      "A value is trying to be set on a copy of a slice from a DataFrame.\n",
      "Try using .loc[row_indexer,col_indexer] = value instead\n",
      "\n",
      "See the caveats in the documentation: http://pandas.pydata.org/pandas-docs/stable/indexing.html#indexing-view-versus-copy\n",
      "  if __name__ == '__main__':\n",
      "C:\\Users\\Nimi\\Anaconda3\\lib\\site-packages\\ipykernel\\__main__.py:2: SettingWithCopyWarning: \n",
      "A value is trying to be set on a copy of a slice from a DataFrame.\n",
      "Try using .loc[row_indexer,col_indexer] = value instead\n",
      "\n",
      "See the caveats in the documentation: http://pandas.pydata.org/pandas-docs/stable/indexing.html#indexing-view-versus-copy\n",
      "  from ipykernel import kernelapp as app\n",
      "C:\\Users\\Nimi\\Anaconda3\\lib\\site-packages\\ipykernel\\__main__.py:3: SettingWithCopyWarning: \n",
      "A value is trying to be set on a copy of a slice from a DataFrame.\n",
      "Try using .loc[row_indexer,col_indexer] = value instead\n",
      "\n",
      "See the caveats in the documentation: http://pandas.pydata.org/pandas-docs/stable/indexing.html#indexing-view-versus-copy\n",
      "  app.launch_new_instance()\n",
      "C:\\Users\\Nimi\\Anaconda3\\lib\\site-packages\\ipykernel\\__main__.py:4: SettingWithCopyWarning: \n",
      "A value is trying to be set on a copy of a slice from a DataFrame.\n",
      "Try using .loc[row_indexer,col_indexer] = value instead\n",
      "\n",
      "See the caveats in the documentation: http://pandas.pydata.org/pandas-docs/stable/indexing.html#indexing-view-versus-copy\n"
     ]
    }
   ],
   "source": [
    "timing['start']=timing['start'].astype(str)\n",
    "timing['start'] = timing['start'].apply(lambda x: x.zfill(4))\n",
    "timing['end']=timing['end'].astype(str)\n",
    "timing['end']=timing['end'].apply(lambda x: x.zfill(4))"
   ]
  },
  {
   "cell_type": "code",
   "execution_count": 152,
   "metadata": {
    "collapsed": false
   },
   "outputs": [
    {
     "name": "stderr",
     "output_type": "stream",
     "text": [
      "C:\\Users\\Nimi\\Anaconda3\\lib\\site-packages\\ipykernel\\__main__.py:3: SettingWithCopyWarning: \n",
      "A value is trying to be set on a copy of a slice from a DataFrame.\n",
      "Try using .loc[row_indexer,col_indexer] = value instead\n",
      "\n",
      "See the caveats in the documentation: http://pandas.pydata.org/pandas-docs/stable/indexing.html#indexing-view-versus-copy\n",
      "  app.launch_new_instance()\n"
     ]
    }
   ],
   "source": [
    "days = {0:'Mon',1:'Tue',2:'Wed',3:'Thu',4:'Fri',5:'Sat',6:'Sun'}\n",
    "\n",
    "timing['day_of_week'] = timing['day'].apply(lambda x: days[x])\n"
   ]
  },
  {
   "cell_type": "code",
   "execution_count": 153,
   "metadata": {
    "collapsed": false
   },
   "outputs": [
    {
     "data": {
      "text/html": [
       "<div>\n",
       "<table border=\"1\" class=\"dataframe\">\n",
       "  <thead>\n",
       "    <tr style=\"text-align: right;\">\n",
       "      <th></th>\n",
       "      <th>id</th>\n",
       "      <th>city</th>\n",
       "      <th>county</th>\n",
       "      <th>day</th>\n",
       "      <th>start</th>\n",
       "      <th>end</th>\n",
       "      <th>overnight</th>\n",
       "      <th>day_of_week</th>\n",
       "    </tr>\n",
       "  </thead>\n",
       "  <tbody>\n",
       "    <tr>\n",
       "      <th>11930</th>\n",
       "      <td>mike-and-pattys-boston</td>\n",
       "      <td>Boston</td>\n",
       "      <td>US</td>\n",
       "      <td>0</td>\n",
       "      <td>0800</td>\n",
       "      <td>1400</td>\n",
       "      <td>False</td>\n",
       "      <td>Mon</td>\n",
       "    </tr>\n",
       "    <tr>\n",
       "      <th>11931</th>\n",
       "      <td>mike-and-pattys-boston</td>\n",
       "      <td>Boston</td>\n",
       "      <td>US</td>\n",
       "      <td>1</td>\n",
       "      <td>0800</td>\n",
       "      <td>1400</td>\n",
       "      <td>False</td>\n",
       "      <td>Tue</td>\n",
       "    </tr>\n",
       "    <tr>\n",
       "      <th>11932</th>\n",
       "      <td>mike-and-pattys-boston</td>\n",
       "      <td>Boston</td>\n",
       "      <td>US</td>\n",
       "      <td>2</td>\n",
       "      <td>0730</td>\n",
       "      <td>1400</td>\n",
       "      <td>False</td>\n",
       "      <td>Wed</td>\n",
       "    </tr>\n",
       "    <tr>\n",
       "      <th>11933</th>\n",
       "      <td>mike-and-pattys-boston</td>\n",
       "      <td>Boston</td>\n",
       "      <td>US</td>\n",
       "      <td>3</td>\n",
       "      <td>0730</td>\n",
       "      <td>1400</td>\n",
       "      <td>False</td>\n",
       "      <td>Thu</td>\n",
       "    </tr>\n",
       "    <tr>\n",
       "      <th>11934</th>\n",
       "      <td>mike-and-pattys-boston</td>\n",
       "      <td>Boston</td>\n",
       "      <td>US</td>\n",
       "      <td>4</td>\n",
       "      <td>0730</td>\n",
       "      <td>1400</td>\n",
       "      <td>False</td>\n",
       "      <td>Fri</td>\n",
       "    </tr>\n",
       "    <tr>\n",
       "      <th>11935</th>\n",
       "      <td>mike-and-pattys-boston</td>\n",
       "      <td>Boston</td>\n",
       "      <td>US</td>\n",
       "      <td>5</td>\n",
       "      <td>0730</td>\n",
       "      <td>1430</td>\n",
       "      <td>False</td>\n",
       "      <td>Sat</td>\n",
       "    </tr>\n",
       "    <tr>\n",
       "      <th>11936</th>\n",
       "      <td>mike-and-pattys-boston</td>\n",
       "      <td>Boston</td>\n",
       "      <td>US</td>\n",
       "      <td>6</td>\n",
       "      <td>0730</td>\n",
       "      <td>1430</td>\n",
       "      <td>False</td>\n",
       "      <td>Sun</td>\n",
       "    </tr>\n",
       "  </tbody>\n",
       "</table>\n",
       "</div>"
      ],
      "text/plain": [
       "                           id    city county  day start   end overnight  \\\n",
       "11930  mike-and-pattys-boston  Boston     US    0  0800  1400     False   \n",
       "11931  mike-and-pattys-boston  Boston     US    1  0800  1400     False   \n",
       "11932  mike-and-pattys-boston  Boston     US    2  0730  1400     False   \n",
       "11933  mike-and-pattys-boston  Boston     US    3  0730  1400     False   \n",
       "11934  mike-and-pattys-boston  Boston     US    4  0730  1400     False   \n",
       "11935  mike-and-pattys-boston  Boston     US    5  0730  1430     False   \n",
       "11936  mike-and-pattys-boston  Boston     US    6  0730  1430     False   \n",
       "\n",
       "      day_of_week  \n",
       "11930         Mon  \n",
       "11931         Tue  \n",
       "11932         Wed  \n",
       "11933         Thu  \n",
       "11934         Fri  \n",
       "11935         Sat  \n",
       "11936         Sun  "
      ]
     },
     "execution_count": 153,
     "metadata": {},
     "output_type": "execute_result"
    }
   ],
   "source": [
    "timing"
   ]
  },
  {
   "cell_type": "code",
   "execution_count": 154,
   "metadata": {
    "collapsed": false
   },
   "outputs": [],
   "source": [
    "timing_df=timing[['day_of_week','start','end']]"
   ]
  },
  {
   "cell_type": "code",
   "execution_count": 155,
   "metadata": {
    "collapsed": false
   },
   "outputs": [
    {
     "data": {
      "text/html": [
       "<div>\n",
       "<table border=\"1\" class=\"dataframe\">\n",
       "  <thead>\n",
       "    <tr style=\"text-align: right;\">\n",
       "      <th></th>\n",
       "      <th>day_of_week</th>\n",
       "      <th>start</th>\n",
       "      <th>end</th>\n",
       "    </tr>\n",
       "  </thead>\n",
       "  <tbody>\n",
       "    <tr>\n",
       "      <th>11930</th>\n",
       "      <td>Mon</td>\n",
       "      <td>0800</td>\n",
       "      <td>1400</td>\n",
       "    </tr>\n",
       "    <tr>\n",
       "      <th>11931</th>\n",
       "      <td>Tue</td>\n",
       "      <td>0800</td>\n",
       "      <td>1400</td>\n",
       "    </tr>\n",
       "    <tr>\n",
       "      <th>11932</th>\n",
       "      <td>Wed</td>\n",
       "      <td>0730</td>\n",
       "      <td>1400</td>\n",
       "    </tr>\n",
       "    <tr>\n",
       "      <th>11933</th>\n",
       "      <td>Thu</td>\n",
       "      <td>0730</td>\n",
       "      <td>1400</td>\n",
       "    </tr>\n",
       "    <tr>\n",
       "      <th>11934</th>\n",
       "      <td>Fri</td>\n",
       "      <td>0730</td>\n",
       "      <td>1400</td>\n",
       "    </tr>\n",
       "    <tr>\n",
       "      <th>11935</th>\n",
       "      <td>Sat</td>\n",
       "      <td>0730</td>\n",
       "      <td>1430</td>\n",
       "    </tr>\n",
       "    <tr>\n",
       "      <th>11936</th>\n",
       "      <td>Sun</td>\n",
       "      <td>0730</td>\n",
       "      <td>1430</td>\n",
       "    </tr>\n",
       "  </tbody>\n",
       "</table>\n",
       "</div>"
      ],
      "text/plain": [
       "      day_of_week start   end\n",
       "11930         Mon  0800  1400\n",
       "11931         Tue  0800  1400\n",
       "11932         Wed  0730  1400\n",
       "11933         Thu  0730  1400\n",
       "11934         Fri  0730  1400\n",
       "11935         Sat  0730  1430\n",
       "11936         Sun  0730  1430"
      ]
     },
     "execution_count": 155,
     "metadata": {},
     "output_type": "execute_result"
    }
   ],
   "source": [
    "timing_df"
   ]
  },
  {
   "cell_type": "code",
   "execution_count": 156,
   "metadata": {
    "collapsed": false
   },
   "outputs": [
    {
     "name": "stdout",
     "output_type": "stream",
     "text": [
      "HERE ARE THE DETAILS OF THE CHEAPEST RESTAURANT IN TOWN WITH BEST RATING!!\n",
      "**************************************************************************\n",
      "Name : Mike & Patty's\n",
      "Rating: 4.5\n",
      "Restaurant Timings\n",
      "Day Start End\n",
      "Mon 0800 1400\n",
      "Tue 0800 1400\n",
      "Wed 0730 1400\n",
      "Thu 0730 1400\n",
      "Fri 0730 1400\n",
      "Sat 0730 1430\n",
      "Sun 0730 1430\n"
     ]
    },
    {
     "data": {
      "image/jpeg": "[encoded data removed]",
      "text/plain": [
       "<IPython.core.display.Image object>"
      ]
     },
     "execution_count": 156,
     "metadata": {
      "image/jpeg": {
       "height": 300,
       "width": 300
      }
     },
     "output_type": "execute_result"
    }
   ],
   "source": [
    "print(\"HERE ARE THE DETAILS OF THE CHEAPEST RESTAURANT IN TOWN WITH BEST RATING!!\")\n",
    "print(\"**************************************************************************\")\n",
    "print(\"Name : \"+restfinalsort.iloc[0]['name'])\n",
    "print(\"Rating: \"+str(restfinalsort.iloc[0]['rating']))\n",
    "print(\"Restaurant Timings\")\n",
    "print('Day','Start','End')\n",
    "for index, row in timing_df.iterrows():\n",
    "    print (row['day_of_week'],row['start'],row['end'])\n",
    "import matplotlib\n",
    "%matplotlib inline\n",
    "from PIL import Image\n",
    "import urllib.request\n",
    "\n",
    "URL = restfinalsort.iloc[0]['image']\n",
    "\n",
    "with urllib.request.urlopen(URL) as url:\n",
    "    with open('Images\\\\'+str(restfinalsort.iloc[0]['id'])+'.jpg', \"wb\") as f:\n",
    "        f.write(url.read())\n",
    "\n",
    "from IPython.display import Image\n",
    "Image(filename='Images\\\\'+str(restfinalsort.iloc[0]['id'])+'.jpg',width=300,height=300)"
   ]
  },
  {
   "cell_type": "code",
   "execution_count": 157,
   "metadata": {
    "collapsed": false
   },
   "outputs": [
    {
     "name": "stderr",
     "output_type": "stream",
     "text": [
      "C:\\Users\\Nimi\\Anaconda3\\lib\\site-packages\\ipykernel\\__main__.py:2: FutureWarning: sort(columns=....) is deprecated, use sort_values(by=.....)\n",
      "  from ipykernel import kernelapp as app\n"
     ]
    }
   ],
   "source": [
    "#Highest review rated restaurant with maximum review count\n",
    "restfinalsortrev=restfinal.sort(['rating','review_count'], ascending=[False,False])"
   ]
  },
  {
   "cell_type": "code",
   "execution_count": 166,
   "metadata": {
    "collapsed": false
   },
   "outputs": [
    {
     "data": {
      "text/plain": [
       "'fin-point-boston'"
      ]
     },
     "execution_count": 166,
     "metadata": {},
     "output_type": "execute_result"
    }
   ],
   "source": []
  },
  {
   "cell_type": "code",
   "execution_count": 158,
   "metadata": {
    "collapsed": false
   },
   "outputs": [],
   "source": [
    "timing2=openhours[openhours['id']==restfinalsortrev.iloc[0]['id']]"
   ]
  },
  {
   "cell_type": "code",
   "execution_count": 159,
   "metadata": {
    "collapsed": false
   },
   "outputs": [
    {
     "name": "stderr",
     "output_type": "stream",
     "text": [
      "C:\\Users\\Nimi\\Anaconda3\\lib\\site-packages\\ipykernel\\__main__.py:1: SettingWithCopyWarning: \n",
      "A value is trying to be set on a copy of a slice from a DataFrame.\n",
      "Try using .loc[row_indexer,col_indexer] = value instead\n",
      "\n",
      "See the caveats in the documentation: http://pandas.pydata.org/pandas-docs/stable/indexing.html#indexing-view-versus-copy\n",
      "  if __name__ == '__main__':\n",
      "C:\\Users\\Nimi\\Anaconda3\\lib\\site-packages\\ipykernel\\__main__.py:2: SettingWithCopyWarning: \n",
      "A value is trying to be set on a copy of a slice from a DataFrame.\n",
      "Try using .loc[row_indexer,col_indexer] = value instead\n",
      "\n",
      "See the caveats in the documentation: http://pandas.pydata.org/pandas-docs/stable/indexing.html#indexing-view-versus-copy\n",
      "  from ipykernel import kernelapp as app\n",
      "C:\\Users\\Nimi\\Anaconda3\\lib\\site-packages\\ipykernel\\__main__.py:3: SettingWithCopyWarning: \n",
      "A value is trying to be set on a copy of a slice from a DataFrame.\n",
      "Try using .loc[row_indexer,col_indexer] = value instead\n",
      "\n",
      "See the caveats in the documentation: http://pandas.pydata.org/pandas-docs/stable/indexing.html#indexing-view-versus-copy\n",
      "  app.launch_new_instance()\n",
      "C:\\Users\\Nimi\\Anaconda3\\lib\\site-packages\\ipykernel\\__main__.py:4: SettingWithCopyWarning: \n",
      "A value is trying to be set on a copy of a slice from a DataFrame.\n",
      "Try using .loc[row_indexer,col_indexer] = value instead\n",
      "\n",
      "See the caveats in the documentation: http://pandas.pydata.org/pandas-docs/stable/indexing.html#indexing-view-versus-copy\n"
     ]
    }
   ],
   "source": [
    "timing2['start']=timing2['start'].astype(str)\n",
    "timing2['start'] = timing2['start'].apply(lambda x: x.zfill(4))\n",
    "timing2['end']=timing2['end'].astype(str)\n",
    "timing2['end']=timing2['end'].apply(lambda x: x.zfill(4))"
   ]
  },
  {
   "cell_type": "code",
   "execution_count": 160,
   "metadata": {
    "collapsed": false
   },
   "outputs": [
    {
     "name": "stderr",
     "output_type": "stream",
     "text": [
      "C:\\Users\\Nimi\\Anaconda3\\lib\\site-packages\\ipykernel\\__main__.py:3: SettingWithCopyWarning: \n",
      "A value is trying to be set on a copy of a slice from a DataFrame.\n",
      "Try using .loc[row_indexer,col_indexer] = value instead\n",
      "\n",
      "See the caveats in the documentation: http://pandas.pydata.org/pandas-docs/stable/indexing.html#indexing-view-versus-copy\n",
      "  app.launch_new_instance()\n"
     ]
    }
   ],
   "source": [
    "days = {0:'Mon',1:'Tue',2:'Wed',3:'Thu',4:'Fri',5:'Sat',6:'Sun'}\n",
    "\n",
    "timing2['day_of_week'] = timing2['day'].apply(lambda x: days[x])\n"
   ]
  },
  {
   "cell_type": "code",
   "execution_count": 169,
   "metadata": {
    "collapsed": false
   },
   "outputs": [
    {
     "data": {
      "text/plain": [
       "id                                                    fin-point-boston\n",
       "name                                                         Fin Point\n",
       "review_count                                                        34\n",
       "price                                                              $$$\n",
       "is_closed                                                        False\n",
       "latitude                                                       42.3575\n",
       "longitude                                                     -71.0528\n",
       "city                                                            Boston\n",
       "state                                                               MA\n",
       "zip_code                                                         02110\n",
       "country                                                             US\n",
       "rating                                                               5\n",
       "phone                                                      1.61735e+10\n",
       "term                                                       restaurants\n",
       "image                https://s3-media4.fl.yelpcdn.com/bphoto/26RHOB...\n",
       "Price Rating Yelp                                                    3\n",
       "Name: 3, dtype: object"
      ]
     },
     "execution_count": 169,
     "metadata": {},
     "output_type": "execute_result"
    }
   ],
   "source": [
    "restfinalsortrev.iloc[0]"
   ]
  },
  {
   "cell_type": "code",
   "execution_count": 161,
   "metadata": {
    "collapsed": false
   },
   "outputs": [],
   "source": [
    "timing_df2=timing2[['day_of_week','start','end']]"
   ]
  },
  {
   "cell_type": "code",
   "execution_count": 172,
   "metadata": {
    "collapsed": false
   },
   "outputs": [
    {
     "name": "stdout",
     "output_type": "stream",
     "text": [
      "HERE ARE THE DETAILS OF THE BEST RESTAURANT IN TOWN BASED ON RATING AND REVIEWS!!\n",
      "*********************************************************************************\n",
      "Name : Fin Point\n",
      "Rating: 5.0\n",
      "Restaurant Timings\n",
      "Day Start End\n",
      "Mon 0630 0000\n",
      "Tue 0630 0000\n",
      "Wed 0630 0000\n",
      "Thu 0630 0000\n",
      "Fri 0630 0000\n",
      "Sat 0630 0000\n",
      "Sun 0700 0000\n"
     ]
    },
    {
     "data": {
      "image/jpeg": "[encoded data removed]",
      "text/plain": [
       "<IPython.core.display.Image object>"
      ]
     },
     "execution_count": 172,
     "metadata": {
      "image/jpeg": {
       "height": 300,
       "width": 300
      }
     },
     "output_type": "execute_result"
    }
   ],
   "source": [
    "print(\"HERE ARE THE DETAILS OF THE BEST RESTAURANT IN TOWN BASED ON RATING AND REVIEWS!!\")\n",
    "print(\"*********************************************************************************\")\n",
    "print(\"Name : \"+restfinalsortrev.iloc[0]['name'])\n",
    "print(\"Rating: \"+str(restfinalsortrev.iloc[0]['rating']))\n",
    "print(\"Restaurant Timings\")\n",
    "print('Day','Start','End')\n",
    "for index, row in timing_df2.iterrows():\n",
    "    print (row['day_of_week'],row['start'],row['end'])\n",
    "import matplotlib\n",
    "%matplotlib inline\n",
    "from PIL import Image\n",
    "import urllib.request\n",
    "\n",
    "URL = restfinalsortrev.iloc[0]['image']\n",
    "\n",
    "with urllib.request.urlopen(URL) as url:\n",
    "    with open('Images\\\\'+str(restfinalsortrev.iloc[0]['id'])+'.jpg', \"wb\") as f:\n",
    "        f.write(url.read())\n",
    "\n",
    "from IPython.display import Image\n",
    "Image(filename='Images\\\\'+str(restfinalsortrev.iloc[0]['id'])+'.jpg',width=300,height=300)"
   ]
  },
  {
   "cell_type": "code",
   "execution_count": null,
   "metadata": {
    "collapsed": true
   },
   "outputs": [],
   "source": []
  },
  {
   "cell_type": "raw",
   "metadata": {},
   "source": [
    "import matplotlib\n",
    "%matplotlib inline\n",
    "import seaborn as sns\n",
    "import pandas as pd\n",
    "import matplotlib.pyplot as plt\n",
    "import requests\n",
    "import logging\n",
    "import os\n",
    "import json\n",
    "import sys\n",
    "import bokeh \n",
    "from ipywidgets import interact\n",
    "from bokeh.io import push_notebook,show,output_notebook\n",
    "from bokeh.plotting import figure\n",
    "import cufflinks as cf\n",
    "from plotly.offline import download_plotlyjs,init_notebook_mode,plot,iplot\n",
    "init_notebook_mode(connected=True)\n",
    "cf.go_offline()\n",
    "from plotly.graph_objs import *"
   ]
  },
  {
   "cell_type": "code",
   "execution_count": null,
   "metadata": {
    "collapsed": true
   },
   "outputs": [],
   "source": [
    "cuisine"
   ]
  },
  {
   "cell_type": "code",
   "execution_count": null,
   "metadata": {
    "collapsed": true
   },
   "outputs": [],
   "source": []
  },
  {
   "cell_type": "code",
   "execution_count": null,
   "metadata": {
    "collapsed": true
   },
   "outputs": [],
   "source": []
  },
  {
   "cell_type": "code",
   "execution_count": null,
   "metadata": {
    "collapsed": false
   },
   "outputs": [],
   "source": [
    "pd.DataFrame(cuisine3.groupby('title')['count'].nlargest(5)).reset_index()"
   ]
  },
  {
   "cell_type": "code",
   "execution_count": null,
   "metadata": {
    "collapsed": false
   },
   "outputs": [],
   "source": [
    "cuisine3.to_csv('Other Files//CuisineAnalysis.csv')"
   ]
  }
 ],
 "metadata": {
  "anaconda-cloud": {},
  "kernelspec": {
   "display_name": "Python [conda root]",
   "language": "python",
   "name": "conda-root-py"
  },
  "language_info": {
   "codemirror_mode": {
    "name": "ipython",
    "version": 3
   },
   "file_extension": ".py",
   "mimetype": "text/x-python",
   "name": "python",
   "nbconvert_exporter": "python",
   "pygments_lexer": "ipython3",
   "version": "3.5.2"
  }
 },
 "nbformat": 4,
 "nbformat_minor": 2
}
