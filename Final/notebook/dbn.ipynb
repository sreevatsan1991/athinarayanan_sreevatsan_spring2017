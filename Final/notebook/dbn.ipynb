{
 "cells": [
  {
   "cell_type": "code",
   "execution_count": 1,
   "metadata": {
    "collapsed": false
   },
   "outputs": [
    {
     "ename": "ImportError",
     "evalue": "No module named 'cv2'",
     "output_type": "error",
     "traceback": [
      "\u001b[0;31m---------------------------------------------------------------------------\u001b[0m",
      "\u001b[0;31mImportError\u001b[0m                               Traceback (most recent call last)",
      "\u001b[0;32m<ipython-input-1-d352c62458b0>\u001b[0m in \u001b[0;36m<module>\u001b[0;34m()\u001b[0m\n\u001b[1;32m      7\u001b[0m \u001b[1;32mfrom\u001b[0m \u001b[0mscipy\u001b[0m \u001b[1;32mimport\u001b[0m \u001b[0mmisc\u001b[0m\u001b[1;33m\u001b[0m\u001b[0m\n\u001b[1;32m      8\u001b[0m \u001b[1;32mimport\u001b[0m \u001b[0mglob\u001b[0m\u001b[1;33m\u001b[0m\u001b[0m\n\u001b[0;32m----> 9\u001b[0;31m \u001b[1;32mimport\u001b[0m \u001b[0mcv2\u001b[0m\u001b[1;33m\u001b[0m\u001b[0m\n\u001b[0m\u001b[1;32m     10\u001b[0m \u001b[1;32mimport\u001b[0m \u001b[0mos\u001b[0m\u001b[1;33m\u001b[0m\u001b[0m\n\u001b[1;32m     11\u001b[0m \u001b[1;32mimport\u001b[0m \u001b[0mtensorflow\u001b[0m \u001b[1;32mas\u001b[0m \u001b[0mtf\u001b[0m\u001b[1;33m\u001b[0m\u001b[0m\n",
      "\u001b[0;31mImportError\u001b[0m: No module named 'cv2'"
     ]
    }
   ],
   "source": [
    "%matplotlib inline\n",
    "import matplotlib.pyplot as plt\n",
    "import numpy as np\n",
    "import scipy.ndimage as ni\n",
    "import scipy.misc as mi\n",
    "from PIL import Image\n",
    "from scipy import misc\n",
    "import glob\n",
    "import cv2\n",
    "import os\n",
    "import tensorflow as tf\n",
    "from scipy.misc import toimage\n",
    "import scipy\n",
    "import pandas as pd\n",
    "\n",
    "\n",
    "from keras.models import Sequential\n",
    "from keras.layers import Dense\n",
    "from keras.layers import Dropout"
   ]
  },
  {
   "cell_type": "code",
   "execution_count": null,
   "metadata": {
    "collapsed": true
   },
   "outputs": [],
   "source": []
  },
  {
   "cell_type": "code",
   "execution_count": 5,
   "metadata": {
    "collapsed": false
   },
   "outputs": [],
   "source": [
    "dataset = pd.read_csv(\"corpus.csv\")\n",
    "# split into input (X) and output (Y) variables\n",
    "dataset.fillna(0)\n",
    "Y=dataset['review$Stars']\n",
    "X = dataset.ix[:,1:7394]\n",
    "#X = dataset.drop(['Unnamed: 0'], axis=1)"
   ]
  },
  {
   "cell_type": "code",
   "execution_count": 34,
   "metadata": {
    "collapsed": false
   },
   "outputs": [],
   "source": [
    "# create model\n",
    "model = Sequential()\n",
    "model.add(Dense(128, input_dim=7393, activation='relu'))\n",
    "model.add(Dropout(0.9))\n",
    "model.add(Dense(256, activation='relu'))\n",
    "model.add(Dropout(0.85))\n",
    "model.add(Dense(64, activation='relu'))\n",
    "model.add(Dropout(0.9))\n",
    "model.add(Dense(1, activation='sigmoid'))"
   ]
  },
  {
   "cell_type": "code",
   "execution_count": 35,
   "metadata": {
    "collapsed": false
   },
   "outputs": [
    {
     "data": {
      "text/html": [
       "<div>\n",
       "<table border=\"1\" class=\"dataframe\">\n",
       "  <thead>\n",
       "    <tr style=\"text-align: right;\">\n",
       "      <th></th>\n",
       "      <th>abil</th>\n",
       "      <th>absolut</th>\n",
       "      <th>act</th>\n",
       "      <th>action</th>\n",
       "      <th>add</th>\n",
       "      <th>arriv</th>\n",
       "      <th>astound</th>\n",
       "      <th>awe</th>\n",
       "      <th>beauti</th>\n",
       "      <th>blow</th>\n",
       "      <th>...</th>\n",
       "      <th>charactersi</th>\n",
       "      <th>hopedstil</th>\n",
       "      <th>queen</th>\n",
       "      <th>theoryon</th>\n",
       "      <th>hoursth</th>\n",
       "      <th>highter</th>\n",
       "      <th>inconclusivewel</th>\n",
       "      <th>wellflow</th>\n",
       "      <th>irlf</th>\n",
       "      <th>surf</th>\n",
       "    </tr>\n",
       "  </thead>\n",
       "  <tbody>\n",
       "    <tr>\n",
       "      <th>0</th>\n",
       "      <td>7.321928</td>\n",
       "      <td>5.426625</td>\n",
       "      <td>3.107803</td>\n",
       "      <td>9.18149</td>\n",
       "      <td>6.53952</td>\n",
       "      <td>7.643856</td>\n",
       "      <td>8.643856</td>\n",
       "      <td>7.442222</td>\n",
       "      <td>4.698998</td>\n",
       "      <td>7.058894</td>\n",
       "      <td>...</td>\n",
       "      <td>0.0</td>\n",
       "      <td>0.0</td>\n",
       "      <td>0.0</td>\n",
       "      <td>0.0</td>\n",
       "      <td>0.0</td>\n",
       "      <td>0.0</td>\n",
       "      <td>0.0</td>\n",
       "      <td>0.0</td>\n",
       "      <td>0.0</td>\n",
       "      <td>0.0</td>\n",
       "    </tr>\n",
       "    <tr>\n",
       "      <th>1</th>\n",
       "      <td>0.000000</td>\n",
       "      <td>5.426625</td>\n",
       "      <td>0.000000</td>\n",
       "      <td>0.00000</td>\n",
       "      <td>0.00000</td>\n",
       "      <td>0.000000</td>\n",
       "      <td>0.000000</td>\n",
       "      <td>0.000000</td>\n",
       "      <td>0.000000</td>\n",
       "      <td>0.000000</td>\n",
       "      <td>...</td>\n",
       "      <td>0.0</td>\n",
       "      <td>0.0</td>\n",
       "      <td>0.0</td>\n",
       "      <td>0.0</td>\n",
       "      <td>0.0</td>\n",
       "      <td>0.0</td>\n",
       "      <td>0.0</td>\n",
       "      <td>0.0</td>\n",
       "      <td>0.0</td>\n",
       "      <td>0.0</td>\n",
       "    </tr>\n",
       "    <tr>\n",
       "      <th>2</th>\n",
       "      <td>0.000000</td>\n",
       "      <td>0.000000</td>\n",
       "      <td>0.000000</td>\n",
       "      <td>0.00000</td>\n",
       "      <td>0.00000</td>\n",
       "      <td>0.000000</td>\n",
       "      <td>0.000000</td>\n",
       "      <td>0.000000</td>\n",
       "      <td>4.698998</td>\n",
       "      <td>0.000000</td>\n",
       "      <td>...</td>\n",
       "      <td>0.0</td>\n",
       "      <td>0.0</td>\n",
       "      <td>0.0</td>\n",
       "      <td>0.0</td>\n",
       "      <td>0.0</td>\n",
       "      <td>0.0</td>\n",
       "      <td>0.0</td>\n",
       "      <td>0.0</td>\n",
       "      <td>0.0</td>\n",
       "      <td>0.0</td>\n",
       "    </tr>\n",
       "    <tr>\n",
       "      <th>3</th>\n",
       "      <td>0.000000</td>\n",
       "      <td>0.000000</td>\n",
       "      <td>0.000000</td>\n",
       "      <td>0.00000</td>\n",
       "      <td>0.00000</td>\n",
       "      <td>0.000000</td>\n",
       "      <td>0.000000</td>\n",
       "      <td>0.000000</td>\n",
       "      <td>0.000000</td>\n",
       "      <td>0.000000</td>\n",
       "      <td>...</td>\n",
       "      <td>0.0</td>\n",
       "      <td>0.0</td>\n",
       "      <td>0.0</td>\n",
       "      <td>0.0</td>\n",
       "      <td>0.0</td>\n",
       "      <td>0.0</td>\n",
       "      <td>0.0</td>\n",
       "      <td>0.0</td>\n",
       "      <td>0.0</td>\n",
       "      <td>0.0</td>\n",
       "    </tr>\n",
       "    <tr>\n",
       "      <th>4</th>\n",
       "      <td>0.000000</td>\n",
       "      <td>0.000000</td>\n",
       "      <td>3.107803</td>\n",
       "      <td>0.00000</td>\n",
       "      <td>0.00000</td>\n",
       "      <td>0.000000</td>\n",
       "      <td>0.000000</td>\n",
       "      <td>0.000000</td>\n",
       "      <td>0.000000</td>\n",
       "      <td>0.000000</td>\n",
       "      <td>...</td>\n",
       "      <td>0.0</td>\n",
       "      <td>0.0</td>\n",
       "      <td>0.0</td>\n",
       "      <td>0.0</td>\n",
       "      <td>0.0</td>\n",
       "      <td>0.0</td>\n",
       "      <td>0.0</td>\n",
       "      <td>0.0</td>\n",
       "      <td>0.0</td>\n",
       "      <td>0.0</td>\n",
       "    </tr>\n",
       "  </tbody>\n",
       "</table>\n",
       "<p>5 rows × 7393 columns</p>\n",
       "</div>"
      ],
      "text/plain": [
       "       abil   absolut       act   action      add     arriv   astound  \\\n",
       "0  7.321928  5.426625  3.107803  9.18149  6.53952  7.643856  8.643856   \n",
       "1  0.000000  5.426625  0.000000  0.00000  0.00000  0.000000  0.000000   \n",
       "2  0.000000  0.000000  0.000000  0.00000  0.00000  0.000000  0.000000   \n",
       "3  0.000000  0.000000  0.000000  0.00000  0.00000  0.000000  0.000000   \n",
       "4  0.000000  0.000000  3.107803  0.00000  0.00000  0.000000  0.000000   \n",
       "\n",
       "        awe    beauti      blow  ...   charactersi  hopedstil  queen  \\\n",
       "0  7.442222  4.698998  7.058894  ...           0.0        0.0    0.0   \n",
       "1  0.000000  0.000000  0.000000  ...           0.0        0.0    0.0   \n",
       "2  0.000000  4.698998  0.000000  ...           0.0        0.0    0.0   \n",
       "3  0.000000  0.000000  0.000000  ...           0.0        0.0    0.0   \n",
       "4  0.000000  0.000000  0.000000  ...           0.0        0.0    0.0   \n",
       "\n",
       "   theoryon  hoursth  highter  inconclusivewel  wellflow  irlf  surf  \n",
       "0       0.0      0.0      0.0              0.0       0.0   0.0   0.0  \n",
       "1       0.0      0.0      0.0              0.0       0.0   0.0   0.0  \n",
       "2       0.0      0.0      0.0              0.0       0.0   0.0   0.0  \n",
       "3       0.0      0.0      0.0              0.0       0.0   0.0   0.0  \n",
       "4       0.0      0.0      0.0              0.0       0.0   0.0   0.0  \n",
       "\n",
       "[5 rows x 7393 columns]"
      ]
     },
     "execution_count": 35,
     "metadata": {},
     "output_type": "execute_result"
    }
   ],
   "source": [
    "X.head(5)"
   ]
  },
  {
   "cell_type": "code",
   "execution_count": 36,
   "metadata": {
    "collapsed": false
   },
   "outputs": [
    {
     "name": "stdout",
     "output_type": "stream",
     "text": [
      "____________________________________________________________________________________________________\n",
      "Layer (type)                     Output Shape          Param #     Connected to                     \n",
      "====================================================================================================\n",
      "dense_22 (Dense)                 (None, 128)           946432      dense_input_7[0][0]              \n",
      "____________________________________________________________________________________________________\n",
      "dropout_16 (Dropout)             (None, 128)           0           dense_22[0][0]                   \n",
      "____________________________________________________________________________________________________\n",
      "dense_23 (Dense)                 (None, 256)           33024       dropout_16[0][0]                 \n",
      "____________________________________________________________________________________________________\n",
      "dropout_17 (Dropout)             (None, 256)           0           dense_23[0][0]                   \n",
      "____________________________________________________________________________________________________\n",
      "dense_24 (Dense)                 (None, 64)            16448       dropout_17[0][0]                 \n",
      "____________________________________________________________________________________________________\n",
      "dropout_18 (Dropout)             (None, 64)            0           dense_24[0][0]                   \n",
      "____________________________________________________________________________________________________\n",
      "dense_25 (Dense)                 (None, 1)             65          dropout_18[0][0]                 \n",
      "====================================================================================================\n",
      "Total params: 995,969\n",
      "Trainable params: 995,969\n",
      "Non-trainable params: 0\n",
      "____________________________________________________________________________________________________\n"
     ]
    }
   ],
   "source": [
    "model.summary()"
   ]
  },
  {
   "cell_type": "code",
   "execution_count": 37,
   "metadata": {
    "collapsed": false
   },
   "outputs": [],
   "source": [
    "# Compile model\n",
    "#from keras.optimizers import SGD\n",
    "#sgd = SGD(lr=0.05, decay=1e-6, momentum=0.9, nesterov=True)\n",
    "#model.compile(loss='binary_crossentropy', optimizer=sgd, metrics=['accuracy'])\n",
    "model.compile(loss='binary_crossentropy',\n",
    "              optimizer='rmsprop',\n",
    "              metrics=['accuracy'])"
   ]
  },
  {
   "cell_type": "code",
   "execution_count": 38,
   "metadata": {
    "collapsed": false
   },
   "outputs": [],
   "source": [
    "index = 0.75*len(X)\n",
    "train_X = X.ix[0:index,]\n",
    "test_X = X.ix[index:,]\n",
    "train_Y = Y.ix[0:index,]\n",
    "test_Y = Y.ix[index:,]"
   ]
  },
  {
   "cell_type": "code",
   "execution_count": 39,
   "metadata": {
    "collapsed": false
   },
   "outputs": [
    {
     "name": "stdout",
     "output_type": "stream",
     "text": [
      "Train on 2679 samples, validate on 1321 samples\n",
      "Epoch 1/10\n",
      "2679/2679 [==============================] - 4s - loss: 1.2811 - acc: 0.7018 - val_loss: 0.6263 - val_acc: 0.7767\n",
      "Epoch 2/10\n",
      "2679/2679 [==============================] - 4s - loss: 0.8839 - acc: 0.8055 - val_loss: 0.7829 - val_acc: 0.7767\n",
      "Epoch 3/10\n",
      "2679/2679 [==============================] - 4s - loss: 0.9180 - acc: 0.8272 - val_loss: 0.8890 - val_acc: 0.7767\n",
      "Epoch 4/10\n",
      "2679/2679 [==============================] - 4s - loss: 0.8743 - acc: 0.8417 - val_loss: 1.0317 - val_acc: 0.7767\n",
      "Epoch 5/10\n",
      "2679/2679 [==============================] - 4s - loss: 0.7957 - acc: 0.8522 - val_loss: 1.1699 - val_acc: 0.7767\n",
      "Epoch 6/10\n",
      "2679/2679 [==============================] - 4s - loss: 0.9079 - acc: 0.8507 - val_loss: 1.3402 - val_acc: 0.7767\n",
      "Epoch 7/10\n",
      "2679/2679 [==============================] - 4s - loss: 0.8468 - acc: 0.8537 - val_loss: 1.4508 - val_acc: 0.7721\n",
      "Epoch 8/10\n",
      "2679/2679 [==============================] - 4s - loss: 0.8037 - acc: 0.8555 - val_loss: 1.5733 - val_acc: 0.7691\n",
      "Epoch 9/10\n",
      "2679/2679 [==============================] - 4s - loss: 0.6743 - acc: 0.8462 - val_loss: 1.6050 - val_acc: 0.7691\n",
      "Epoch 10/10\n",
      "2679/2679 [==============================] - 4s - loss: 0.7341 - acc: 0.8511 - val_loss: 1.6782 - val_acc: 0.7706\n"
     ]
    }
   ],
   "source": [
    "# Fit the model\n",
    "#history=model.fit(train_X.as_matrix(), train_Y.as_matrix(),validation_data=(test_X.as_matrix(), test_Y.as_matrix()), nb_epoch=20, batch_size=15)\n",
    "history=model.fit(X.as_matrix(), Y.as_matrix(), validation_split=0.33, nb_epoch=10, batch_size=15)"
   ]
  },
  {
   "cell_type": "code",
   "execution_count": 40,
   "metadata": {
    "collapsed": false
   },
   "outputs": [
    {
     "name": "stdout",
     "output_type": "stream",
     "text": [
      "dict_keys(['acc', 'loss', 'val_acc', 'val_loss'])\n"
     ]
    },
    {
     "data": {
      "image/png": "[encoded data removed]",
      "text/plain": [
       "<matplotlib.figure.Figure at 0x7fdfd73f1940>"
      ]
     },
     "metadata": {},
     "output_type": "display_data"
    },
    {
     "data": {
      "image/png": "[encoded data removed]",
      "text/plain": [
       "<matplotlib.figure.Figure at 0x7fdff4a6fd68>"
      ]
     },
     "metadata": {},
     "output_type": "display_data"
    }
   ],
   "source": [
    "# list all data in history\n",
    "print(history.history.keys())\n",
    "# summarize history for accuracy\n",
    "plt.plot(history.history['acc'])\n",
    "plt.plot(history.history['val_acc'])\n",
    "plt.title('model accuracy')\n",
    "plt.ylabel('accuracy')\n",
    "plt.xlabel('epoch')\n",
    "plt.legend(['train', 'test'], loc='upper left')\n",
    "plt.show()\n",
    "# summarize history for loss\n",
    "plt.plot(history.history['loss'])\n",
    "plt.plot(history.history['val_loss'])\n",
    "plt.title('model loss')\n",
    "plt.ylabel('loss')\n",
    "plt.xlabel('epoch')\n",
    "plt.legend(['train', 'test'], loc='upper left')\n",
    "plt.show()"
   ]
  },
  {
   "cell_type": "code",
   "execution_count": 14,
   "metadata": {
    "collapsed": false
   },
   "outputs": [
    {
     "data": {
      "image/svg+xml": [
       "<svg height=\"636pt\" viewBox=\"0.00 0.00 315.00 636.00\" width=\"315pt\" xmlns=\"http://www.w3.org/2000/svg\" xmlns:xlink=\"http://www.w3.org/1999/xlink\">\n",
       "<g class=\"graph\" id=\"graph0\" transform=\"scale(1 1) rotate(0) translate(4 632)\">\n",
       "<title>G</title>\n",
       "<polygon fill=\"white\" points=\"-4,4 -4,-632 311,-632 311,4 -4,4\" stroke=\"none\"/>\n",
       "<!-- 140599858667816 -->\n",
       "<g class=\"node\" id=\"node1\"><title>140599858667816</title>\n",
       "<polygon fill=\"none\" points=\"-2.84217e-14,-581.5 -2.84217e-14,-627.5 307,-627.5 307,-581.5 -2.84217e-14,-581.5\" stroke=\"black\"/>\n",
       "<text font-family=\"Times,serif\" font-size=\"14.00\" text-anchor=\"middle\" x=\"81.5\" y=\"-600.8\">dense_input_3: InputLayer</text>\n",
       "<polyline fill=\"none\" points=\"163,-581.5 163,-627.5 \" stroke=\"black\"/>\n",
       "<text font-family=\"Times,serif\" font-size=\"14.00\" text-anchor=\"middle\" x=\"190.5\" y=\"-612.3\">input:</text>\n",
       "<polyline fill=\"none\" points=\"163,-604.5 218,-604.5 \" stroke=\"black\"/>\n",
       "<text font-family=\"Times,serif\" font-size=\"14.00\" text-anchor=\"middle\" x=\"190.5\" y=\"-589.3\">output:</text>\n",
       "<polyline fill=\"none\" points=\"218,-581.5 218,-627.5 \" stroke=\"black\"/>\n",
       "<text font-family=\"Times,serif\" font-size=\"14.00\" text-anchor=\"middle\" x=\"262.5\" y=\"-612.3\">(None, 7393)</text>\n",
       "<polyline fill=\"none\" points=\"218,-604.5 307,-604.5 \" stroke=\"black\"/>\n",
       "<text font-family=\"Times,serif\" font-size=\"14.00\" text-anchor=\"middle\" x=\"262.5\" y=\"-589.3\">(None, 7393)</text>\n",
       "</g>\n",
       "<!-- 140599845399800 -->\n",
       "<g class=\"node\" id=\"node2\"><title>140599845399800</title>\n",
       "<polygon fill=\"none\" points=\"30.5,-498.5 30.5,-544.5 276.5,-544.5 276.5,-498.5 30.5,-498.5\" stroke=\"black\"/>\n",
       "<text font-family=\"Times,serif\" font-size=\"14.00\" text-anchor=\"middle\" x=\"81.5\" y=\"-517.8\">dense_6: Dense</text>\n",
       "<polyline fill=\"none\" points=\"132.5,-498.5 132.5,-544.5 \" stroke=\"black\"/>\n",
       "<text font-family=\"Times,serif\" font-size=\"14.00\" text-anchor=\"middle\" x=\"160\" y=\"-529.3\">input:</text>\n",
       "<polyline fill=\"none\" points=\"132.5,-521.5 187.5,-521.5 \" stroke=\"black\"/>\n",
       "<text font-family=\"Times,serif\" font-size=\"14.00\" text-anchor=\"middle\" x=\"160\" y=\"-506.3\">output:</text>\n",
       "<polyline fill=\"none\" points=\"187.5,-498.5 187.5,-544.5 \" stroke=\"black\"/>\n",
       "<text font-family=\"Times,serif\" font-size=\"14.00\" text-anchor=\"middle\" x=\"232\" y=\"-529.3\">(None, 7393)</text>\n",
       "<polyline fill=\"none\" points=\"187.5,-521.5 276.5,-521.5 \" stroke=\"black\"/>\n",
       "<text font-family=\"Times,serif\" font-size=\"14.00\" text-anchor=\"middle\" x=\"232\" y=\"-506.3\">(None, 128)</text>\n",
       "</g>\n",
       "<!-- 140599858667816&#45;&gt;140599845399800 -->\n",
       "<g class=\"edge\" id=\"edge1\"><title>140599858667816-&gt;140599845399800</title>\n",
       "<path d=\"M153.5,-581.366C153.5,-573.152 153.5,-563.658 153.5,-554.725\" fill=\"none\" stroke=\"black\"/>\n",
       "<polygon fill=\"black\" points=\"157,-554.607 153.5,-544.607 150,-554.607 157,-554.607\" stroke=\"black\"/>\n",
       "</g>\n",
       "<!-- 140599845400416 -->\n",
       "<g class=\"node\" id=\"node3\"><title>140599845400416</title>\n",
       "<polygon fill=\"none\" points=\"22,-415.5 22,-461.5 285,-461.5 285,-415.5 22,-415.5\" stroke=\"black\"/>\n",
       "<text font-family=\"Times,serif\" font-size=\"14.00\" text-anchor=\"middle\" x=\"84.5\" y=\"-434.8\">dropout_4: Dropout</text>\n",
       "<polyline fill=\"none\" points=\"147,-415.5 147,-461.5 \" stroke=\"black\"/>\n",
       "<text font-family=\"Times,serif\" font-size=\"14.00\" text-anchor=\"middle\" x=\"174.5\" y=\"-446.3\">input:</text>\n",
       "<polyline fill=\"none\" points=\"147,-438.5 202,-438.5 \" stroke=\"black\"/>\n",
       "<text font-family=\"Times,serif\" font-size=\"14.00\" text-anchor=\"middle\" x=\"174.5\" y=\"-423.3\">output:</text>\n",
       "<polyline fill=\"none\" points=\"202,-415.5 202,-461.5 \" stroke=\"black\"/>\n",
       "<text font-family=\"Times,serif\" font-size=\"14.00\" text-anchor=\"middle\" x=\"243.5\" y=\"-446.3\">(None, 128)</text>\n",
       "<polyline fill=\"none\" points=\"202,-438.5 285,-438.5 \" stroke=\"black\"/>\n",
       "<text font-family=\"Times,serif\" font-size=\"14.00\" text-anchor=\"middle\" x=\"243.5\" y=\"-423.3\">(None, 128)</text>\n",
       "</g>\n",
       "<!-- 140599845399800&#45;&gt;140599845400416 -->\n",
       "<g class=\"edge\" id=\"edge2\"><title>140599845399800-&gt;140599845400416</title>\n",
       "<path d=\"M153.5,-498.366C153.5,-490.152 153.5,-480.658 153.5,-471.725\" fill=\"none\" stroke=\"black\"/>\n",
       "<polygon fill=\"black\" points=\"157,-471.607 153.5,-461.607 150,-471.607 157,-471.607\" stroke=\"black\"/>\n",
       "</g>\n",
       "<!-- 140599858790528 -->\n",
       "<g class=\"node\" id=\"node4\"><title>140599858790528</title>\n",
       "<polygon fill=\"none\" points=\"33.5,-332.5 33.5,-378.5 273.5,-378.5 273.5,-332.5 33.5,-332.5\" stroke=\"black\"/>\n",
       "<text font-family=\"Times,serif\" font-size=\"14.00\" text-anchor=\"middle\" x=\"84.5\" y=\"-351.8\">dense_7: Dense</text>\n",
       "<polyline fill=\"none\" points=\"135.5,-332.5 135.5,-378.5 \" stroke=\"black\"/>\n",
       "<text font-family=\"Times,serif\" font-size=\"14.00\" text-anchor=\"middle\" x=\"163\" y=\"-363.3\">input:</text>\n",
       "<polyline fill=\"none\" points=\"135.5,-355.5 190.5,-355.5 \" stroke=\"black\"/>\n",
       "<text font-family=\"Times,serif\" font-size=\"14.00\" text-anchor=\"middle\" x=\"163\" y=\"-340.3\">output:</text>\n",
       "<polyline fill=\"none\" points=\"190.5,-332.5 190.5,-378.5 \" stroke=\"black\"/>\n",
       "<text font-family=\"Times,serif\" font-size=\"14.00\" text-anchor=\"middle\" x=\"232\" y=\"-363.3\">(None, 128)</text>\n",
       "<polyline fill=\"none\" points=\"190.5,-355.5 273.5,-355.5 \" stroke=\"black\"/>\n",
       "<text font-family=\"Times,serif\" font-size=\"14.00\" text-anchor=\"middle\" x=\"232\" y=\"-340.3\">(None, 256)</text>\n",
       "</g>\n",
       "<!-- 140599845400416&#45;&gt;140599858790528 -->\n",
       "<g class=\"edge\" id=\"edge3\"><title>140599845400416-&gt;140599858790528</title>\n",
       "<path d=\"M153.5,-415.366C153.5,-407.152 153.5,-397.658 153.5,-388.725\" fill=\"none\" stroke=\"black\"/>\n",
       "<polygon fill=\"black\" points=\"157,-388.607 153.5,-378.607 150,-388.607 157,-388.607\" stroke=\"black\"/>\n",
       "</g>\n",
       "<!-- 140599858791088 -->\n",
       "<g class=\"node\" id=\"node5\"><title>140599858791088</title>\n",
       "<polygon fill=\"none\" points=\"22,-249.5 22,-295.5 285,-295.5 285,-249.5 22,-249.5\" stroke=\"black\"/>\n",
       "<text font-family=\"Times,serif\" font-size=\"14.00\" text-anchor=\"middle\" x=\"84.5\" y=\"-268.8\">dropout_5: Dropout</text>\n",
       "<polyline fill=\"none\" points=\"147,-249.5 147,-295.5 \" stroke=\"black\"/>\n",
       "<text font-family=\"Times,serif\" font-size=\"14.00\" text-anchor=\"middle\" x=\"174.5\" y=\"-280.3\">input:</text>\n",
       "<polyline fill=\"none\" points=\"147,-272.5 202,-272.5 \" stroke=\"black\"/>\n",
       "<text font-family=\"Times,serif\" font-size=\"14.00\" text-anchor=\"middle\" x=\"174.5\" y=\"-257.3\">output:</text>\n",
       "<polyline fill=\"none\" points=\"202,-249.5 202,-295.5 \" stroke=\"black\"/>\n",
       "<text font-family=\"Times,serif\" font-size=\"14.00\" text-anchor=\"middle\" x=\"243.5\" y=\"-280.3\">(None, 256)</text>\n",
       "<polyline fill=\"none\" points=\"202,-272.5 285,-272.5 \" stroke=\"black\"/>\n",
       "<text font-family=\"Times,serif\" font-size=\"14.00\" text-anchor=\"middle\" x=\"243.5\" y=\"-257.3\">(None, 256)</text>\n",
       "</g>\n",
       "<!-- 140599858790528&#45;&gt;140599858791088 -->\n",
       "<g class=\"edge\" id=\"edge4\"><title>140599858790528-&gt;140599858791088</title>\n",
       "<path d=\"M153.5,-332.366C153.5,-324.152 153.5,-314.658 153.5,-305.725\" fill=\"none\" stroke=\"black\"/>\n",
       "<polygon fill=\"black\" points=\"157,-305.607 153.5,-295.607 150,-305.607 157,-305.607\" stroke=\"black\"/>\n",
       "</g>\n",
       "<!-- 140599859184136 -->\n",
       "<g class=\"node\" id=\"node6\"><title>140599859184136</title>\n",
       "<polygon fill=\"none\" points=\"33.5,-166.5 33.5,-212.5 273.5,-212.5 273.5,-166.5 33.5,-166.5\" stroke=\"black\"/>\n",
       "<text font-family=\"Times,serif\" font-size=\"14.00\" text-anchor=\"middle\" x=\"84.5\" y=\"-185.8\">dense_8: Dense</text>\n",
       "<polyline fill=\"none\" points=\"135.5,-166.5 135.5,-212.5 \" stroke=\"black\"/>\n",
       "<text font-family=\"Times,serif\" font-size=\"14.00\" text-anchor=\"middle\" x=\"163\" y=\"-197.3\">input:</text>\n",
       "<polyline fill=\"none\" points=\"135.5,-189.5 190.5,-189.5 \" stroke=\"black\"/>\n",
       "<text font-family=\"Times,serif\" font-size=\"14.00\" text-anchor=\"middle\" x=\"163\" y=\"-174.3\">output:</text>\n",
       "<polyline fill=\"none\" points=\"190.5,-166.5 190.5,-212.5 \" stroke=\"black\"/>\n",
       "<text font-family=\"Times,serif\" font-size=\"14.00\" text-anchor=\"middle\" x=\"232\" y=\"-197.3\">(None, 256)</text>\n",
       "<polyline fill=\"none\" points=\"190.5,-189.5 273.5,-189.5 \" stroke=\"black\"/>\n",
       "<text font-family=\"Times,serif\" font-size=\"14.00\" text-anchor=\"middle\" x=\"232\" y=\"-174.3\">(None, 64)</text>\n",
       "</g>\n",
       "<!-- 140599858791088&#45;&gt;140599859184136 -->\n",
       "<g class=\"edge\" id=\"edge5\"><title>140599858791088-&gt;140599859184136</title>\n",
       "<path d=\"M153.5,-249.366C153.5,-241.152 153.5,-231.658 153.5,-222.725\" fill=\"none\" stroke=\"black\"/>\n",
       "<polygon fill=\"black\" points=\"157,-222.607 153.5,-212.607 150,-222.607 157,-222.607\" stroke=\"black\"/>\n",
       "</g>\n",
       "<!-- 140599859184584 -->\n",
       "<g class=\"node\" id=\"node7\"><title>140599859184584</title>\n",
       "<polygon fill=\"none\" points=\"25.5,-83.5 25.5,-129.5 281.5,-129.5 281.5,-83.5 25.5,-83.5\" stroke=\"black\"/>\n",
       "<text font-family=\"Times,serif\" font-size=\"14.00\" text-anchor=\"middle\" x=\"88\" y=\"-102.8\">dropout_6: Dropout</text>\n",
       "<polyline fill=\"none\" points=\"150.5,-83.5 150.5,-129.5 \" stroke=\"black\"/>\n",
       "<text font-family=\"Times,serif\" font-size=\"14.00\" text-anchor=\"middle\" x=\"178\" y=\"-114.3\">input:</text>\n",
       "<polyline fill=\"none\" points=\"150.5,-106.5 205.5,-106.5 \" stroke=\"black\"/>\n",
       "<text font-family=\"Times,serif\" font-size=\"14.00\" text-anchor=\"middle\" x=\"178\" y=\"-91.3\">output:</text>\n",
       "<polyline fill=\"none\" points=\"205.5,-83.5 205.5,-129.5 \" stroke=\"black\"/>\n",
       "<text font-family=\"Times,serif\" font-size=\"14.00\" text-anchor=\"middle\" x=\"243.5\" y=\"-114.3\">(None, 64)</text>\n",
       "<polyline fill=\"none\" points=\"205.5,-106.5 281.5,-106.5 \" stroke=\"black\"/>\n",
       "<text font-family=\"Times,serif\" font-size=\"14.00\" text-anchor=\"middle\" x=\"243.5\" y=\"-91.3\">(None, 64)</text>\n",
       "</g>\n",
       "<!-- 140599859184136&#45;&gt;140599859184584 -->\n",
       "<g class=\"edge\" id=\"edge6\"><title>140599859184136-&gt;140599859184584</title>\n",
       "<path d=\"M153.5,-166.366C153.5,-158.152 153.5,-148.658 153.5,-139.725\" fill=\"none\" stroke=\"black\"/>\n",
       "<polygon fill=\"black\" points=\"157,-139.607 153.5,-129.607 150,-139.607 157,-139.607\" stroke=\"black\"/>\n",
       "</g>\n",
       "<!-- 140599838659080 -->\n",
       "<g class=\"node\" id=\"node8\"><title>140599838659080</title>\n",
       "<polygon fill=\"none\" points=\"37,-0.5 37,-46.5 270,-46.5 270,-0.5 37,-0.5\" stroke=\"black\"/>\n",
       "<text font-family=\"Times,serif\" font-size=\"14.00\" text-anchor=\"middle\" x=\"88\" y=\"-19.8\">dense_9: Dense</text>\n",
       "<polyline fill=\"none\" points=\"139,-0.5 139,-46.5 \" stroke=\"black\"/>\n",
       "<text font-family=\"Times,serif\" font-size=\"14.00\" text-anchor=\"middle\" x=\"166.5\" y=\"-31.3\">input:</text>\n",
       "<polyline fill=\"none\" points=\"139,-23.5 194,-23.5 \" stroke=\"black\"/>\n",
       "<text font-family=\"Times,serif\" font-size=\"14.00\" text-anchor=\"middle\" x=\"166.5\" y=\"-8.3\">output:</text>\n",
       "<polyline fill=\"none\" points=\"194,-0.5 194,-46.5 \" stroke=\"black\"/>\n",
       "<text font-family=\"Times,serif\" font-size=\"14.00\" text-anchor=\"middle\" x=\"232\" y=\"-31.3\">(None, 64)</text>\n",
       "<polyline fill=\"none\" points=\"194,-23.5 270,-23.5 \" stroke=\"black\"/>\n",
       "<text font-family=\"Times,serif\" font-size=\"14.00\" text-anchor=\"middle\" x=\"232\" y=\"-8.3\">(None, 1)</text>\n",
       "</g>\n",
       "<!-- 140599859184584&#45;&gt;140599838659080 -->\n",
       "<g class=\"edge\" id=\"edge7\"><title>140599859184584-&gt;140599838659080</title>\n",
       "<path d=\"M153.5,-83.3664C153.5,-75.1516 153.5,-65.6579 153.5,-56.7252\" fill=\"none\" stroke=\"black\"/>\n",
       "<polygon fill=\"black\" points=\"157,-56.6068 153.5,-46.6068 150,-56.6069 157,-56.6068\" stroke=\"black\"/>\n",
       "</g>\n",
       "</g>\n",
       "</svg>"
      ],
      "text/plain": [
       "<IPython.core.display.SVG object>"
      ]
     },
     "metadata": {},
     "output_type": "display_data"
    }
   ],
   "source": [
    "from IPython.display import Image, display, SVG\n",
    "from keras.utils.visualize_util import model_to_dot\n",
    "\n",
    "# Show the model in ipython notebook\n",
    "figure = SVG(model_to_dot(model, show_shapes=True).create(prog='dot', format='svg'))\n",
    "display(figure)"
   ]
  },
  {
   "cell_type": "code",
   "execution_count": null,
   "metadata": {
    "collapsed": true
   },
   "outputs": [],
   "source": []
  }
 ],
 "metadata": {
  "anaconda-cloud": {},
  "kernelspec": {
   "display_name": "Python [default]",
   "language": "python",
   "name": "python3"
  },
  "language_info": {
   "codemirror_mode": {
    "name": "ipython",
    "version": 3
   },
   "file_extension": ".py",
   "mimetype": "text/x-python",
   "name": "python",
   "nbconvert_exporter": "python",
   "pygments_lexer": "ipython3",
   "version": "3.5.2"
  }
 },
 "nbformat": 4,
 "nbformat_minor": 1
}
