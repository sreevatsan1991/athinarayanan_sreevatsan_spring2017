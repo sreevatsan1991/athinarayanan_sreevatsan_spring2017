{
 "cells": [
  {
   "cell_type": "markdown",
   "metadata": {},
   "source": [
    "<h1> ANALYSIS OF YELP AND ZOMATO DATA"
   ]
  },
  {
   "cell_type": "markdown",
   "metadata": {},
   "source": [
    "  <img src=\"Images\\yelpzomato.jpg\">"
   ]
  },
  {
   "cell_type": "markdown",
   "metadata": {},
   "source": [
    "<h3>Introduction</h3><br>\n",
    "Being a great cook myself, I thought analyzing yelp and zomato data would be great to understand food preferences in various cities. This analysis focusses on combining **yelp and zomato data**, getting specific user input to suggest good restaurants for him in his locality and analyzing zomato reviews."
   ]
  },
  {
   "cell_type": "markdown",
   "metadata": {},
   "source": [
    "<h3>Data sources</h3>\n",
    "* Yelp Data Source -   https://www.yelp.com/developers   File Format : JSON\n",
    "* Zomato Data Source - https://developers.zomato.com/api File Format : JSON"
   ]
  },
  {
   "cell_type": "markdown",
   "metadata": {},
   "source": [
    "<h2> DATA COLLECTION </h2>"
   ]
  },
  {
   "cell_type": "markdown",
   "metadata": {},
   "source": [
    "The city and country name of the user is fetched using 'input'. These inputs are passed further for data collection"
   ]
  },
  {
   "cell_type": "markdown",
   "metadata": {},
   "source": [
    "<h3>Yelp Data Collection - Steps</h3>\n",
    "* The client id and keys are obtained for Yelp data\n",
    "* A request is made to the yelp data to obtain the access token which needs to be passed in the header when making the request to the yelp API \n",
    "* Data that is collected from the yelp API is stored in a folder structure<br><br>\n",
    "<b>Folder structure</b><br><br>\n",
    "<font size=4>Data-->Yelp Data --> Country --> Country State --> City --> Restaurants --> File.json</font><br><br>\n",
    "Yelp Data Location : <a href=\"Data/Yelp Data\"> Yelp Data </a>\n",
    "<h4>Reviews Data</h4>\n",
    "* Based on the data collected from yelp APi, the id of each restaurant is stored and passed to the reviews API to get reviews about these restaurants. Each restaurant gets 3 reviews (API limit)\n",
    "\n",
    " <font size=4>Data-->Yelp Data Reviews --> Country --> Country State --> City --> Restaurant id --> Reviews.json</font><br><br>\n",
    " Yelp Data Reviews Location : <a href=\"Data/Yelp Data Reviews\"> Yelp Data Reviews </a>"
   ]
  },
  {
   "cell_type": "markdown",
   "metadata": {
    "collapsed": true
   },
   "source": [
    "<h3>Zomato Data Collection - Steps</h3>"
   ]
  },
  {
   "cell_type": "markdown",
   "metadata": {},
   "source": [
    "* The city name of the user is sent to zomato API to obtain the city id (This is used to get restaurant details for a city)\n",
    "* The restaurant names of the data collected in Yelp API is passed to the zomato API with the city id to fetch data <br><br>\n",
    "<b>Folder structure</b><br><br>\n",
    "<font size=4>Data-->Zomato Data --> Country --> City --> Zipcode --> Price Range--> File.json</font><br><br>\n",
    "Zomato Data : <a href=\"Data/Zomato Data\"/>Zomato Data</a>"
   ]
  },
  {
   "cell_type": "markdown",
   "metadata": {
    "collapsed": true
   },
   "source": [
    "<h2> DATA STORAGE </h2>"
   ]
  },
  {
   "cell_type": "markdown",
   "metadata": {},
   "source": [
    "* The data collected using API is stored in a folder structure\n",
    "* Now the data that is collected as JSON needs to be converted to CSV to be processed in pandas dataframe.\n",
    "\n",
    " <b>CSV Data Storage<br></b>\n",
    "- Restaurant details for Yelp and Zomato  \n",
    "- Restaurant Open Hours \n",
    "- Restaurant Cuisines \n",
    "- Restaurant Reviews\n",
    "\n",
    "The processed data can be accessed <a href=\"Other Files\">here</a>"
   ]
  },
  {
   "cell_type": "markdown",
   "metadata": {},
   "source": [
    "## ANALYSIS - 1 <img align=\"right\" style=\"width:350px;height:125px;margin-top:0px;padding-top:0px;\" src=\"Images/cloud-pricing.png\"/>\n",
    "## COMPARISON OF YELP AND ZOMATO DATA"
   ]
  },
  {
   "cell_type": "markdown",
   "metadata": {},
   "source": [
    "#### Criteria for Analysis\n",
    "* The yelp data and zomato data is read into a pandas dataframe\n",
    "* The rating of reach restaurant in Zomato and Yelp is compared\n",
    "* The relationship between review counts, price and restaurant ratings are compared\n",
    "* The best overall restaurant is identified by normalizing restaurant rating, review count and price\n"
   ]
  },
  {
   "cell_type": "markdown",
   "metadata": {},
   "source": [
    "### Part 1\n",
    "The rating of reach restaurant in Zomato and Yelp is compared <br>\n",
    "* After joining the yelp and zomato data, for every city, the rating of restaurants in yelp and zomato is analyzed (by using group by and mean).\n"
   ]
  },
  {
   "cell_type": "markdown",
   "metadata": {},
   "source": [
    "<img src=\"Readme images/Analysis1-yelpzomato.PNG\">"
   ]
  },
  {
   "cell_type": "markdown",
   "metadata": {},
   "source": [
    "### Graph Output"
   ]
  },
  {
   "cell_type": "markdown",
   "metadata": {},
   "source": [
    "<img src=\"Output/Analysis 1/Analysis1-Rating.jpg\">"
   ]
  },
  {
   "cell_type": "markdown",
   "metadata": {},
   "source": [
    "## The relationship between review counts, price and restaurant ratings are compared"
   ]
  },
  {
   "cell_type": "markdown",
   "metadata": {},
   "source": [
    "Yelp Data Plots<br>\n",
    "<img src=\"Output/Analysis 1/yelp1.JPG\">"
   ]
  },
  {
   "cell_type": "markdown",
   "metadata": {},
   "source": [
    "Zomato Data Plots\n",
    "<img src=\"Output/Analysis 1/zomato1.jpg\">"
   ]
  },
  {
   "cell_type": "markdown",
   "metadata": {},
   "source": [
    "## Inferences"
   ]
  },
  {
   "cell_type": "markdown",
   "metadata": {},
   "source": [
    "* From the above graphs I infer that for Yelp, review count and price of a restaurant dont have much of a correlation.\n",
    "* For Zomato though, I find that for most of the countries, votes increase if the restaurant is more expensive\n",
    "* Another inference for yelp is that the restaurants rating increases when its less expensive. For Zomato, different behavior is observed in each country.\n"
   ]
  },
  {
   "cell_type": "markdown",
   "metadata": {},
   "source": [
    "## ANALYSIS - 2 <img align=\"right\" style=\"width:350px;height:125px;margin-top:0px;padding-top:0px;\" src=\"Readme images/analysis2cui.jpg\"/>\n",
    "## CUISINE ANALYSIS OF RESTAURANTS"
   ]
  },
  {
   "cell_type": "markdown",
   "metadata": {},
   "source": [
    "### Criteria"
   ]
  },
  {
   "cell_type": "markdown",
   "metadata": {},
   "source": [
    "* The cuisine details of restaurants are loaded to a dataframe\n",
    "* The top cuisines in each city is calculated\n",
    "* User input is fetched to find his city name\n",
    "* The top cuisines in his city is displayed\n",
    "* The user is asked for his favourite cuisine\n",
    "* The top restaurant in this cuisine and city is displayed"
   ]
  },
  {
   "cell_type": "markdown",
   "metadata": {},
   "source": [
    "Top Cuisines\n",
    "<img src=\"Readme images/analysis2.PNG\">\n"
   ]
  },
  {
   "cell_type": "markdown",
   "metadata": {},
   "source": [
    "Graph - Displayed after fetching user input about which city he resides in<br>\n",
    "  <img src=\"Output/Analysis 2/cuisine.PNG\">"
   ]
  },
  {
   "cell_type": "markdown",
   "metadata": {},
   "source": [
    "Once the user enters his favourite cuisine, two iamges are displayed\n",
    "- The image is dynamically fetched from the url link available in the data\n",
    "- The restaurant timing data are processed and stored in csv. This data is displayed by dynamically loading and reading the csv"
   ]
  },
  {
   "cell_type": "markdown",
   "metadata": {},
   "source": [
    "## RESULTS"
   ]
  },
  {
   "cell_type": "markdown",
   "metadata": {},
   "source": [
    "<img src=\"Output/Analysis 2/topres.PNG\">"
   ]
  },
  {
   "cell_type": "markdown",
   "metadata": {},
   "source": [
    "<img src=\"Output/Analysis 2/cheapres.PNG\">"
   ]
  },
  {
   "cell_type": "markdown",
   "metadata": {},
   "source": [
    "## ANALYSIS - 3 <img align=\"right\" style=\"width:350px;height:125px;margin-top:0px;padding-top:0px;\" src=\"Readme images/rateit.jpg\"/>\n",
    "## ANALYSIS OF REVIEWS"
   ]
  },
  {
   "cell_type": "markdown",
   "metadata": {},
   "source": [
    "## Criteria\n",
    "* Sentiment Analysis of reviews (Naive Bayes Classifier)\n",
    "* Map plot of restaurant data\n",
    "\n",
    "Note: This analysis needs Basemap package to be installed in the system"
   ]
  },
  {
   "cell_type": "markdown",
   "metadata": {},
   "source": [
    "## Sentiment Analysis Results\n",
    "<img src= \"Output/Analysis 3/sentiment.PNG\">"
   ]
  },
  {
   "cell_type": "markdown",
   "metadata": {},
   "source": [
    "## Graph\n",
    "Correlation between review sentiment and restaurant rating\n",
    "   <img src= \"Output/Analysis 3/graph.PNG\">"
   ]
  },
  {
   "cell_type": "markdown",
   "metadata": {},
   "source": [
    "### Inference\n",
    "* I conclude from the above graph that there is no relation between rating given and the sentiment of reviews"
   ]
  },
  {
   "cell_type": "markdown",
   "metadata": {},
   "source": [
    "##  Map Plot of restaurants for Boston City"
   ]
  },
  {
   "cell_type": "markdown",
   "metadata": {},
   "source": [
    "<img src=\"Output/Analysis 3/mapplot.PNG\">"
   ]
  },
  {
   "cell_type": "code",
   "execution_count": null,
   "metadata": {
    "collapsed": true
   },
   "outputs": [],
   "source": []
  }
 ],
 "metadata": {
  "anaconda-cloud": {},
  "kernelspec": {
   "display_name": "Python [conda root]",
   "language": "python",
   "name": "conda-root-py"
  },
  "language_info": {
   "codemirror_mode": {
    "name": "ipython",
    "version": 3
   },
   "file_extension": ".py",
   "mimetype": "text/x-python",
   "name": "python",
   "nbconvert_exporter": "python",
   "pygments_lexer": "ipython3",
   "version": "3.5.2"
  }
 },
 "nbformat": 4,
 "nbformat_minor": 2
}
