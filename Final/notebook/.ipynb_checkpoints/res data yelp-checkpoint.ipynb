{
 "cells": [
  {
   "cell_type": "code",
   "execution_count": 231,
   "metadata": {
    "collapsed": true
   },
   "outputs": [],
   "source": [
    "import requests\n",
    "from requests_oauthlib import OAuth1\n",
    "import argparse\n",
    "import urllib.request,json\n",
    "import datetime\n",
    "import requests\n",
    "import os\n",
    "import pandas as pd"
   ]
  },
  {
   "cell_type": "code",
   "execution_count": 232,
   "metadata": {
    "collapsed": false
   },
   "outputs": [],
   "source": [
    "uauth = OAuth1('CQ0SBNGlDITRbkw2PM84Ug', '7RVaHKptMjqId0CaOSIS_5mnW84',\n",
    "                  'WmOCoc8PHkdfsDOWv7vnVD2fiOTkstxO', '_yYDR4Kh2qq0tsup11JfS9xzxqU')\n",
    "\n",
    "ua=OAuth1('WmOCoc8PHkdfsDOWv7vnVD2fiOTkstxO')\n",
    "\n",
    "#requests.get('https://api.yelp.com/oauth2/token',auth=uauth).json()\n",
    "\n",
    "#Getting bearer token\n",
    "data = urllib.parse.urlencode({\n",
    "'client_id' : '92p07_JjKyriZTQxAXRiKQ',\n",
    "'client_secret': 'xJgWoUoy6Y3tGvykSYpi1EmndMnp0Z6TjNiUdhema3e2fyKnXFiOEbiVfhkvIiRA',\n",
    "        'grant_type'  : 'client_credentials',\n",
    "})\n",
    "yelp_headers = {\n",
    "     'content-type': 'application/x-www-form-urlencoded',\n",
    " }\n",
    "response = requests.request('POST', 'https://api.yelp.com/oauth2/token', data=data, headers=yelp_headers)\n",
    "bearer_token = response.json()['access_token']\n",
    "\n",
    "#Token\n",
    "yelp_headers = {\n",
    "       'Authorization': 'Bearer %s' % bearer_token\n",
    "}"
   ]
  },
  {
   "cell_type": "code",
   "execution_count": null,
   "metadata": {
    "collapsed": true
   },
   "outputs": [],
   "source": []
  },
  {
   "cell_type": "code",
   "execution_count": 233,
   "metadata": {
    "collapsed": false
   },
   "outputs": [],
   "source": [
    "resultdata =[]\n",
    "offset=0\n",
    "location='Sydney'\n",
    "countryname='Australia'\n",
    "cityname=location\n",
    "for i in range(1,5):\n",
    "    resultdata.append(requests.get('https://api.yelp.com/v2/search?term=restaurants&location='+location+'&limit=40&offset='+str(offset),auth=uauth,headers=yelp_headers).json())\n",
    "    offset=offset+40"
   ]
  },
  {
   "cell_type": "code",
   "execution_count": 234,
   "metadata": {
    "collapsed": false
   },
   "outputs": [],
   "source": [
    "data=[]\n",
    "dataid=[]\n",
    "businessdata=[]\n",
    "term='restaurants'\n",
    "for i in range(len(resultdata)):\n",
    "    for j in range(len(resultdata[i]['businesses'])):\n",
    "           data.append(resultdata[i]['businesses'][j])"
   ]
  },
  {
   "cell_type": "code",
   "execution_count": 235,
   "metadata": {
    "collapsed": false
   },
   "outputs": [],
   "source": [
    "for i in range(len(data)):\n",
    "    dataid.append(data[i]['id'])"
   ]
  },
  {
   "cell_type": "code",
   "execution_count": null,
   "metadata": {
    "collapsed": false
   },
   "outputs": [],
   "source": []
  },
  {
   "cell_type": "code",
   "execution_count": null,
   "metadata": {
    "collapsed": false
   },
   "outputs": [],
   "source": []
  },
  {
   "cell_type": "code",
   "execution_count": null,
   "metadata": {
    "collapsed": false
   },
   "outputs": [],
   "source": []
  },
  {
   "cell_type": "code",
   "execution_count": 236,
   "metadata": {
    "collapsed": false
   },
   "outputs": [
    {
     "name": "stdout",
     "output_type": "stream",
     "text": [
      "Json Decode error - handled\n",
      "Json Decode error - handled\n"
     ]
    }
   ],
   "source": [
    "import time\n",
    "for i in range(len(dataid)):\n",
    "    response=requests.get('https://api.yelp.com/v3/businesses/'+dataid[i],headers=yelp_headers)\n",
    "    try:\n",
    "        responses=response.json()\n",
    "        businessdata.append(responses)\n",
    "        time.sleep(0.75)\n",
    "        # ...\n",
    "    except ValueError:\n",
    "        print('Json Decode error - handled')"
   ]
  },
  {
   "cell_type": "code",
   "execution_count": 237,
   "metadata": {
    "collapsed": false
   },
   "outputs": [
    {
     "data": {
      "text/plain": [
       "158"
      ]
     },
     "execution_count": 237,
     "metadata": {},
     "output_type": "execute_result"
    }
   ],
   "source": [
    "len(businessdata)"
   ]
  },
  {
   "cell_type": "code",
   "execution_count": 238,
   "metadata": {
    "collapsed": true
   },
   "outputs": [],
   "source": [
    "for i in range(len(businessdata)):\n",
    "    businessdata[i]['term']='restaurants'"
   ]
  },
  {
   "cell_type": "code",
   "execution_count": null,
   "metadata": {
    "collapsed": false
   },
   "outputs": [],
   "source": []
  },
  {
   "cell_type": "code",
   "execution_count": 239,
   "metadata": {
    "collapsed": true
   },
   "outputs": [],
   "source": [
    "def dir_check(file_path):\n",
    "    if not os.path.exists(file_path):\n",
    "        os.makedirs(file_path)"
   ]
  },
  {
   "cell_type": "code",
   "execution_count": 240,
   "metadata": {
    "collapsed": false
   },
   "outputs": [],
   "source": [
    "dataFolder='Data\\\\Yelp Data'\n",
    "for i in range(len(businessdata)):\n",
    "    if('name' in businessdata[i].keys()):\n",
    "        location = businessdata[i]['location'] # finding the location key \n",
    "        term = businessdata[i]['term'] # finding the term key\n",
    "        country = businessdata[i]['location']['country'] # finding the country key\n",
    "        state = businessdata[i]['location']['state'] # finding the state key\n",
    "        city = businessdata[i]['location']['city'] # finding the city key\n",
    "        id1=businessdata[i]['id']\n",
    "        directory = os.path.join(dataFolder + '\\\\' + country) # creating the path for country\n",
    "        subdirectory = os.path.join(directory + '\\\\' + state) # creating the path for state\n",
    "        subsubdirectory = os.path.join(subdirectory + '\\\\' + city) # creating the path for city\n",
    "        subsubsubdirectory = os.path.join(subsubdirectory + '\\\\' + term) # creating the path for term\n",
    "        dir_check(subsubsubdirectory) # checking the whole heirarchy is present if not creating it \n",
    "        with open(subsubsubdirectory+'\\\\'+id1+'.json','w') as outfile:\n",
    "            json.dump(businessdata[i],outfile)"
   ]
  },
  {
   "cell_type": "code",
   "execution_count": 241,
   "metadata": {
    "collapsed": true
   },
   "outputs": [],
   "source": [
    "with open('Other Files//countrydata.json','r') as file:\n",
    "    countrydata=json.load(file)"
   ]
  },
  {
   "cell_type": "code",
   "execution_count": 242,
   "metadata": {
    "collapsed": false
   },
   "outputs": [
    {
     "data": {
      "text/plain": [
       "{'1': 'India',\n",
       " '14': 'Australia',\n",
       " '148': 'New Zealand',\n",
       " '215': 'United Kingdom',\n",
       " '216': 'United States',\n",
       " '37': 'Canada',\n",
       " '97': 'Ireland'}"
      ]
     },
     "execution_count": 242,
     "metadata": {},
     "output_type": "execute_result"
    }
   ],
   "source": [
    "\n",
    "countrydata"
   ]
  },
  {
   "cell_type": "code",
   "execution_count": null,
   "metadata": {
    "collapsed": false
   },
   "outputs": [],
   "source": []
  },
  {
   "cell_type": "code",
   "execution_count": 243,
   "metadata": {
    "collapsed": false
   },
   "outputs": [],
   "source": [
    "citydata=[]\n",
    "zomdata=[]\n",
    "headers = {\n",
    "       'user-key': '79f964e9ee9f880892a36b813a83efdc'\n",
    "}\n",
    "citydata.append(requests.get('https://developers.zomato.com/api/v2.1/cities?q='+cityname,headers=headers).json())\n"
   ]
  },
  {
   "cell_type": "code",
   "execution_count": 244,
   "metadata": {
    "collapsed": false
   },
   "outputs": [
    {
     "data": {
      "text/plain": [
       "1"
      ]
     },
     "execution_count": 244,
     "metadata": {},
     "output_type": "execute_result"
    }
   ],
   "source": [
    "len(citydata)"
   ]
  },
  {
   "cell_type": "code",
   "execution_count": 245,
   "metadata": {
    "collapsed": false
   },
   "outputs": [],
   "source": [
    "count=0\n",
    "for i in range(len(citydata[0]['location_suggestions'])):\n",
    "    if(count<1):\n",
    "        if(citydata[0]['location_suggestions'][i]['country_name'].lower()==countryname.lower()):\n",
    "            if(',' in citydata[0]['location_suggestions'][i]['name']):\n",
    "                if(cityname==citydata[0]['location_suggestions'][i]['name'].split(',',1)[0]):\n",
    "                    cityid=citydata[0]['location_suggestions'][i]['id']\n",
    "                    count=count+1\n",
    "            elif(cityname==citydata[0]['location_suggestions'][i]['name']):\n",
    "                cityid=citydata[0]['location_suggestions'][i]['id']\n",
    "                count=count+1\n",
    "                \n",
    "    "
   ]
  },
  {
   "cell_type": "code",
   "execution_count": 246,
   "metadata": {
    "collapsed": false
   },
   "outputs": [
    {
     "data": {
      "text/plain": [
       "601"
      ]
     },
     "execution_count": 246,
     "metadata": {},
     "output_type": "execute_result"
    }
   ],
   "source": [
    "cityid"
   ]
  },
  {
   "cell_type": "code",
   "execution_count": null,
   "metadata": {
    "collapsed": false
   },
   "outputs": [],
   "source": []
  },
  {
   "cell_type": "code",
   "execution_count": null,
   "metadata": {
    "collapsed": false
   },
   "outputs": [],
   "source": []
  },
  {
   "cell_type": "code",
   "execution_count": null,
   "metadata": {
    "collapsed": false
   },
   "outputs": [],
   "source": []
  },
  {
   "cell_type": "code",
   "execution_count": null,
   "metadata": {
    "collapsed": false
   },
   "outputs": [],
   "source": []
  },
  {
   "cell_type": "code",
   "execution_count": null,
   "metadata": {
    "collapsed": false
   },
   "outputs": [],
   "source": []
  },
  {
   "cell_type": "code",
   "execution_count": null,
   "metadata": {
    "collapsed": false
   },
   "outputs": [],
   "source": []
  },
  {
   "cell_type": "code",
   "execution_count": 247,
   "metadata": {
    "collapsed": true
   },
   "outputs": [],
   "source": [
    "restaurantlist=[]\n",
    "for i in range(len(businessdata)):\n",
    "    restaurantlist.append(businessdata[i]['name'])"
   ]
  },
  {
   "cell_type": "code",
   "execution_count": 248,
   "metadata": {
    "collapsed": false
   },
   "outputs": [
    {
     "data": {
      "text/plain": [
       "['Bar Harbor Seafood',\n",
       " 'The Stubborn Mule',\n",
       " 'Market On South',\n",
       " 'Se7en Bites',\n",
       " \"JJ's Fusion Grille\",\n",
       " 'The Gnarly Barley',\n",
       " 'Pio Pio',\n",
       " 'King Bao',\n",
       " 'The Rusty Spoon',\n",
       " \"Artisan's Table\",\n",
       " 'Earls Kitchen + Bar',\n",
       " 'The Strand',\n",
       " \"Kimchi's Korean Grill\",\n",
       " 'Cafe Tu Tu Tango',\n",
       " 'Hawkers Asian Street Fare',\n",
       " 'The Cowfish Sushi Burger Bar',\n",
       " 'K Restaurant',\n",
       " 'Cork and Fork',\n",
       " \"Marlow's Tavern\",\n",
       " 'Spice Thai Restaurant',\n",
       " 'Tako Cheena',\n",
       " 'Lazy Moon',\n",
       " 'Chroma Modern Bar + Kitchen',\n",
       " \"Karen's Tasty Crabs\",\n",
       " 'Domu',\n",
       " 'Two Chefs Seafood Oyster Bar',\n",
       " 'Hash House A Go Go',\n",
       " \"Q'Kenan\",\n",
       " 'Tommy Bahama Restaurant | Bar | Store - Orlando',\n",
       " 'Border Grill Fresh-Mex',\n",
       " 'Little New Orleans Kitchen & Oyster Bar',\n",
       " 'Three Broomsticks',\n",
       " 'Yard House',\n",
       " \"Delmonico's Italian Steak House\",\n",
       " 'Farm & Haus',\n",
       " 'Nine Spices Hot Pot',\n",
       " 'Whisper Creek Farm: The Kitchen',\n",
       " 'The Whiskey',\n",
       " 'Bonefish Grill',\n",
       " 'Nova Restaurant',\n",
       " 'North Quarter Tavern',\n",
       " 'Nona Blue Modern Tavern',\n",
       " 'Kres Chophouse',\n",
       " 'iCajun Seafood Shack',\n",
       " 'Gyu-Kaku Japanese BBQ',\n",
       " 'Copper Canyon Grill',\n",
       " 'Toasted',\n",
       " 'The Mad Crab',\n",
       " 'Brick House Tavern + Tap',\n",
       " 'Sofrito Latin Cafe',\n",
       " \"Marlow's Tavern\",\n",
       " 'Strong Water Tavern',\n",
       " \"Norman's\",\n",
       " 'Tropical Cabana',\n",
       " \"Chef Art Smith's Homecoming\",\n",
       " 'The Osprey Tavern',\n",
       " \"Cooper's Hawk Winery & Restaurant\",\n",
       " 'Oudom Thai & Sushi',\n",
       " 'Bartaco - Orlando',\n",
       " 'Nona Tap Room',\n",
       " 'Oblivion Taproom',\n",
       " 'Sushiology',\n",
       " \"Padrino's Cuban Bistro\",\n",
       " \"Pom Pom's Teahouse & Sandwicheria\",\n",
       " 'Soupa Saiyan',\n",
       " \"McCoy's Bar & Grill\",\n",
       " 'Slate Restaurant',\n",
       " \"Armando's\",\n",
       " 'Kobe Japanese Steakhouse & Sushi Bar',\n",
       " \"Havana's Cuban Cuisine\",\n",
       " 'Sapporo Ramen',\n",
       " 'Tin & Taco',\n",
       " 'Vivo Italian Kitchen',\n",
       " 'Pharmacy',\n",
       " \"Chuy's\",\n",
       " \"Cheddar's Scratch Kitchen\",\n",
       " 'Gaviota',\n",
       " \"Santiago's Bodega\",\n",
       " 'Seito Sushi',\n",
       " 'Saigon Noodle and Grill',\n",
       " \"Jimmy Hula's\",\n",
       " 'RusTeak',\n",
       " 'Soco Thornton Park',\n",
       " 'Taste of Peru',\n",
       " 'Merguez Restaurant',\n",
       " 'The Neighborhood Eatery',\n",
       " 'Habibi Lebanese Semoran',\n",
       " 'Tacos Express Florida',\n",
       " 'House Of Pho',\n",
       " 'Ceviche Tapas Bar & Restaurant',\n",
       " 'Mediterranean Blue',\n",
       " \"Victoria & Albert's\",\n",
       " 'Canvas Restaurant & Market',\n",
       " 'Teak Neighborhood Grill',\n",
       " 'Wahlburgers',\n",
       " 'Gringos Locos',\n",
       " 'Shake Shack',\n",
       " 'A Land Remembered',\n",
       " 'Black Rock Bar & Grill',\n",
       " 'Itta Bena',\n",
       " 'The Wandering Wonton',\n",
       " 'Tapa Toro',\n",
       " \"Naguara K'Arepas\",\n",
       " \"Vanbarry's Public House\",\n",
       " \"Chatham's Place\",\n",
       " 'Black Rooster Taqueria',\n",
       " 'Loudmouth Burgers',\n",
       " 'Taco Twist',\n",
       " 'The Pie Orlando',\n",
       " 'The Meatball Stoppe',\n",
       " \"Christner's Prime Steak and Lobster\",\n",
       " '4 Rivers Smokehouse',\n",
       " 'Steak on Fire',\n",
       " \"Finnegan's Bar & Grill\",\n",
       " 'China Tea',\n",
       " 'Danketsu',\n",
       " \"Cooper's Hawk Winery & Restaurants\",\n",
       " 'Piazza Italia',\n",
       " 'The Pasta Factory Restaurant',\n",
       " 'Brasileirissimo Express',\n",
       " 'Hotto Potto',\n",
       " 'Sushi Katana',\n",
       " 'Zoës Kitchen',\n",
       " 'Mrs Potato',\n",
       " \"Eddie V's Prime Seafood and Steak\",\n",
       " 'Provisions & Buzz',\n",
       " 'Bahama Breeze',\n",
       " 'Bahama Breeze',\n",
       " \"Cricket's Grille\",\n",
       " 'Bleu',\n",
       " 'Durian Durian Fusion Thai Cuisine',\n",
       " 'Sazoncito - Latin Food',\n",
       " 'Lisbon Portuguese',\n",
       " 'Ocean Prime',\n",
       " \"Freddy's Frozen Custard & Steakburgers\",\n",
       " 'Firebirds Wood Fired Grill',\n",
       " 'Kasa Restaurant & Bar',\n",
       " 'Super Rico Colombian Bistro',\n",
       " 'Boi Brazil Churrascaria',\n",
       " 'Fish On Fire',\n",
       " 'NaraDeva Thai Restaurant',\n",
       " \"Marlow's Tavern\",\n",
       " 'DoveCote',\n",
       " \"Lafayette's\",\n",
       " 'Venezuelan Burger',\n",
       " \"Chuy's\",\n",
       " 'Pizza Bruno',\n",
       " 'Restaurant ASH',\n",
       " \"O'town Burgers N Wings\",\n",
       " 'The Peppy Bistro',\n",
       " 'Casa Del Marisco',\n",
       " 'Chai Thai Cuisine',\n",
       " 'The Boheme',\n",
       " 'Spoleto - My Italian Kitchen',\n",
       " \"Yummy's Express Asian Fusion\",\n",
       " 'Le Café De Paris',\n",
       " 'Cask & Larder',\n",
       " 'Dumpling Noodle Bar']"
      ]
     },
     "execution_count": 248,
     "metadata": {},
     "output_type": "execute_result"
    }
   ],
   "source": [
    "#for i in range(len(zomcitylistid)):\n",
    "restaurantlist   "
   ]
  },
  {
   "cell_type": "code",
   "execution_count": null,
   "metadata": {
    "collapsed": false
   },
   "outputs": [],
   "source": []
  },
  {
   "cell_type": "code",
   "execution_count": null,
   "metadata": {
    "collapsed": false
   },
   "outputs": [],
   "source": []
  },
  {
   "cell_type": "code",
   "execution_count": null,
   "metadata": {
    "collapsed": false
   },
   "outputs": [],
   "source": []
  },
  {
   "cell_type": "code",
   "execution_count": 197,
   "metadata": {
    "collapsed": false
   },
   "outputs": [
    {
     "data": {
      "text/plain": [
       "{'1': 'India',\n",
       " '14': 'Australia',\n",
       " '148': 'New Zealand',\n",
       " '215': 'United Kingdom',\n",
       " '216': 'United States',\n",
       " '37': 'Canada',\n",
       " '97': 'Ireland'}"
      ]
     },
     "execution_count": 197,
     "metadata": {},
     "output_type": "execute_result"
    }
   ],
   "source": [
    "countrydata"
   ]
  },
  {
   "cell_type": "code",
   "execution_count": 249,
   "metadata": {
    "collapsed": false
   },
   "outputs": [],
   "source": [
    "#for i in range(len(businessdata):\n",
    "resdata=[]\n",
    "for i in range(len(restaurantlist)):\n",
    "    resdata.append(requests.get('https://developers.zomato.com/api/v2.1/search?entity_type=city&entity_id='+str(cityid)+'&q='+restaurantlist[i],headers=headers).json())\n",
    "    time.sleep(0.3)"
   ]
  },
  {
   "cell_type": "code",
   "execution_count": 250,
   "metadata": {
    "collapsed": false
   },
   "outputs": [
    {
     "data": {
      "text/plain": [
       "158"
      ]
     },
     "execution_count": 250,
     "metadata": {},
     "output_type": "execute_result"
    }
   ],
   "source": [
    "len(resdata)"
   ]
  },
  {
   "cell_type": "code",
   "execution_count": 251,
   "metadata": {
    "collapsed": false
   },
   "outputs": [
    {
     "ename": "KeyError",
     "evalue": "'restaurants'",
     "output_type": "error",
     "traceback": [
      "\u001b[0;31m---------------------------------------------------------------------------\u001b[0m",
      "\u001b[0;31mKeyError\u001b[0m                                  Traceback (most recent call last)",
      "\u001b[0;32m<ipython-input-251-00ae4cf9160b>\u001b[0m in \u001b[0;36m<module>\u001b[0;34m()\u001b[0m\n\u001b[1;32m      1\u001b[0m \u001b[0mresdatasep\u001b[0m\u001b[1;33m=\u001b[0m\u001b[1;33m[\u001b[0m\u001b[1;33m]\u001b[0m\u001b[1;33m\u001b[0m\u001b[0m\n\u001b[1;32m      2\u001b[0m \u001b[1;32mfor\u001b[0m \u001b[0mi\u001b[0m \u001b[1;32min\u001b[0m \u001b[0mrange\u001b[0m\u001b[1;33m(\u001b[0m\u001b[0mlen\u001b[0m\u001b[1;33m(\u001b[0m\u001b[0mresdata\u001b[0m\u001b[1;33m)\u001b[0m\u001b[1;33m)\u001b[0m\u001b[1;33m:\u001b[0m\u001b[1;33m\u001b[0m\u001b[0m\n\u001b[0;32m----> 3\u001b[0;31m     \u001b[1;32mfor\u001b[0m \u001b[0mj\u001b[0m \u001b[1;32min\u001b[0m \u001b[0mrange\u001b[0m\u001b[1;33m(\u001b[0m\u001b[0mlen\u001b[0m\u001b[1;33m(\u001b[0m\u001b[0mresdata\u001b[0m\u001b[1;33m[\u001b[0m\u001b[0mi\u001b[0m\u001b[1;33m]\u001b[0m\u001b[1;33m[\u001b[0m\u001b[1;34m'restaurants'\u001b[0m\u001b[1;33m]\u001b[0m\u001b[1;33m)\u001b[0m\u001b[1;33m)\u001b[0m\u001b[1;33m:\u001b[0m\u001b[1;33m\u001b[0m\u001b[0m\n\u001b[0m\u001b[1;32m      4\u001b[0m         \u001b[0mresdatasep\u001b[0m\u001b[1;33m.\u001b[0m\u001b[0mappend\u001b[0m\u001b[1;33m(\u001b[0m\u001b[0mresdata\u001b[0m\u001b[1;33m[\u001b[0m\u001b[0mi\u001b[0m\u001b[1;33m]\u001b[0m\u001b[1;33m[\u001b[0m\u001b[1;34m'restaurants'\u001b[0m\u001b[1;33m]\u001b[0m\u001b[1;33m[\u001b[0m\u001b[0mj\u001b[0m\u001b[1;33m]\u001b[0m\u001b[1;33m)\u001b[0m\u001b[1;33m\u001b[0m\u001b[0m\n",
      "\u001b[0;31mKeyError\u001b[0m: 'restaurants'"
     ]
    }
   ],
   "source": [
    "resdatasep=[]\n",
    "for i in range(len(resdata)):\n",
    "    for j in range(len(resdata[i]['restaurants'])):\n",
    "        resdatasep.append(resdata[i]['restaurants'][j])"
   ]
  },
  {
   "cell_type": "code",
   "execution_count": 252,
   "metadata": {
    "collapsed": false
   },
   "outputs": [
    {
     "data": {
      "text/plain": [
       "196"
      ]
     },
     "execution_count": 252,
     "metadata": {},
     "output_type": "execute_result"
    }
   ],
   "source": [
    "len(resdatasep)"
   ]
  },
  {
   "cell_type": "code",
   "execution_count": 253,
   "metadata": {
    "collapsed": false
   },
   "outputs": [],
   "source": [
    "for i in range(len(resdatasep)):\n",
    "    cid=str(resdatasep[i]['restaurant']['location']['country_id'])\n",
    "    if(cid in countrydata.keys()):\n",
    "        resdatasep[i]['restaurant']['location']['country_name']=countrydata[cid]"
   ]
  },
  {
   "cell_type": "code",
   "execution_count": 254,
   "metadata": {
    "collapsed": true
   },
   "outputs": [],
   "source": [
    "def dir_check(file_path):\n",
    "    if not os.path.exists(file_path):\n",
    "        os.makedirs(file_path)"
   ]
  },
  {
   "cell_type": "code",
   "execution_count": 255,
   "metadata": {
    "collapsed": false
   },
   "outputs": [],
   "source": [
    "dataFolder='Data\\\\Zomato Data'\n",
    "for i in range(len(resdatasep)):\n",
    "    if('R' in resdatasep[i]['restaurant'].keys()):\n",
    "        country = resdatasep[i]['restaurant']['location']['country_name'] # finding the location key \n",
    "        city = resdatasep[i]['restaurant']['location']['city'] # finding the state key\n",
    "        zipcode = resdatasep[i]['restaurant']['location']['zipcode'] # finding the city key\n",
    "        id1=resdatasep[i]['restaurant']['id']\n",
    "        pricerange=resdatasep[i]['restaurant']['price_range']\n",
    "        id2='Price Range - '+str(pricerange)\n",
    "        directory = os.path.join(dataFolder + '\\\\' + country) \n",
    "        subdirectory = os.path.join(directory + '\\\\' + city) \n",
    "        if(zipcode!=\"\"):\n",
    "            subsubdirectory = os.path.join(subdirectory + '\\\\' + zipcode) # creating the path for city\n",
    "        else:\n",
    "            subsubdirectory = os.path.join(subdirectory + '\\\\' + 'No Zip code')\n",
    "        subsubsubdirectory = os.path.join(subsubdirectory + '\\\\' + id2) # creating the path for term\n",
    "        dir_check(subsubsubdirectory) # checking the whole heirarchy is present if not creating it \n",
    "        with open(subsubsubdirectory+'\\\\'+id1+'.json','w') as outfile:\n",
    "            json.dump(resdatasep[i],outfile)"
   ]
  },
  {
   "cell_type": "code",
   "execution_count": null,
   "metadata": {
    "collapsed": false
   },
   "outputs": [],
   "source": []
  },
  {
   "cell_type": "code",
   "execution_count": 256,
   "metadata": {
    "collapsed": false
   },
   "outputs": [],
   "source": [
    "#Collecting review\n",
    "resreviewsyelp=[]\n",
    "for i in range(len(dataid)):\n",
    "    resreviewsyelp.append(requests.get('https://api.yelp.com/v3/businesses/'+dataid[i]+'/reviews',headers=yelp_headers).json())"
   ]
  },
  {
   "cell_type": "code",
   "execution_count": 257,
   "metadata": {
    "collapsed": false
   },
   "outputs": [],
   "source": [
    "for i in range(len(resreviewsyelp)):\n",
    "    for j in range(len(resreviewsyelp[i]['reviews'])):\n",
    "        resreviewsyelp[i]['reviews'][j]['restaurant_id']=dataid[i]"
   ]
  },
  {
   "cell_type": "code",
   "execution_count": 258,
   "metadata": {
    "collapsed": false
   },
   "outputs": [],
   "source": [
    "def dir_check(file_path):\n",
    "    if not os.path.exists(file_path):\n",
    "        os.makedirs(file_path)"
   ]
  },
  {
   "cell_type": "code",
   "execution_count": 259,
   "metadata": {
    "collapsed": false
   },
   "outputs": [],
   "source": [
    "dataFolder='Data\\\\Yelp Data Reviews'\n",
    "for i in range(len(businessdata)):\n",
    "    location = businessdata[i]['location'] # finding the location key \n",
    "    term = businessdata[i]['term'] # finding the term key\n",
    "    country = businessdata[i]['location']['country'] # finding the country key\n",
    "    state = businessdata[i]['location']['state'] # finding the state key\n",
    "    city = businessdata[i]['location']['city'] # finding the city key\n",
    "    id1=businessdata[i]['id']\n",
    "    for j in range(len(dataid)):\n",
    "        if(dataid[j]==id1):\n",
    "            directory = os.path.join(dataFolder + '\\\\' + country) # creating the path for country\n",
    "            subdirectory = os.path.join(directory + '\\\\' + state) # creating the path for state\n",
    "            subsubdirectory = os.path.join(subdirectory + '\\\\' + city) # creating the path for city\n",
    "            subsubsubdirectory = os.path.join(subsubdirectory + '\\\\' + id1) # creating the path for term\n",
    "            dir_check(subsubsubdirectory) # checking the whole heirarchy is present if not creating it \n",
    "            resrev=resreviewsyelp[j]\n",
    "            for k in range(len(resrev['reviews'])):\n",
    "                if('text' in resrev['reviews'][k].keys()):\n",
    "                    time=resrev['reviews'][k]['time_created'][0:10]\n",
    "                    with open(subsubsubdirectory+'\\\\'+'review'+'-'+str(k+1)+'-'+time+'.json','w') as outfile:\n",
    "                        json.dump(resrev['reviews'][k],outfile)"
   ]
  },
  {
   "cell_type": "code",
   "execution_count": null,
   "metadata": {
    "collapsed": false
   },
   "outputs": [],
   "source": []
  },
  {
   "cell_type": "code",
   "execution_count": null,
   "metadata": {
    "collapsed": true
   },
   "outputs": [],
   "source": []
  }
 ],
 "metadata": {
  "anaconda-cloud": {},
  "kernelspec": {
   "display_name": "Python [conda root]",
   "language": "python",
   "name": "conda-root-py"
  },
  "language_info": {
   "codemirror_mode": {
    "name": "ipython",
    "version": 3
   },
   "file_extension": ".py",
   "mimetype": "text/x-python",
   "name": "python",
   "nbconvert_exporter": "python",
   "pygments_lexer": "ipython3",
   "version": "3.5.2"
  }
 },
 "nbformat": 4,
 "nbformat_minor": 1
}
