{
 "cells": [
  {
   "cell_type": "code",
   "execution_count": 260,
   "metadata": {
    "collapsed": true
   },
   "outputs": [],
   "source": [
    "import requests\n",
    "from requests_oauthlib import OAuth1\n",
    "import argparse\n",
    "import urllib.request,json\n",
    "import datetime\n",
    "import requests\n",
    "import os\n",
    "import pandas as pd"
   ]
  },
  {
   "cell_type": "code",
   "execution_count": 261,
   "metadata": {
    "collapsed": false
   },
   "outputs": [],
   "source": [
    "uauth = OAuth1('CQ0SBNGlDITRbkw2PM84Ug', '7RVaHKptMjqId0CaOSIS_5mnW84',\n",
    "                  'WmOCoc8PHkdfsDOWv7vnVD2fiOTkstxO', '_yYDR4Kh2qq0tsup11JfS9xzxqU')\n",
    "\n",
    "ua=OAuth1('WmOCoc8PHkdfsDOWv7vnVD2fiOTkstxO')\n",
    "\n",
    "#requests.get('https://api.yelp.com/oauth2/token',auth=uauth).json()\n",
    "\n",
    "#Getting bearer token\n",
    "data = urllib.parse.urlencode({\n",
    "'client_id' : '92p07_JjKyriZTQxAXRiKQ',\n",
    "'client_secret': 'xJgWoUoy6Y3tGvykSYpi1EmndMnp0Z6TjNiUdhema3e2fyKnXFiOEbiVfhkvIiRA',\n",
    "        'grant_type'  : 'client_credentials',\n",
    "})\n",
    "yelp_headers = {\n",
    "     'content-type': 'application/x-www-form-urlencoded',\n",
    " }\n",
    "response = requests.request('POST', 'https://api.yelp.com/oauth2/token', data=data, headers=yelp_headers)\n",
    "bearer_token = response.json()['access_token']\n",
    "\n",
    "#Token\n",
    "yelp_headers = {\n",
    "       'Authorization': 'Bearer %s' % bearer_token\n",
    "}"
   ]
  },
  {
   "cell_type": "code",
   "execution_count": null,
   "metadata": {
    "collapsed": true
   },
   "outputs": [],
   "source": []
  },
  {
   "cell_type": "code",
   "execution_count": 262,
   "metadata": {
    "collapsed": false
   },
   "outputs": [],
   "source": [
    "resultdata =[]\n",
    "offset=0\n",
    "location='Sydney'\n",
    "countryname='Australia'\n",
    "cityname=location\n",
    "for i in range(1,5):\n",
    "    resultdata.append(requests.get('https://api.yelp.com/v2/search?term=restaurants&location='+location+'&limit=40&offset='+str(offset),auth=uauth,headers=yelp_headers).json())\n",
    "    offset=offset+40"
   ]
  },
  {
   "cell_type": "code",
   "execution_count": 263,
   "metadata": {
    "collapsed": false
   },
   "outputs": [],
   "source": [
    "data=[]\n",
    "dataid=[]\n",
    "businessdata=[]\n",
    "term='restaurants'\n",
    "for i in range(len(resultdata)):\n",
    "    for j in range(len(resultdata[i]['businesses'])):\n",
    "           data.append(resultdata[i]['businesses'][j])"
   ]
  },
  {
   "cell_type": "code",
   "execution_count": 264,
   "metadata": {
    "collapsed": false
   },
   "outputs": [],
   "source": [
    "for i in range(len(data)):\n",
    "    dataid.append(data[i]['id'])"
   ]
  },
  {
   "cell_type": "code",
   "execution_count": null,
   "metadata": {
    "collapsed": false
   },
   "outputs": [],
   "source": []
  },
  {
   "cell_type": "code",
   "execution_count": null,
   "metadata": {
    "collapsed": false
   },
   "outputs": [],
   "source": []
  },
  {
   "cell_type": "code",
   "execution_count": null,
   "metadata": {
    "collapsed": false
   },
   "outputs": [],
   "source": []
  },
  {
   "cell_type": "code",
   "execution_count": 265,
   "metadata": {
    "collapsed": false
   },
   "outputs": [],
   "source": [
    "import time\n",
    "for i in range(len(dataid)):\n",
    "    response=requests.get('https://api.yelp.com/v3/businesses/'+dataid[i],headers=yelp_headers)\n",
    "    try:\n",
    "        responses=response.json()\n",
    "        businessdata.append(responses)\n",
    "        time.sleep(0.75)\n",
    "        # ...\n",
    "    except ValueError:\n",
    "        print('Json Decode error - handled')"
   ]
  },
  {
   "cell_type": "code",
   "execution_count": 266,
   "metadata": {
    "collapsed": false
   },
   "outputs": [
    {
     "data": {
      "text/plain": [
       "160"
      ]
     },
     "execution_count": 266,
     "metadata": {},
     "output_type": "execute_result"
    }
   ],
   "source": [
    "len(businessdata)"
   ]
  },
  {
   "cell_type": "code",
   "execution_count": 267,
   "metadata": {
    "collapsed": true
   },
   "outputs": [],
   "source": [
    "for i in range(len(businessdata)):\n",
    "    businessdata[i]['term']='restaurants'"
   ]
  },
  {
   "cell_type": "code",
   "execution_count": null,
   "metadata": {
    "collapsed": false
   },
   "outputs": [],
   "source": []
  },
  {
   "cell_type": "code",
   "execution_count": 268,
   "metadata": {
    "collapsed": true
   },
   "outputs": [],
   "source": [
    "def dir_check(file_path):\n",
    "    if not os.path.exists(file_path):\n",
    "        os.makedirs(file_path)"
   ]
  },
  {
   "cell_type": "code",
   "execution_count": 269,
   "metadata": {
    "collapsed": false
   },
   "outputs": [],
   "source": [
    "dataFolder='Data\\\\Yelp Data'\n",
    "for i in range(len(businessdata)):\n",
    "    if('name' in businessdata[i].keys()):\n",
    "        location = businessdata[i]['location'] # finding the location key \n",
    "        term = businessdata[i]['term'] # finding the term key\n",
    "        country = businessdata[i]['location']['country'] # finding the country key\n",
    "        state = businessdata[i]['location']['state'] # finding the state key\n",
    "        city = businessdata[i]['location']['city'] # finding the city key\n",
    "        id1=businessdata[i]['id']\n",
    "        directory = os.path.join(dataFolder + '\\\\' + country) # creating the path for country\n",
    "        subdirectory = os.path.join(directory + '\\\\' + state) # creating the path for state\n",
    "        subsubdirectory = os.path.join(subdirectory + '\\\\' + city) # creating the path for city\n",
    "        subsubsubdirectory = os.path.join(subsubdirectory + '\\\\' + term) # creating the path for term\n",
    "        dir_check(subsubsubdirectory) # checking the whole heirarchy is present if not creating it \n",
    "        with open(subsubsubdirectory+'\\\\'+id1+'.json','w') as outfile:\n",
    "            json.dump(businessdata[i],outfile)"
   ]
  },
  {
   "cell_type": "code",
   "execution_count": 270,
   "metadata": {
    "collapsed": true
   },
   "outputs": [],
   "source": [
    "with open('Other Files//countrydata.json','r') as file:\n",
    "    countrydata=json.load(file)"
   ]
  },
  {
   "cell_type": "code",
   "execution_count": 271,
   "metadata": {
    "collapsed": false
   },
   "outputs": [
    {
     "data": {
      "text/plain": [
       "{'1': 'India',\n",
       " '14': 'Australia',\n",
       " '148': 'New Zealand',\n",
       " '215': 'United Kingdom',\n",
       " '216': 'United States',\n",
       " '37': 'Canada',\n",
       " '97': 'Ireland'}"
      ]
     },
     "execution_count": 271,
     "metadata": {},
     "output_type": "execute_result"
    }
   ],
   "source": [
    "\n",
    "countrydata"
   ]
  },
  {
   "cell_type": "code",
   "execution_count": null,
   "metadata": {
    "collapsed": false
   },
   "outputs": [],
   "source": []
  },
  {
   "cell_type": "code",
   "execution_count": 272,
   "metadata": {
    "collapsed": false
   },
   "outputs": [],
   "source": [
    "citydata=[]\n",
    "zomdata=[]\n",
    "headers = {\n",
    "       'user-key': '79f964e9ee9f880892a36b813a83efdc'\n",
    "}\n",
    "citydata.append(requests.get('https://developers.zomato.com/api/v2.1/cities?q='+cityname,headers=headers).json())\n"
   ]
  },
  {
   "cell_type": "code",
   "execution_count": 273,
   "metadata": {
    "collapsed": false
   },
   "outputs": [
    {
     "data": {
      "text/plain": [
       "1"
      ]
     },
     "execution_count": 273,
     "metadata": {},
     "output_type": "execute_result"
    }
   ],
   "source": [
    "len(citydata)"
   ]
  },
  {
   "cell_type": "code",
   "execution_count": 274,
   "metadata": {
    "collapsed": false
   },
   "outputs": [],
   "source": [
    "count=0\n",
    "for i in range(len(citydata[0]['location_suggestions'])):\n",
    "    if(count<1):\n",
    "        if(citydata[0]['location_suggestions'][i]['country_name'].lower()==countryname.lower()):\n",
    "            if(',' in citydata[0]['location_suggestions'][i]['name']):\n",
    "                if(cityname==citydata[0]['location_suggestions'][i]['name'].split(',',1)[0]):\n",
    "                    cityid=citydata[0]['location_suggestions'][i]['id']\n",
    "                    count=count+1\n",
    "            elif(cityname==citydata[0]['location_suggestions'][i]['name']):\n",
    "                cityid=citydata[0]['location_suggestions'][i]['id']\n",
    "                count=count+1\n",
    "                \n",
    "    "
   ]
  },
  {
   "cell_type": "code",
   "execution_count": 275,
   "metadata": {
    "collapsed": false
   },
   "outputs": [
    {
     "data": {
      "text/plain": [
       "260"
      ]
     },
     "execution_count": 275,
     "metadata": {},
     "output_type": "execute_result"
    }
   ],
   "source": [
    "cityid"
   ]
  },
  {
   "cell_type": "code",
   "execution_count": null,
   "metadata": {
    "collapsed": false
   },
   "outputs": [],
   "source": []
  },
  {
   "cell_type": "code",
   "execution_count": null,
   "metadata": {
    "collapsed": false
   },
   "outputs": [],
   "source": []
  },
  {
   "cell_type": "code",
   "execution_count": null,
   "metadata": {
    "collapsed": false
   },
   "outputs": [],
   "source": []
  },
  {
   "cell_type": "code",
   "execution_count": null,
   "metadata": {
    "collapsed": false
   },
   "outputs": [],
   "source": []
  },
  {
   "cell_type": "code",
   "execution_count": null,
   "metadata": {
    "collapsed": false
   },
   "outputs": [],
   "source": []
  },
  {
   "cell_type": "code",
   "execution_count": null,
   "metadata": {
    "collapsed": false
   },
   "outputs": [],
   "source": []
  },
  {
   "cell_type": "code",
   "execution_count": 276,
   "metadata": {
    "collapsed": true
   },
   "outputs": [],
   "source": [
    "restaurantlist=[]\n",
    "for i in range(len(businessdata)):\n",
    "    restaurantlist.append(businessdata[i]['name'])"
   ]
  },
  {
   "cell_type": "code",
   "execution_count": 277,
   "metadata": {
    "collapsed": false
   },
   "outputs": [
    {
     "data": {
      "text/plain": [
       "['Mamak',\n",
       " \"Tetsuya's Restaurant\",\n",
       " 'Mr Wong',\n",
       " 'The Rook',\n",
       " 'Rockpool Bar & Grill',\n",
       " 'Din Tai Fung',\n",
       " 'Ribs & Burgers The Rocks',\n",
       " 'Happy Chef Seafood & Noodles Restaurant',\n",
       " 'Hunter & Barrel',\n",
       " 'Old Growler',\n",
       " 'Fish At The Rocks',\n",
       " 'Pendolino',\n",
       " 'Oiden',\n",
       " 'Mercado',\n",
       " 'Ippudo Sydney',\n",
       " \"Marlowe's Way\",\n",
       " 'The Meat & Wine Co',\n",
       " 'Home Thai Restaurant',\n",
       " 'Rabbit Hole Bar & Dining',\n",
       " 'Kafeine',\n",
       " 'Sepia',\n",
       " 'Saké',\n",
       " 'Bennelong',\n",
       " 'Vanto',\n",
       " 'Sydney Cove Oyster Bar',\n",
       " 'Restaurant Hubert',\n",
       " 'Chat Thai',\n",
       " 'Belly Bao',\n",
       " 'Postales',\n",
       " 'Bar Luca',\n",
       " 'Chophouse',\n",
       " 'Yayoi Teishoku Japanese Restaurant',\n",
       " 'Encasa',\n",
       " 'The Spice Room',\n",
       " 'Masala Bowl',\n",
       " 'Fix Wine Bar + Restaurant',\n",
       " 'O Bar and Dining',\n",
       " 'Sydney Madang Korean BBQ Restaurant',\n",
       " 'Redoak Boutique Beer Cafe',\n",
       " 'Menya Noodle Bar',\n",
       " 'Green Peppercorn',\n",
       " 'Made In Italy',\n",
       " 'YAYOI Garden',\n",
       " \"Jamie's Italian\",\n",
       " 'Contrabando',\n",
       " 'Berta',\n",
       " 'Malay Chinese Takeaway',\n",
       " \"Frankie's Pizza\",\n",
       " 'The Naked Duck',\n",
       " 'Chinese Noodle Restaurant',\n",
       " 'Twenty 8 Acres',\n",
       " 'Dae Jang Kum Korean BBQ',\n",
       " 'Neptune Palace Restaurant',\n",
       " 'Alpha Restaurant',\n",
       " 'Bar Tapavino',\n",
       " 'The Muglan',\n",
       " 'Holy Basil',\n",
       " 'ARIA Restaurant Sydney',\n",
       " 'Mr. Bao',\n",
       " 'Gowings Bar & Grill',\n",
       " 'New Shanghai',\n",
       " 'Ipoh on York',\n",
       " 'York Trading & Co.',\n",
       " 'Chefs Gallery Townhall',\n",
       " 'Yakiniku Gyuzo',\n",
       " 'Hot Star Large Fried Chicken',\n",
       " 'Pie Face',\n",
       " 'Ume Burger',\n",
       " 'Hacienda Sydney',\n",
       " 'Spice Temple',\n",
       " 'The Gantry Restaurant',\n",
       " 'Food on Five Food Court',\n",
       " 'Manjits',\n",
       " 'Yebisu Izakaya',\n",
       " 'Nok Nok Thai Eating House',\n",
       " 'Metropolitan Hotel',\n",
       " 'The Cross Eatery',\n",
       " 'Blaq Piq',\n",
       " 'Hakata-Maru Ramen',\n",
       " 'Burger Project',\n",
       " 'Condor Japanese Noodle Restaurant',\n",
       " 'Yama Japanese Cafe Restaurant',\n",
       " 'Sushi Boy Masaki',\n",
       " 'Pepper Lunch',\n",
       " 'BLACK Bar & Grill',\n",
       " 'Opera Kitchen',\n",
       " 'Prime Steak Restaurant',\n",
       " 'Drunken Rice',\n",
       " 'Barista & Cook',\n",
       " 'Searock Grill',\n",
       " 'Rice Workshop',\n",
       " 'Waterfront Restaurant',\n",
       " 'Nine Dragons Restaurant',\n",
       " 'Seawall Bar & Restaurant',\n",
       " 'Din Tai Fung Dumpling Bar',\n",
       " 'sushi e',\n",
       " 'Panzerotti Bar',\n",
       " 'Felix Bistro & Bar',\n",
       " 'Hawker',\n",
       " 'Glider',\n",
       " 'The Naughty Chef',\n",
       " 'Norsk Dor',\n",
       " 'Masuya Japanese Seafood Restaurant',\n",
       " 'Friggitoria',\n",
       " \"The Tea Room Gunners' Barracks\",\n",
       " 'Georges',\n",
       " 'Sydney Tower Sky Lounge',\n",
       " 'Popina',\n",
       " 'Medusa Greek Taverna',\n",
       " \"Hari's Vegetarian\",\n",
       " 'Tim Ho Wan',\n",
       " 'Indu',\n",
       " \"Nando's\",\n",
       " 'The Malaya Restaurant',\n",
       " 'Zeitgeist Cuisine',\n",
       " 'Primus Hotel Sydney',\n",
       " 'Hole In The Wall: Sandwich Factory',\n",
       " \"Uncle Ming's Bar\",\n",
       " \"Nick's Seafood Restaurant\",\n",
       " 'Ipoh Town',\n",
       " 'Braza Churrascaria',\n",
       " 'Cockle Bay Wharf',\n",
       " 'Gojima',\n",
       " 'Miso Japanese Restaurant',\n",
       " 'Chilli Cha Cha',\n",
       " 'The Hudson',\n",
       " 'Barrio Cellar',\n",
       " 'Dumpling Avenue',\n",
       " 'Sabbaba',\n",
       " 'Meat District Co.',\n",
       " 'Pancakes on the Rocks',\n",
       " 'D&B Dumplings and Beer',\n",
       " 'Ambar',\n",
       " 'Workshop Espresso',\n",
       " 'Long Chim Sydney',\n",
       " \"Grill'd Healthy Burgers\",\n",
       " 'The Grand Hotel',\n",
       " 'Feast Restaurant - Sheraton on the Park',\n",
       " 'Mezbah',\n",
       " 'Blackbird & Co Cafe',\n",
       " 'White Rabbit',\n",
       " 'The Malaya',\n",
       " '80 Proof',\n",
       " 'Umami',\n",
       " 'Vapiano',\n",
       " 'Suminoya Japanese Restaurant',\n",
       " 'Little Fish Shoppe',\n",
       " 'Bodhi Bar',\n",
       " 'est.',\n",
       " 'Fratelli Parlamento',\n",
       " 'Bambini Trust Cafe & Wine Room',\n",
       " 'Kingsleys Australian Steakhouse',\n",
       " 'Sakuratei Japanese Restaurant',\n",
       " 'Insomnia Kebab and Pizza',\n",
       " 'La Tapa Guapa',\n",
       " 'Celsius Coffee Co',\n",
       " 'The Tea Cosy',\n",
       " 'Méjico',\n",
       " 'BANG Street Food',\n",
       " 'Sydney Mint Cafe']"
      ]
     },
     "execution_count": 277,
     "metadata": {},
     "output_type": "execute_result"
    }
   ],
   "source": [
    "#for i in range(len(zomcitylistid)):\n",
    "restaurantlist   "
   ]
  },
  {
   "cell_type": "code",
   "execution_count": null,
   "metadata": {
    "collapsed": false
   },
   "outputs": [],
   "source": []
  },
  {
   "cell_type": "code",
   "execution_count": null,
   "metadata": {
    "collapsed": false
   },
   "outputs": [],
   "source": []
  },
  {
   "cell_type": "code",
   "execution_count": null,
   "metadata": {
    "collapsed": false
   },
   "outputs": [],
   "source": []
  },
  {
   "cell_type": "code",
   "execution_count": 197,
   "metadata": {
    "collapsed": false
   },
   "outputs": [
    {
     "data": {
      "text/plain": [
       "{'1': 'India',\n",
       " '14': 'Australia',\n",
       " '148': 'New Zealand',\n",
       " '215': 'United Kingdom',\n",
       " '216': 'United States',\n",
       " '37': 'Canada',\n",
       " '97': 'Ireland'}"
      ]
     },
     "execution_count": 197,
     "metadata": {},
     "output_type": "execute_result"
    }
   ],
   "source": [
    "countrydata"
   ]
  },
  {
   "cell_type": "code",
   "execution_count": 278,
   "metadata": {
    "collapsed": false
   },
   "outputs": [],
   "source": [
    "#for i in range(len(businessdata):\n",
    "resdata=[]\n",
    "for i in range(len(restaurantlist)):\n",
    "    resdata.append(requests.get('https://developers.zomato.com/api/v2.1/search?entity_type=city&entity_id='+str(cityid)+'&q='+restaurantlist[i],headers=headers).json())\n",
    "    time.sleep(0.3)"
   ]
  },
  {
   "cell_type": "code",
   "execution_count": 279,
   "metadata": {
    "collapsed": false
   },
   "outputs": [
    {
     "data": {
      "text/plain": [
       "160"
      ]
     },
     "execution_count": 279,
     "metadata": {},
     "output_type": "execute_result"
    }
   ],
   "source": [
    "len(resdata)"
   ]
  },
  {
   "cell_type": "code",
   "execution_count": 280,
   "metadata": {
    "collapsed": false
   },
   "outputs": [
    {
     "ename": "KeyError",
     "evalue": "'restaurants'",
     "output_type": "error",
     "traceback": [
      "\u001b[0;31m---------------------------------------------------------------------------\u001b[0m",
      "\u001b[0;31mKeyError\u001b[0m                                  Traceback (most recent call last)",
      "\u001b[0;32m<ipython-input-280-00ae4cf9160b>\u001b[0m in \u001b[0;36m<module>\u001b[0;34m()\u001b[0m\n\u001b[1;32m      1\u001b[0m \u001b[0mresdatasep\u001b[0m\u001b[1;33m=\u001b[0m\u001b[1;33m[\u001b[0m\u001b[1;33m]\u001b[0m\u001b[1;33m\u001b[0m\u001b[0m\n\u001b[1;32m      2\u001b[0m \u001b[1;32mfor\u001b[0m \u001b[0mi\u001b[0m \u001b[1;32min\u001b[0m \u001b[0mrange\u001b[0m\u001b[1;33m(\u001b[0m\u001b[0mlen\u001b[0m\u001b[1;33m(\u001b[0m\u001b[0mresdata\u001b[0m\u001b[1;33m)\u001b[0m\u001b[1;33m)\u001b[0m\u001b[1;33m:\u001b[0m\u001b[1;33m\u001b[0m\u001b[0m\n\u001b[0;32m----> 3\u001b[0;31m     \u001b[1;32mfor\u001b[0m \u001b[0mj\u001b[0m \u001b[1;32min\u001b[0m \u001b[0mrange\u001b[0m\u001b[1;33m(\u001b[0m\u001b[0mlen\u001b[0m\u001b[1;33m(\u001b[0m\u001b[0mresdata\u001b[0m\u001b[1;33m[\u001b[0m\u001b[0mi\u001b[0m\u001b[1;33m]\u001b[0m\u001b[1;33m[\u001b[0m\u001b[1;34m'restaurants'\u001b[0m\u001b[1;33m]\u001b[0m\u001b[1;33m)\u001b[0m\u001b[1;33m)\u001b[0m\u001b[1;33m:\u001b[0m\u001b[1;33m\u001b[0m\u001b[0m\n\u001b[0m\u001b[1;32m      4\u001b[0m         \u001b[0mresdatasep\u001b[0m\u001b[1;33m.\u001b[0m\u001b[0mappend\u001b[0m\u001b[1;33m(\u001b[0m\u001b[0mresdata\u001b[0m\u001b[1;33m[\u001b[0m\u001b[0mi\u001b[0m\u001b[1;33m]\u001b[0m\u001b[1;33m[\u001b[0m\u001b[1;34m'restaurants'\u001b[0m\u001b[1;33m]\u001b[0m\u001b[1;33m[\u001b[0m\u001b[0mj\u001b[0m\u001b[1;33m]\u001b[0m\u001b[1;33m)\u001b[0m\u001b[1;33m\u001b[0m\u001b[0m\n",
      "\u001b[0;31mKeyError\u001b[0m: 'restaurants'"
     ]
    }
   ],
   "source": [
    "resdatasep=[]\n",
    "for i in range(len(resdata)):\n",
    "    for j in range(len(resdata[i]['restaurants'])):\n",
    "        resdatasep.append(resdata[i]['restaurants'][j])"
   ]
  },
  {
   "cell_type": "code",
   "execution_count": 281,
   "metadata": {
    "collapsed": false
   },
   "outputs": [
    {
     "data": {
      "text/plain": [
       "66"
      ]
     },
     "execution_count": 281,
     "metadata": {},
     "output_type": "execute_result"
    }
   ],
   "source": [
    "len(resdatasep)"
   ]
  },
  {
   "cell_type": "code",
   "execution_count": 282,
   "metadata": {
    "collapsed": false
   },
   "outputs": [],
   "source": [
    "for i in range(len(resdatasep)):\n",
    "    cid=str(resdatasep[i]['restaurant']['location']['country_id'])\n",
    "    if(cid in countrydata.keys()):\n",
    "        resdatasep[i]['restaurant']['location']['country_name']=countrydata[cid]"
   ]
  },
  {
   "cell_type": "code",
   "execution_count": 283,
   "metadata": {
    "collapsed": true
   },
   "outputs": [],
   "source": [
    "def dir_check(file_path):\n",
    "    if not os.path.exists(file_path):\n",
    "        os.makedirs(file_path)"
   ]
  },
  {
   "cell_type": "code",
   "execution_count": 284,
   "metadata": {
    "collapsed": false
   },
   "outputs": [],
   "source": [
    "dataFolder='Data\\\\Zomato Data'\n",
    "for i in range(len(resdatasep)):\n",
    "    if('R' in resdatasep[i]['restaurant'].keys()):\n",
    "        country = resdatasep[i]['restaurant']['location']['country_name'] # finding the location key \n",
    "        city = resdatasep[i]['restaurant']['location']['city'] # finding the state key\n",
    "        zipcode = resdatasep[i]['restaurant']['location']['zipcode'] # finding the city key\n",
    "        id1=resdatasep[i]['restaurant']['id']\n",
    "        pricerange=resdatasep[i]['restaurant']['price_range']\n",
    "        id2='Price Range - '+str(pricerange)\n",
    "        directory = os.path.join(dataFolder + '\\\\' + country) \n",
    "        subdirectory = os.path.join(directory + '\\\\' + city) \n",
    "        if(zipcode!=\"\"):\n",
    "            subsubdirectory = os.path.join(subdirectory + '\\\\' + zipcode) # creating the path for city\n",
    "        else:\n",
    "            subsubdirectory = os.path.join(subdirectory + '\\\\' + 'No Zip code')\n",
    "        subsubsubdirectory = os.path.join(subsubdirectory + '\\\\' + id2) # creating the path for term\n",
    "        dir_check(subsubsubdirectory) # checking the whole heirarchy is present if not creating it \n",
    "        with open(subsubsubdirectory+'\\\\'+id1+'.json','w') as outfile:\n",
    "            json.dump(resdatasep[i],outfile)"
   ]
  },
  {
   "cell_type": "code",
   "execution_count": null,
   "metadata": {
    "collapsed": false
   },
   "outputs": [],
   "source": []
  },
  {
   "cell_type": "code",
   "execution_count": 285,
   "metadata": {
    "collapsed": false
   },
   "outputs": [],
   "source": [
    "#Collecting review\n",
    "resreviewsyelp=[]\n",
    "for i in range(len(dataid)):\n",
    "    resreviewsyelp.append(requests.get('https://api.yelp.com/v3/businesses/'+dataid[i]+'/reviews',headers=yelp_headers).json())"
   ]
  },
  {
   "cell_type": "code",
   "execution_count": 286,
   "metadata": {
    "collapsed": false
   },
   "outputs": [],
   "source": [
    "for i in range(len(resreviewsyelp)):\n",
    "    for j in range(len(resreviewsyelp[i]['reviews'])):\n",
    "        resreviewsyelp[i]['reviews'][j]['restaurant_id']=dataid[i]"
   ]
  },
  {
   "cell_type": "code",
   "execution_count": 287,
   "metadata": {
    "collapsed": false
   },
   "outputs": [],
   "source": [
    "def dir_check(file_path):\n",
    "    if not os.path.exists(file_path):\n",
    "        os.makedirs(file_path)"
   ]
  },
  {
   "cell_type": "code",
   "execution_count": 288,
   "metadata": {
    "collapsed": false
   },
   "outputs": [],
   "source": [
    "dataFolder='Data\\\\Yelp Data Reviews'\n",
    "for i in range(len(businessdata)):\n",
    "    location = businessdata[i]['location'] # finding the location key \n",
    "    term = businessdata[i]['term'] # finding the term key\n",
    "    country = businessdata[i]['location']['country'] # finding the country key\n",
    "    state = businessdata[i]['location']['state'] # finding the state key\n",
    "    city = businessdata[i]['location']['city'] # finding the city key\n",
    "    id1=businessdata[i]['id']\n",
    "    for j in range(len(dataid)):\n",
    "        if(dataid[j]==id1):\n",
    "            directory = os.path.join(dataFolder + '\\\\' + country) # creating the path for country\n",
    "            subdirectory = os.path.join(directory + '\\\\' + state) # creating the path for state\n",
    "            subsubdirectory = os.path.join(subdirectory + '\\\\' + city) # creating the path for city\n",
    "            subsubsubdirectory = os.path.join(subsubdirectory + '\\\\' + id1) # creating the path for term\n",
    "            dir_check(subsubsubdirectory) # checking the whole heirarchy is present if not creating it \n",
    "            resrev=resreviewsyelp[j]\n",
    "            for k in range(len(resrev['reviews'])):\n",
    "                if('text' in resrev['reviews'][k].keys()):\n",
    "                    time=resrev['reviews'][k]['time_created'][0:10]\n",
    "                    with open(subsubsubdirectory+'\\\\'+'review'+'-'+str(k+1)+'-'+time+'.json','w') as outfile:\n",
    "                        json.dump(resrev['reviews'][k],outfile)"
   ]
  },
  {
   "cell_type": "code",
   "execution_count": null,
   "metadata": {
    "collapsed": false
   },
   "outputs": [],
   "source": []
  },
  {
   "cell_type": "code",
   "execution_count": null,
   "metadata": {
    "collapsed": true
   },
   "outputs": [],
   "source": []
  }
 ],
 "metadata": {
  "anaconda-cloud": {},
  "kernelspec": {
   "display_name": "Python [conda root]",
   "language": "python",
   "name": "conda-root-py"
  },
  "language_info": {
   "codemirror_mode": {
    "name": "ipython",
    "version": 3
   },
   "file_extension": ".py",
   "mimetype": "text/x-python",
   "name": "python",
   "nbconvert_exporter": "python",
   "pygments_lexer": "ipython3",
   "version": "3.5.2"
  }
 },
 "nbformat": 4,
 "nbformat_minor": 1
}
