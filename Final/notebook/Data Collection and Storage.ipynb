{
 "cells": [
  {
   "cell_type": "markdown",
   "metadata": {},
   "source": [
    "<H2>DATA COLLECTION</H2>"
   ]
  },
  {
   "cell_type": "markdown",
   "metadata": {},
   "source": [
    "<H3>Yelp Data Collection</H3>"
   ]
  },
  {
   "cell_type": "code",
   "execution_count": 4,
   "metadata": {
    "collapsed": false
   },
   "outputs": [],
   "source": [
    "import requests\n",
    "from requests_oauthlib import OAuth1\n",
    "import argparse\n",
    "import urllib.request,json\n",
    "import datetime\n",
    "import requests\n",
    "import os\n",
    "import pandas as pd"
   ]
  },
  {
   "cell_type": "code",
   "execution_count": 6,
   "metadata": {
    "collapsed": false
   },
   "outputs": [],
   "source": [
    "uauth = OAuth1('CQ0SBNGlDITRbkw2PM84Ug', '7RVaHKptMjqId0CaOSIS_5mnW84',\n",
    "                  'WmOCoc8PHkdfsDOWv7vnVD2fiOTkstxO', '_yYDR4Kh2qq0tsup11JfS9xzxqU')\n",
    "\n",
    "ua=OAuth1('WmOCoc8PHkdfsDOWv7vnVD2fiOTkstxO')\n",
    "\n",
    "#requests.get('https://api.yelp.com/oauth2/token',auth=uauth).json()\n",
    "\n",
    "#Getting bearer token\n",
    "data = urllib.parse.urlencode({\n",
    "'client_id' : '92p07_JjKyriZTQxAXRiKQ',\n",
    "'client_secret': 'xJgWoUoy6Y3tGvykSYpi1EmndMnp0Z6TjNiUdhema3e2fyKnXFiOEbiVfhkvIiRA',\n",
    "        'grant_type'  : 'client_credentials',\n",
    "})\n",
    "yelp_headers = {\n",
    "     'content-type': 'application/x-www-form-urlencoded',\n",
    " }\n",
    "response = requests.request('POST', 'https://api.yelp.com/oauth2/token', data=data, headers=yelp_headers)\n",
    "bearer_token = response.json()['access_token']\n",
    "\n",
    "#Token\n",
    "yelp_headers = {\n",
    "       'Authorization': 'Bearer %s' % bearer_token\n",
    "}"
   ]
  },
  {
   "cell_type": "code",
   "execution_count": 1,
   "metadata": {
    "collapsed": false
   },
   "outputs": [
    {
     "name": "stdout",
     "output_type": "stream",
     "text": [
      "Enter your city nameTampa\n"
     ]
    }
   ],
   "source": [
    "location=input(\"Enter your city name\")"
   ]
  },
  {
   "cell_type": "code",
   "execution_count": 2,
   "metadata": {
    "collapsed": false
   },
   "outputs": [
    {
     "name": "stdout",
     "output_type": "stream",
     "text": [
      "Enter your country nameUnited States\n"
     ]
    }
   ],
   "source": [
    "countryname=input(\"Enter your country name\")"
   ]
  },
  {
   "cell_type": "code",
   "execution_count": 7,
   "metadata": {
    "collapsed": false
   },
   "outputs": [],
   "source": [
    "resultdata =[]\n",
    "offset=0\n",
    "cityname=location\n",
    "for i in range(1,3):\n",
    "    resultdata.append(requests.get('https://api.yelp.com/v2/search?term=restaurants&location='+location+'&limit=40&offset='+str(offset),auth=uauth,headers=yelp_headers).json())\n",
    "    offset=offset+40"
   ]
  },
  {
   "cell_type": "code",
   "execution_count": 246,
   "metadata": {
    "collapsed": false
   },
   "outputs": [],
   "source": [
    "data=[]\n",
    "dataid=[]\n",
    "businessdata=[]\n",
    "term='restaurants'\n",
    "for i in range(len(resultdata)):\n",
    "    for j in range(len(resultdata[i]['businesses'])):\n",
    "           data.append(resultdata[i]['businesses'][j])"
   ]
  },
  {
   "cell_type": "code",
   "execution_count": 247,
   "metadata": {
    "collapsed": false
   },
   "outputs": [],
   "source": [
    "for i in range(len(data)):\n",
    "    dataid.append(data[i]['id'])"
   ]
  },
  {
   "cell_type": "code",
   "execution_count": 248,
   "metadata": {
    "collapsed": false
   },
   "outputs": [],
   "source": [
    "import time\n",
    "for i in range(len(dataid)):\n",
    "    response=requests.get('https://api.yelp.com/v3/businesses/'+dataid[i],headers=yelp_headers)\n",
    "    try:\n",
    "        responses=response.json()\n",
    "        businessdata.append(responses)\n",
    "        time.sleep(0.3)\n",
    "        # ...\n",
    "    except ValueError:\n",
    "        print('Json Decode error - handled')"
   ]
  },
  {
   "cell_type": "code",
   "execution_count": 249,
   "metadata": {
    "collapsed": false
   },
   "outputs": [
    {
     "data": {
      "text/plain": [
       "80"
      ]
     },
     "execution_count": 249,
     "metadata": {},
     "output_type": "execute_result"
    }
   ],
   "source": [
    "len(businessdata)"
   ]
  },
  {
   "cell_type": "code",
   "execution_count": 250,
   "metadata": {
    "collapsed": true
   },
   "outputs": [],
   "source": [
    "for i in range(len(businessdata)):\n",
    "    businessdata[i]['term']='restaurants'"
   ]
  },
  {
   "cell_type": "code",
   "execution_count": null,
   "metadata": {
    "collapsed": false
   },
   "outputs": [],
   "source": []
  },
  {
   "cell_type": "code",
   "execution_count": 251,
   "metadata": {
    "collapsed": true
   },
   "outputs": [],
   "source": [
    "def dir_check(file_path):\n",
    "    if not os.path.exists(file_path):\n",
    "        os.makedirs(file_path)"
   ]
  },
  {
   "cell_type": "code",
   "execution_count": 252,
   "metadata": {
    "collapsed": false
   },
   "outputs": [],
   "source": [
    "dataFolder='Data\\\\Yelp Data'\n",
    "for i in range(len(businessdata)):\n",
    "    if('name' in businessdata[i].keys()):\n",
    "        location = businessdata[i]['location'] # finding the location key \n",
    "        term = businessdata[i]['term'] # finding the term key\n",
    "        country = businessdata[i]['location']['country'] # finding the country key\n",
    "        state = businessdata[i]['location']['state'] # finding the state key\n",
    "        city = businessdata[i]['location']['city'] # finding the city key\n",
    "        id1=businessdata[i]['id']\n",
    "        directory = os.path.join(dataFolder + '\\\\' + country) # creating the path for country\n",
    "        subdirectory = os.path.join(directory + '\\\\' + state) # creating the path for state\n",
    "        subsubdirectory = os.path.join(subdirectory + '\\\\' + city) # creating the path for city\n",
    "        subsubsubdirectory = os.path.join(subsubdirectory + '\\\\' + term) # creating the path for term\n",
    "        dir_check(subsubsubdirectory) # checking the whole heirarchy is present if not creating it \n",
    "        with open(subsubsubdirectory+'\\\\'+id1+'.json','w') as outfile:\n",
    "            json.dump(businessdata[i],outfile)"
   ]
  },
  {
   "cell_type": "code",
   "execution_count": 253,
   "metadata": {
    "collapsed": true
   },
   "outputs": [],
   "source": [
    "with open('Other Files//countrydata.json','r') as file:\n",
    "    countrydata=json.load(file)"
   ]
  },
  {
   "cell_type": "code",
   "execution_count": 254,
   "metadata": {
    "collapsed": false
   },
   "outputs": [
    {
     "data": {
      "text/plain": [
       "{'1': 'India',\n",
       " '14': 'Australia',\n",
       " '148': 'New Zealand',\n",
       " '215': 'United Kingdom',\n",
       " '216': 'United States',\n",
       " '37': 'Canada',\n",
       " '97': 'Ireland'}"
      ]
     },
     "execution_count": 254,
     "metadata": {},
     "output_type": "execute_result"
    }
   ],
   "source": [
    "\n",
    "countrydata"
   ]
  },
  {
   "cell_type": "code",
   "execution_count": null,
   "metadata": {
    "collapsed": false
   },
   "outputs": [],
   "source": []
  },
  {
   "cell_type": "code",
   "execution_count": 255,
   "metadata": {
    "collapsed": false
   },
   "outputs": [],
   "source": [
    "citydata=[]\n",
    "zomdata=[]\n",
    "headers = {\n",
    "       'user-key': 'd8c8fdcd1f3889c1d199340258ad5cc6'\n",
    "}\n",
    "citydata.append(requests.get('https://developers.zomato.com/api/v2.1/cities?q='+cityname,headers=headers).json())\n"
   ]
  },
  {
   "cell_type": "code",
   "execution_count": 256,
   "metadata": {
    "collapsed": false
   },
   "outputs": [
    {
     "data": {
      "text/plain": [
       "1"
      ]
     },
     "execution_count": 256,
     "metadata": {},
     "output_type": "execute_result"
    }
   ],
   "source": [
    "len(citydata)"
   ]
  },
  {
   "cell_type": "code",
   "execution_count": 257,
   "metadata": {
    "collapsed": false
   },
   "outputs": [],
   "source": [
    "count=0\n",
    "for i in range(len(citydata[0]['location_suggestions'])):\n",
    "    if(count<1):\n",
    "        if(citydata[0]['location_suggestions'][i]['country_name'].lower()==countryname.lower()):\n",
    "            if(',' in citydata[0]['location_suggestions'][i]['name']):\n",
    "                if(cityname==citydata[0]['location_suggestions'][i]['name'].split(',',1)[0]):\n",
    "                    cityid=citydata[0]['location_suggestions'][i]['id']\n",
    "                    count=count+1\n",
    "            elif(cityname==citydata[0]['location_suggestions'][i]['name']):\n",
    "                cityid=citydata[0]['location_suggestions'][i]['id']\n",
    "                count=count+1\n",
    "                \n",
    "    "
   ]
  },
  {
   "cell_type": "code",
   "execution_count": 258,
   "metadata": {
    "collapsed": false
   },
   "outputs": [
    {
     "data": {
      "text/plain": [
       "294"
      ]
     },
     "execution_count": 258,
     "metadata": {},
     "output_type": "execute_result"
    }
   ],
   "source": [
    "cityid"
   ]
  },
  {
   "cell_type": "code",
   "execution_count": null,
   "metadata": {
    "collapsed": false
   },
   "outputs": [],
   "source": []
  },
  {
   "cell_type": "code",
   "execution_count": null,
   "metadata": {
    "collapsed": false
   },
   "outputs": [],
   "source": []
  },
  {
   "cell_type": "code",
   "execution_count": 259,
   "metadata": {
    "collapsed": true
   },
   "outputs": [],
   "source": [
    "restaurantlist=[]\n",
    "for i in range(len(businessdata)):\n",
    "    restaurantlist.append(businessdata[i]['name'])"
   ]
  },
  {
   "cell_type": "code",
   "execution_count": 260,
   "metadata": {
    "collapsed": false
   },
   "outputs": [
    {
     "data": {
      "text/plain": [
       "['Rooster & the Till',\n",
       " 'On Swann',\n",
       " \"Loli's Mexican Cravings\",\n",
       " 'Ulele',\n",
       " 'Chop Chop Shop',\n",
       " 'Yah Mon',\n",
       " 'Happy Fish',\n",
       " 'The Big Easy',\n",
       " 'Columbia Restaurant',\n",
       " 'The Refinery',\n",
       " 'Oxford Exchange',\n",
       " 'Edison: Food+drink Lab',\n",
       " 'Ichicoro Ramen',\n",
       " \"Cooper's Hawk\",\n",
       " 'Xtreme Tacos',\n",
       " \"Bern's Steak House\",\n",
       " \"Rubio's Coastal Grill\",\n",
       " 'Anise Global Gastrobar',\n",
       " 'Boca',\n",
       " 'Oggi Italian Street Food',\n",
       " 'Oystercatchers',\n",
       " 'Tampa Bay Brewing Company',\n",
       " 'Noble Rice',\n",
       " '1823 Kitchen & Bar',\n",
       " 'Mermaid Tavern',\n",
       " 'Above The Salt Cafe',\n",
       " 'Ox and Fields',\n",
       " 'Bernini Restaurant',\n",
       " 'La Terrazza Ristorante Italiano',\n",
       " \"Big Ray's Fish Camp\",\n",
       " 'Cena',\n",
       " 'Noodle Kitchen and Market',\n",
       " 'Hattricks',\n",
       " \"Ella's Americana Folk Art Cafe\",\n",
       " 'Bartaco',\n",
       " 'The Bricks of Ybor',\n",
       " 'Los Comparres',\n",
       " 'Fodder & Shine',\n",
       " 'Ybor Eats',\n",
       " 'Sacred Pepper',\n",
       " 'Konan BBQ',\n",
       " 'Rusty Pelican',\n",
       " 'The Independent',\n",
       " 'Osteria Natalina',\n",
       " \"Doc B's Fresh Kitchen\",\n",
       " 'Datz',\n",
       " 'Columbia Cafe on the Tampa Riverwalk',\n",
       " 'Mangú Latin Café',\n",
       " 'Hotel Bar',\n",
       " \"AJ's Press\",\n",
       " 'El Puerto Argentinean Grill',\n",
       " 'Fabrica Woodfired Pizza',\n",
       " 'Besito Mexican Restaurant',\n",
       " 'Fresh Kitchen',\n",
       " 'Taps Restaurant Bar & Lounge',\n",
       " 'Franklin Manor',\n",
       " 'Asiatic Street Food & Noodle Bar',\n",
       " 'Thai Prime Kitchen & Bar',\n",
       " 'Piccola Italia Bistro',\n",
       " \"Zeko's\",\n",
       " 'Ciccio Cali',\n",
       " 'Bazille',\n",
       " \"Mother's\",\n",
       " \"Ciro's Speakeasy and Supper Club\",\n",
       " 'SoFresh',\n",
       " 'Paninoteca',\n",
       " 'Yummy Chicken',\n",
       " 'Pane Rustica',\n",
       " 'The Front Porch Bar & Grill',\n",
       " 'La Mansion de La Arepa',\n",
       " 'Mise En Place',\n",
       " 'Waterside Grill',\n",
       " 'Bahama Breeze',\n",
       " 'Tostones',\n",
       " \"Yeoman's Cask & Lion\",\n",
       " \"Armani's\",\n",
       " 'Haven',\n",
       " 'Fresh Bites',\n",
       " \"Eddie V's Prime Seafood and Steak\",\n",
       " 'Old Heights Bistro']"
      ]
     },
     "execution_count": 260,
     "metadata": {},
     "output_type": "execute_result"
    }
   ],
   "source": [
    "#for i in range(len(zomcitylistid)):\n",
    "restaurantlist   "
   ]
  },
  {
   "cell_type": "code",
   "execution_count": null,
   "metadata": {
    "collapsed": false
   },
   "outputs": [],
   "source": []
  },
  {
   "cell_type": "code",
   "execution_count": null,
   "metadata": {
    "collapsed": false
   },
   "outputs": [],
   "source": []
  },
  {
   "cell_type": "code",
   "execution_count": null,
   "metadata": {
    "collapsed": false
   },
   "outputs": [],
   "source": []
  },
  {
   "cell_type": "code",
   "execution_count": 261,
   "metadata": {
    "collapsed": false
   },
   "outputs": [
    {
     "data": {
      "text/plain": [
       "{'1': 'India',\n",
       " '14': 'Australia',\n",
       " '148': 'New Zealand',\n",
       " '215': 'United Kingdom',\n",
       " '216': 'United States',\n",
       " '37': 'Canada',\n",
       " '97': 'Ireland'}"
      ]
     },
     "execution_count": 261,
     "metadata": {},
     "output_type": "execute_result"
    }
   ],
   "source": [
    "countrydata"
   ]
  },
  {
   "cell_type": "code",
   "execution_count": 262,
   "metadata": {
    "collapsed": false
   },
   "outputs": [],
   "source": [
    "#for i in range(len(businessdata):\n",
    "resdata=[]\n",
    "for i in range(len(restaurantlist)):\n",
    "    resdata.append(requests.get('https://developers.zomato.com/api/v2.1/search?entity_type=city&entity_id='+str(cityid)+'&q='+restaurantlist[i],headers=headers).json())\n",
    "    time.sleep(0.3)"
   ]
  },
  {
   "cell_type": "code",
   "execution_count": 263,
   "metadata": {
    "collapsed": false
   },
   "outputs": [
    {
     "data": {
      "text/plain": [
       "80"
      ]
     },
     "execution_count": 263,
     "metadata": {},
     "output_type": "execute_result"
    }
   ],
   "source": [
    "len(resdata)"
   ]
  },
  {
   "cell_type": "code",
   "execution_count": 264,
   "metadata": {
    "collapsed": false
   },
   "outputs": [],
   "source": [
    "resdatasep=[]\n",
    "for i in range(len(resdata)):\n",
    "    for j in range(len(resdata[i]['restaurants'])):\n",
    "        resdatasep.append(resdata[i]['restaurants'][j])"
   ]
  },
  {
   "cell_type": "code",
   "execution_count": 265,
   "metadata": {
    "collapsed": false
   },
   "outputs": [
    {
     "data": {
      "text/plain": [
       "679"
      ]
     },
     "execution_count": 265,
     "metadata": {},
     "output_type": "execute_result"
    }
   ],
   "source": [
    "len(resdatasep)"
   ]
  },
  {
   "cell_type": "code",
   "execution_count": 266,
   "metadata": {
    "collapsed": false
   },
   "outputs": [],
   "source": [
    "for i in range(len(resdatasep)):\n",
    "    cid=str(resdatasep[i]['restaurant']['location']['country_id'])\n",
    "    if(cid in countrydata.keys()):\n",
    "        resdatasep[i]['restaurant']['location']['country_name']=countrydata[cid]"
   ]
  },
  {
   "cell_type": "code",
   "execution_count": 267,
   "metadata": {
    "collapsed": true
   },
   "outputs": [],
   "source": [
    "def dir_check(file_path):\n",
    "    if not os.path.exists(file_path):\n",
    "        os.makedirs(file_path)"
   ]
  },
  {
   "cell_type": "code",
   "execution_count": 268,
   "metadata": {
    "collapsed": false
   },
   "outputs": [],
   "source": [
    "dataFolder='Data\\\\Zomato Data'\n",
    "for i in range(len(resdatasep)):\n",
    "    if('R' in resdatasep[i]['restaurant'].keys()):\n",
    "        country = resdatasep[i]['restaurant']['location']['country_name'] # finding the location key \n",
    "        city = resdatasep[i]['restaurant']['location']['city'] # finding the state key\n",
    "        zipcode = resdatasep[i]['restaurant']['location']['zipcode'] # finding the city key\n",
    "        id1=resdatasep[i]['restaurant']['id']\n",
    "        pricerange=resdatasep[i]['restaurant']['price_range']\n",
    "        id2='Price Range - '+str(pricerange)\n",
    "        directory = os.path.join(dataFolder + '\\\\' + country) \n",
    "        subdirectory = os.path.join(directory + '\\\\' + city) \n",
    "        if(zipcode!=\"\"):\n",
    "            subsubdirectory = os.path.join(subdirectory + '\\\\' + zipcode) # creating the path for city\n",
    "        else:\n",
    "            subsubdirectory = os.path.join(subdirectory + '\\\\' + 'No Zip code')\n",
    "        subsubsubdirectory = os.path.join(subsubdirectory + '\\\\' + id2) # creating the path for term\n",
    "        dir_check(subsubsubdirectory) # checking the whole heirarchy is present if not creating it \n",
    "        with open(subsubsubdirectory+'\\\\'+id1+'.json','w') as outfile:\n",
    "            json.dump(resdatasep[i],outfile)"
   ]
  },
  {
   "cell_type": "code",
   "execution_count": null,
   "metadata": {
    "collapsed": false
   },
   "outputs": [],
   "source": []
  },
  {
   "cell_type": "code",
   "execution_count": 269,
   "metadata": {
    "collapsed": false
   },
   "outputs": [],
   "source": [
    "#Collecting review\n",
    "resreviewsyelp=[]\n",
    "for i in range(len(dataid)):\n",
    "    resreviewsyelp.append(requests.get('https://api.yelp.com/v3/businesses/'+dataid[i]+'/reviews',headers=yelp_headers).json())"
   ]
  },
  {
   "cell_type": "code",
   "execution_count": 270,
   "metadata": {
    "collapsed": false
   },
   "outputs": [],
   "source": [
    "for i in range(len(resreviewsyelp)):\n",
    "    for j in range(len(resreviewsyelp[i]['reviews'])):\n",
    "        resreviewsyelp[i]['reviews'][j]['restaurant_id']=dataid[i]"
   ]
  },
  {
   "cell_type": "code",
   "execution_count": 271,
   "metadata": {
    "collapsed": false
   },
   "outputs": [],
   "source": [
    "def dir_check(file_path):\n",
    "    if not os.path.exists(file_path):\n",
    "        os.makedirs(file_path)"
   ]
  },
  {
   "cell_type": "code",
   "execution_count": 272,
   "metadata": {
    "collapsed": false
   },
   "outputs": [],
   "source": [
    "dataFolder='Data\\\\Yelp Data Reviews'\n",
    "for i in range(len(businessdata)):\n",
    "    location = businessdata[i]['location'] # finding the location key \n",
    "    term = businessdata[i]['term'] # finding the term key\n",
    "    country = businessdata[i]['location']['country'] # finding the country key\n",
    "    state = businessdata[i]['location']['state'] # finding the state key\n",
    "    city = businessdata[i]['location']['city'] # finding the city key\n",
    "    id1=businessdata[i]['id']\n",
    "    for j in range(len(dataid)):\n",
    "        if(dataid[j]==id1):\n",
    "            directory = os.path.join(dataFolder + '\\\\' + country) # creating the path for country\n",
    "            subdirectory = os.path.join(directory + '\\\\' + state) # creating the path for state\n",
    "            subsubdirectory = os.path.join(subdirectory + '\\\\' + city) # creating the path for city\n",
    "            subsubsubdirectory = os.path.join(subsubdirectory + '\\\\' + id1) # creating the path for term\n",
    "            dir_check(subsubsubdirectory) # checking the whole heirarchy is present if not creating it \n",
    "            resrev=resreviewsyelp[j]\n",
    "            for k in range(len(resrev['reviews'])):\n",
    "                if('text' in resrev['reviews'][k].keys()):\n",
    "                    time=resrev['reviews'][k]['time_created'][0:10]\n",
    "                    with open(subsubsubdirectory+'\\\\'+'review'+'-'+str(k+1)+'-'+time+'.json','w') as outfile:\n",
    "                        json.dump(resrev['reviews'][k],outfile)"
   ]
  },
  {
   "cell_type": "code",
   "execution_count": null,
   "metadata": {
    "collapsed": false
   },
   "outputs": [],
   "source": []
  },
  {
   "cell_type": "code",
   "execution_count": 274,
   "metadata": {
    "collapsed": true
   },
   "outputs": [],
   "source": [
    "path='Data\\\\Yelp Data'\n",
    "yelppath = [os.path.join(root, name)\n",
    "            for root, dirs, files in os.walk(path)\n",
    "            for name in files\n",
    "            if name.endswith((\".json\", \".jsons\"))]"
   ]
  },
  {
   "cell_type": "code",
   "execution_count": 276,
   "metadata": {
    "collapsed": false
   },
   "outputs": [],
   "source": [
    "data=[]\n",
    "for js in yelppath:\n",
    "    with open(js) as json_file:\n",
    "        data.append(json.load(json_file))"
   ]
  },
  {
   "cell_type": "code",
   "execution_count": 282,
   "metadata": {
    "collapsed": false
   },
   "outputs": [],
   "source": [
    "mrow=[]\n",
    "mrow.append('id,name,review_count,price,is_closed,latitude,longitude,city,state,zip_code,country,rating,phone,term,image\\n')\n",
    "for i in range(len(data)):\n",
    "    if data[i].get(\"price\",'none')!='none':\n",
    "        mrow.append(str(data[i]['id'])+','+str(data[i]['name'].replace(',',''))+','+str(data[i]['review_count'])+','+str(data[i]['price'])+','+str(data[i]['is_closed'])+','+str(data[i]['coordinates']['latitude'])+','+str(data[i]['coordinates']['longitude'])+','+str(data[i]['location']['city'])+','+str(data[i]['location']['state'])+','+str(data[i]['location']['zip_code'])+','+str(data[i]['location']['country'])+','+str(data[i]['rating'])+','+str(data[i]['phone'])+','+str(data[i]['term'])+','+str(data[i]['image_url'])+'\\n')\n",
    "    else:\n",
    "        mrow.append(str(data[i]['id'])+','+str(data[i]['name'].replace(',',''))+','+str(data[i]['review_count'])+','+str('N/A')+','+str(data[i]['is_closed'])+','+str(data[i]['coordinates']['latitude'])+','+str(data[i]['coordinates']['longitude'])+','+str(data[i]['location']['city'])+','+str(data[i]['location']['state'])+','+str(data[i]['location']['zip_code'])+','+str(data[i]['location']['country'])+','+str(data[i]['rating'])+','+str(data[i]['phone'])+','+str(data[i]['term'])+','+str(data[i]['image_url'])+'\\n')"
   ]
  },
  {
   "cell_type": "code",
   "execution_count": 283,
   "metadata": {
    "collapsed": true
   },
   "outputs": [],
   "source": [
    "import csv\n",
    "#import unicode_literals\n",
    "with open('Other Files\\\\YelpData.csv', 'w',encoding='utf-8') as csv_file:\n",
    "    for a in mrow:\n",
    "        csv_file.write(a)"
   ]
  },
  {
   "cell_type": "code",
   "execution_count": 288,
   "metadata": {
    "collapsed": false
   },
   "outputs": [],
   "source": [
    "pathzom='Data\\\\Zomato Data'\n",
    "zompath = [os.path.join(root, name)\n",
    "            for root, dirs, files in os.walk(pathzom)\n",
    "            for name in files\n",
    "            if name.endswith((\".json\", \".jsons\"))]\n",
    "\n",
    "datazom=[]\n",
    "for js in zompath:\n",
    "    with open(js) as json_file:\n",
    "        datazom.append(json.load(json_file))"
   ]
  },
  {
   "cell_type": "code",
   "execution_count": 307,
   "metadata": {
    "collapsed": false
   },
   "outputs": [
    {
     "data": {
      "text/plain": [
       "11653"
      ]
     },
     "execution_count": 307,
     "metadata": {},
     "output_type": "execute_result"
    }
   ],
   "source": []
  },
  {
   "cell_type": "code",
   "execution_count": 308,
   "metadata": {
    "collapsed": true
   },
   "outputs": [],
   "source": [
    "mrow=[]\n",
    "mrow.append('id,name,city,country,latitude,longitude,zip_code,price_range,rest_rating,rating_text,votes,image\\n')\n",
    "for i in range(len(datazom)):\n",
    "    #if data[i]['restaurant'].get(\"price_range\",'none')!='none':\n",
    "    mrow.append(str(datazom[i]['restaurant']['id'])+','+str(datazom[i]['restaurant']['name'].replace(',',''))+','+str(datazom[i]['restaurant']['location']['city'])+','+str(datazom[i]['restaurant']['location']['country_name'])+','+str(datazom[i]['restaurant']['location']['latitude'])+','+str(datazom[i]['restaurant']['location']['longitude'])+','+str(datazom[i]['restaurant']['location']['zipcode'])+','+str(datazom[i]['restaurant']['price_range'])+','+str(datazom[i]['restaurant']['user_rating']['aggregate_rating'])+','+str(datazom[i]['restaurant']['user_rating']['rating_text'])+','+str(datazom[i]['restaurant']['user_rating']['votes'])+','+str(datazom[i]['restaurant']['thumb'])+'\\n')\n",
    "    "
   ]
  },
  {
   "cell_type": "code",
   "execution_count": 309,
   "metadata": {
    "collapsed": true
   },
   "outputs": [],
   "source": [
    "import csv\n",
    "#import unicode_literals\n",
    "with open('Other Files\\\\ZomatoData.csv', 'w',encoding='utf-8') as csv_file:\n",
    "    for a in mrow:\n",
    "        csv_file.write(a)"
   ]
  },
  {
   "cell_type": "code",
   "execution_count": 3,
   "metadata": {
    "collapsed": false
   },
   "outputs": [],
   "source": [
    "path='Data\\\\Yelp Data'\n",
    "yelppath = [os.path.join(root, name)\n",
    "            for root, dirs, files in os.walk(path)\n",
    "            for name in files\n",
    "            if name.endswith((\".json\", \".jsons\"))]"
   ]
  },
  {
   "cell_type": "code",
   "execution_count": 4,
   "metadata": {
    "collapsed": true
   },
   "outputs": [],
   "source": [
    "data=[]\n",
    "for js in yelppath:\n",
    "    with open(js) as json_file:\n",
    "        data.append(json.load(json_file))"
   ]
  },
  {
   "cell_type": "code",
   "execution_count": 18,
   "metadata": {
    "collapsed": false
   },
   "outputs": [],
   "source": [
    "rowcategory=[]\n",
    "rowcategory.append('id,city,title,alias\\n')\n",
    "for i in range(len(data)):\n",
    "    idval=data[i]['id']\n",
    "    location=data[i]['location']['city']\n",
    "    if 'categories' in data[i].keys():\n",
    "            for j in range(len(data[i]['categories'])):\n",
    "                    title=data[i]['categories'][j]['title'].replace(',','')\n",
    "                    alias=data[i]['categories'][j]['alias'].replace(',','')\n",
    "                    rowcategory.append(str(idval)+','+str(location)+','+str(title)+','+str(alias)+'\\n')\n",
    "\n",
    "with open('Other Files\\\\RestaurantCategory.csv', 'w',encoding='utf-8') as csv_file:\n",
    "    for a in rowcategory:\n",
    "        csv_file.write(a)"
   ]
  },
  {
   "cell_type": "code",
   "execution_count": 16,
   "metadata": {
    "collapsed": false
   },
   "outputs": [
    {
     "data": {
      "text/plain": [
       "{'address1': '561 George St',\n",
       " 'address2': 'Beneath Cheers',\n",
       " 'address3': '',\n",
       " 'city': 'Sydney',\n",
       " 'country': 'AU',\n",
       " 'cross_streets': '',\n",
       " 'display_address': ['561 George St',\n",
       "  'Beneath Cheers',\n",
       "  'Sydney New South Wales 2000',\n",
       "  'Australia'],\n",
       " 'state': 'NSW',\n",
       " 'zip_code': '2000'}"
      ]
     },
     "execution_count": 16,
     "metadata": {},
     "output_type": "execute_result"
    }
   ],
   "source": [
    "data[0]['location']"
   ]
  },
  {
   "cell_type": "code",
   "execution_count": 8,
   "metadata": {
    "collapsed": true
   },
   "outputs": [],
   "source": [
    "pathzom='Data\\\\Zomato Data'\n",
    "zompath = [os.path.join(root, name)\n",
    "            for root, dirs, files in os.walk(pathzom)\n",
    "            for name in files\n",
    "            if name.endswith((\".json\", \".jsons\"))]\n",
    "\n",
    "datazom=[]\n",
    "for js in zompath:\n",
    "    with open(js) as json_file:\n",
    "        datazom.append(json.load(json_file))"
   ]
  },
  {
   "cell_type": "code",
   "execution_count": 13,
   "metadata": {
    "collapsed": false
   },
   "outputs": [],
   "source": [
    "rowcategory=[]\n",
    "rowcategory.append('id,title\\n')\n",
    "for i in range(len(datazom)):\n",
    "    resid=datazom[i]['restaurant']['id']\n",
    "    cuisines=datazom[i]['restaurant']['cuisines'].split(',')\n",
    "    for j in range(len(cuisines)):\n",
    "        rowcategory.append(str(resid)+','+cuisines[j]+'\\n')\n",
    "        \n",
    "    \n",
    "with open('Other Files\\\\RestaurantCategory_Zomato.csv', 'w',encoding='utf-8') as csv_file:\n",
    "    for a in rowcategory:\n",
    "        csv_file.write(a)\n",
    "    "
   ]
  },
  {
   "cell_type": "code",
   "execution_count": 20,
   "metadata": {
    "collapsed": true
   },
   "outputs": [],
   "source": [
    "path='Data\\\\Yelp Data'\n",
    "datapath = [os.path.join(root, name)\n",
    "            for root, dirs, files in os.walk(path)\n",
    "            for name in files\n",
    "            if name.endswith((\".json\", \".jsons\"))]\n",
    "\n",
    "datatiming=[]\n",
    "for js in datapath:\n",
    "    with open(js) as json_file:\n",
    "        datatiming.append(json.load(json_file))\n",
    "\n",
    "rowtiming=[]\n",
    "rowtiming.append('id,city,county,day,start,end,overnight\\n')\n",
    "for i in range(len(datatiming)):\n",
    "    idval=datatiming[i]['id']\n",
    "    city=datatiming[i]['location']['city']\n",
    "    country=datatiming[i]['location']['country']\n",
    "    if 'hours' in datatiming[i].keys():\n",
    "            for j in range(len(datatiming[i]['hours'][0]['open'])):\n",
    "                    day=datatiming[i]['hours'][0]['open'][j]['day']\n",
    "                    start=str(datatiming[i]['hours'][0]['open'][j]['start'])\n",
    "                    end=str(datatiming[i]['hours'][0]['open'][j]['end'])\n",
    "                    overnight=datatiming[i]['hours'][0]['open'][j]['is_overnight']\n",
    "                    rowtiming.append(str(idval)+','+str(city)+','+str(country)+','+str(day)+','+str(start)+','+str(end)+','+str(overnight)+'\\n')\n",
    "\n",
    "with open('Other Files\\\\Restaurant_Open_Hours.csv', 'w',encoding='utf-8') as csv_file:\n",
    "    for a in rowtiming:\n",
    "        csv_file.write(a)"
   ]
  },
  {
   "cell_type": "code",
   "execution_count": 21,
   "metadata": {
    "collapsed": true
   },
   "outputs": [],
   "source": [
    "path='Data\\\\Yelp Data Reviews'\n",
    "datapath = [os.path.join(root, name)\n",
    "            for root, dirs, files in os.walk(path)\n",
    "            for name in files\n",
    "            if name.endswith((\".json\", \".jsons\"))]\n",
    "\n",
    "\n",
    "\n",
    "reviews=[]\n",
    "for js in datapath:\n",
    "    with open(js) as json_file:\n",
    "        reviews.append(json.load(json_file))"
   ]
  },
  {
   "cell_type": "code",
   "execution_count": 27,
   "metadata": {
    "collapsed": false
   },
   "outputs": [
    {
     "data": {
      "text/plain": [
       "{'rating': 4,\n",
       " 'restaurant_id': '80-proof-sydney',\n",
       " 'text': \"Right under my nose! like literally. My colleagues who are regulars here highly recommended this place and yeah they know good food! So yeah what's a veggie...\",\n",
       " 'time_created': '2015-04-15 03:37:53',\n",
       " 'url': 'https://www.yelp.com/biz/80-proof-sydney?hrid=3vJHJ9f-mi5enp0R4I_F7w&adjust_creative=92p07_JjKyriZTQxAXRiKQ&utm_campaign=yelp_api_v3&utm_medium=api_v3_business_reviews&utm_source=92p07_JjKyriZTQxAXRiKQ',\n",
       " 'user': {'image_url': 'https://s3-media3.fl.yelpcdn.com/photo/FU8eJjqo_cS4QFyYBetXgw/o.jpg',\n",
       "  'name': 'Divya G.'}}"
      ]
     },
     "execution_count": 27,
     "metadata": {},
     "output_type": "execute_result"
    }
   ],
   "source": [
    "reviews[0]"
   ]
  },
  {
   "cell_type": "code",
   "execution_count": 30,
   "metadata": {
    "collapsed": true
   },
   "outputs": [],
   "source": [
    "rowcategory=[]\n",
    "rowcategory.append('id,rating,time_created,text\\n')\n",
    "for i in range(len(reviews)):\n",
    "    id1=reviews[i]['restaurant_id']\n",
    "    rating=reviews[i]['rating']\n",
    "    time=reviews[i]['time_created']\n",
    "    text=reviews[i]['text'].replace(',','').replace('\\n','')\n",
    "    rowcategory.append(str(id1)+','+str(rating)+','+str(time)+','+text+'\\n')\n",
    "\n",
    "with open('Other Files\\\\Reviews_Yelp.csv', 'w',encoding='utf-8') as csv_file:\n",
    "    for a in rowcategory:\n",
    "        csv_file.write(a)"
   ]
  },
  {
   "cell_type": "code",
   "execution_count": null,
   "metadata": {
    "collapsed": true
   },
   "outputs": [],
   "source": []
  }
 ],
 "metadata": {
  "anaconda-cloud": {},
  "kernelspec": {
   "display_name": "Python [conda root]",
   "language": "python",
   "name": "conda-root-py"
  },
  "language_info": {
   "codemirror_mode": {
    "name": "ipython",
    "version": 3
   },
   "file_extension": ".py",
   "mimetype": "text/x-python",
   "name": "python",
   "nbconvert_exporter": "python",
   "pygments_lexer": "ipython3",
   "version": "3.5.2"
  }
 },
 "nbformat": 4,
 "nbformat_minor": 1
}
