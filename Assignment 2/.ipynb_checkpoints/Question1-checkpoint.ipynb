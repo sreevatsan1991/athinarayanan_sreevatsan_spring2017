{
 "cells": [
  {
   "cell_type": "code",
   "execution_count": 10,
   "metadata": {
    "collapsed": false
   },
   "outputs": [],
   "source": [
    "import glob\n",
    "import fileinput\n",
    "input_lines = []\n",
    "for file in glob.glob(\"D:/nltk_data/corpora/gutenberg/*.txt\", recursive = True):\n",
    "        with open('result.txt', 'w') as f:\n",
    "            input_lines.extend(fileinput.input(file))\n",
    "            f.writelines(input_lines)\n"
   ]
  },
  {
   "cell_type": "code",
   "execution_count": 11,
   "metadata": {
    "collapsed": false
   },
   "outputs": [],
   "source": [
    "#using function \n",
    "from operator import itemgetter\n",
    "dic = {}\n",
    "\n",
    "def word_gen(file):\n",
    "    contents = fu.read()\n",
    "    for word in contents.split():\n",
    "        word = word.lower()\n",
    "        import string\n",
    "        for c in string.punctuation:\n",
    "            word= word.replace(c,\"\")\n",
    "    \n",
    "# check for words in () or []\n",
    "        if word.startswith('[') or word.startswith('('):\n",
    "            word = word[1:]\n",
    "        if word.endswith(']') or word.endswith(')'):\n",
    "            word = word[:-1]\n",
    "        \n",
    "# check for words that end with punctuation\n",
    "        if word.endswith('.') or word.endswith(',') or word.endswith(';') or word.endswith(':'):\n",
    "            word = word[:-1]\n",
    "# if word is in dictionary, increment the value\n",
    "# otherwise add the word to dictionary with value 1\n",
    "        if word.isalpha()==True:\n",
    "            if word in dic:\n",
    "                dic[word] += 1\n",
    "            else:\n",
    "                dic[word] = 1\n",
    "        \n",
    "# this prints the dict out sorted by value\n",
    "    top_words = sorted(dic.items(), key=itemgetter(1), reverse=True)[:200]\n",
    "    for word, frequency in top_words:\n",
    "        print (\"%s %d\" % (word, frequency))\n",
    "        return dic\n"
   ]
  },
  {
   "cell_type": "code",
   "execution_count": 12,
   "metadata": {
    "collapsed": false
   },
   "outputs": [
    {
     "name": "stdout",
     "output_type": "stream",
     "text": [
      "the 133211\n"
     ]
    }
   ],
   "source": [
    "fu = open(\"result.txt\",\"r\")\n",
    "var = word_gen(fu)"
   ]
  },
  {
   "cell_type": "code",
   "execution_count": 13,
   "metadata": {
    "collapsed": false
   },
   "outputs": [
    {
     "data": {
      "text/plain": [
       "53328"
      ]
     },
     "execution_count": 13,
     "metadata": {},
     "output_type": "execute_result"
    }
   ],
   "source": [
    "len(var)"
   ]
  },
  {
   "cell_type": "code",
   "execution_count": 16,
   "metadata": {
    "collapsed": false
   },
   "outputs": [],
   "source": [
    "rankassignment={key: rank for rank, key in enumerate(sorted(var, key=var.get, reverse=True), 1)}"
   ]
  },
  {
   "cell_type": "code",
   "execution_count": 32,
   "metadata": {
    "collapsed": false
   },
   "outputs": [],
   "source": [
    "newdict={}\n",
    "for k,v in rankassignment.items():\n",
    "    if(k in var.keys()):\n",
    "        #print(k,v)\n",
    "        newdict[v]={}\n",
    "        newdict[v]['word']=k\n",
    "        newdict[v]['freq']=var[k]\n",
    "    else:\n",
    "        break\n",
    "        "
   ]
  },
  {
   "cell_type": "code",
   "execution_count": 41,
   "metadata": {
    "collapsed": false
   },
   "outputs": [],
   "source": [
    "import csv\n",
    "row=[]\n",
    "row.append('word,frequency,rank\\n')\n",
    "for k,v in newdict.items():\n",
    "    var1=v['word']\n",
    "    var2=v['freq']\n",
    "    var3=k\n",
    "    row.append(str(var1)+','+str(var2)+','+str(var3)+'\\n')\n",
    "\n",
    "with open('rank.csv','w') as csv_file:\n",
    "    for i in row:\n",
    "        csv_file.write(i)"
   ]
  },
  {
   "cell_type": "code",
   "execution_count": 38,
   "metadata": {
    "collapsed": false
   },
   "outputs": [],
   "source": [
    "from pylab import *\n",
    "import matplotlib.pyplot as plt\n",
    "import csv"
   ]
  },
  {
   "cell_type": "code",
   "execution_count": 40,
   "metadata": {
    "collapsed": false
   },
   "outputs": [
    {
     "data": {
      "image/png": "[encoded data removed]",
      "text/plain": [
       "<matplotlib.figure.Figure at 0x185131a6940>"
      ]
     },
     "metadata": {},
     "output_type": "display_data"
    }
   ],
   "source": [
    "rank = []\n",
    "freq = []\n",
    "with open(\"C:/Users/vs/Documents/Python Scripts/Assignment 2/rank.csv\") as file:\n",
    "    file1 = csv.reader(file)\n",
    "    next(file1)\n",
    "    for r in file1:\n",
    "        freq.append(int(r[1]))\n",
    "        rank.append(int(r[2]))\n",
    "    plt.loglog(rank[:], freq[:], linewidth=2.0)\n",
    "    xlabel('rank')\n",
    "    ylabel('frequency')\n",
    "    title('rank-frequency curve ')\n",
    "    grid(True)\n",
    "    savefig('C:/Users/vs/Documents/Python Scripts/Assignment 2/graph.png')\n",
    "    show()"
   ]
  }
 ],
 "metadata": {
  "anaconda-cloud": {},
  "kernelspec": {
   "display_name": "Python [conda root]",
   "language": "python",
   "name": "conda-root-py"
  },
  "language_info": {
   "codemirror_mode": {
    "name": "ipython",
    "version": 3
   },
   "file_extension": ".py",
   "mimetype": "text/x-python",
   "name": "python",
   "nbconvert_exporter": "python",
   "pygments_lexer": "ipython3",
   "version": "3.5.2"
  }
 },
 "nbformat": 4,
 "nbformat_minor": 1
}
