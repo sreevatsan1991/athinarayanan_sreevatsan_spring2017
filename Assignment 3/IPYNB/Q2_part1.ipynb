{
 "cells": [
  {
   "cell_type": "code",
   "execution_count": 2,
   "metadata": {
    "collapsed": true
   },
   "outputs": [],
   "source": [
    "import pandas as pd"
   ]
  },
  {
   "cell_type": "code",
   "execution_count": 3,
   "metadata": {
    "collapsed": false
   },
   "outputs": [],
   "source": [
    "df = pd.read_csv(\"Data/employee_compensation.csv\")"
   ]
  },
  {
   "cell_type": "code",
   "execution_count": 9,
   "metadata": {
    "collapsed": false
   },
   "outputs": [],
   "source": [
    "df1 = df.groupby(['Organization Group','Department'], as_index=False)['Total Compensation'].mean()"
   ]
  },
  {
   "cell_type": "code",
   "execution_count": 25,
   "metadata": {
    "collapsed": false
   },
   "outputs": [],
   "source": [
    "df2=df1.sort_values(['Organization Group','Total Compensation'],ascending=[True,False])"
   ]
  },
  {
   "cell_type": "code",
   "execution_count": 26,
   "metadata": {
    "collapsed": true
   },
   "outputs": [],
   "source": [
    "df3= df2.reset_index(level=0,drop=True)"
   ]
  },
  {
   "cell_type": "code",
   "execution_count": null,
   "metadata": {
    "collapsed": true
   },
   "outputs": [],
   "source": [
    "print(df3.head(20))"
   ]
  },
  {
   "cell_type": "code",
   "execution_count": 27,
   "metadata": {
    "collapsed": false
   },
   "outputs": [
    {
     "data": {
      "text/html": [
       "<div>\n",
       "<table border=\"1\" class=\"dataframe\">\n",
       "  <thead>\n",
       "    <tr style=\"text-align: right;\">\n",
       "      <th></th>\n",
       "      <th>Organization Group</th>\n",
       "      <th>Department</th>\n",
       "      <th>Total Compensation</th>\n",
       "    </tr>\n",
       "  </thead>\n",
       "  <tbody>\n",
       "    <tr>\n",
       "      <th>0</th>\n",
       "      <td>Community Health</td>\n",
       "      <td>Public Health</td>\n",
       "      <td>96190.190140</td>\n",
       "    </tr>\n",
       "    <tr>\n",
       "      <th>1</th>\n",
       "      <td>Culture &amp; Recreation</td>\n",
       "      <td>Law Library</td>\n",
       "      <td>188424.362222</td>\n",
       "    </tr>\n",
       "    <tr>\n",
       "      <th>2</th>\n",
       "      <td>Culture &amp; Recreation</td>\n",
       "      <td>Academy of Sciences</td>\n",
       "      <td>107319.727692</td>\n",
       "    </tr>\n",
       "    <tr>\n",
       "      <th>3</th>\n",
       "      <td>Culture &amp; Recreation</td>\n",
       "      <td>Arts Commission</td>\n",
       "      <td>94339.597388</td>\n",
       "    </tr>\n",
       "    <tr>\n",
       "      <th>4</th>\n",
       "      <td>Culture &amp; Recreation</td>\n",
       "      <td>War Memorial</td>\n",
       "      <td>76250.068022</td>\n",
       "    </tr>\n",
       "    <tr>\n",
       "      <th>5</th>\n",
       "      <td>Culture &amp; Recreation</td>\n",
       "      <td>Asian Art Museum</td>\n",
       "      <td>71401.520060</td>\n",
       "    </tr>\n",
       "    <tr>\n",
       "      <th>6</th>\n",
       "      <td>Culture &amp; Recreation</td>\n",
       "      <td>Public Library</td>\n",
       "      <td>70446.352147</td>\n",
       "    </tr>\n",
       "    <tr>\n",
       "      <th>7</th>\n",
       "      <td>Culture &amp; Recreation</td>\n",
       "      <td>Fine Arts Museum</td>\n",
       "      <td>44205.439895</td>\n",
       "    </tr>\n",
       "    <tr>\n",
       "      <th>8</th>\n",
       "      <td>Culture &amp; Recreation</td>\n",
       "      <td>Recreation and Park Commission</td>\n",
       "      <td>38912.859465</td>\n",
       "    </tr>\n",
       "    <tr>\n",
       "      <th>9</th>\n",
       "      <td>General Administration &amp; Finance</td>\n",
       "      <td>City Attorney</td>\n",
       "      <td>166082.677561</td>\n",
       "    </tr>\n",
       "  </tbody>\n",
       "</table>\n",
       "</div>"
      ],
      "text/plain": [
       "                 Organization Group                      Department  \\\n",
       "0                  Community Health                   Public Health   \n",
       "1              Culture & Recreation                     Law Library   \n",
       "2              Culture & Recreation             Academy of Sciences   \n",
       "3              Culture & Recreation                 Arts Commission   \n",
       "4              Culture & Recreation                    War Memorial   \n",
       "5              Culture & Recreation                Asian Art Museum   \n",
       "6              Culture & Recreation                  Public Library   \n",
       "7              Culture & Recreation                Fine Arts Museum   \n",
       "8              Culture & Recreation  Recreation and Park Commission   \n",
       "9  General Administration & Finance                   City Attorney   \n",
       "\n",
       "   Total Compensation  \n",
       "0        96190.190140  \n",
       "1       188424.362222  \n",
       "2       107319.727692  \n",
       "3        94339.597388  \n",
       "4        76250.068022  \n",
       "5        71401.520060  \n",
       "6        70446.352147  \n",
       "7        44205.439895  \n",
       "8        38912.859465  \n",
       "9       166082.677561  "
      ]
     },
     "execution_count": 27,
     "metadata": {},
     "output_type": "execute_result"
    }
   ],
   "source": [
    "df3.to_csv('Output\\Question2_part1.csv')"
   ]
  },
  {
   "cell_type": "code",
   "execution_count": null,
   "metadata": {
    "collapsed": true
   },
   "outputs": [],
   "source": []
  }
 ],
 "metadata": {
  "anaconda-cloud": {},
  "kernelspec": {
   "display_name": "Python [conda root]",
   "language": "python",
   "name": "conda-root-py"
  },
  "language_info": {
   "codemirror_mode": {
    "name": "ipython",
    "version": 3
   },
   "file_extension": ".py",
   "mimetype": "text/x-python",
   "name": "python",
   "nbconvert_exporter": "python",
   "pygments_lexer": "ipython3",
   "version": "3.5.2"
  }
 },
 "nbformat": 4,
 "nbformat_minor": 1
}
